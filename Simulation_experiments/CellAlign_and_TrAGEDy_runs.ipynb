{
 "cells": [
  {
   "cell_type": "markdown",
   "id": "stupid-pressing",
   "metadata": {},
   "source": [
    "# CellAlign DTW alignment and TrAGEDy post-hoc processed DTW alignment runs on simulated datasets for benchmarking"
   ]
  },
  {
   "cell_type": "markdown",
   "id": "contained-blink",
   "metadata": {},
   "source": [
    "### Installed and followed documentation of CellAlign from https://github.com/shenorrLabTRDF/cellAlign\n",
    "CellAlign reference: Alpert, A., Moore, L.S., Dubovik, T. and Shen-Orr, S.S., 2018. Alignment of single-cell trajectories to compare cellular expression dynamics. Nature methods, 15(4), pp.267-270.\n",
    "### Used source and followed documentation of TrAGEDy from https://github.com/No2Ross/TrAGEDy\n",
    "TrAGEDy reference: Laidlaw, R.F., Briggs, E.M., Matthews, K.R., McCulloch, R. and Otto, T.D., 2022. TrAGEDy: Trajectory Alignment of Gene Expression Dynamics. bioRxiv, pp.2022-12."
   ]
  },
  {
   "cell_type": "code",
   "execution_count": 1,
   "id": "parental-patch",
   "metadata": {},
   "outputs": [],
   "source": [
    "suppressMessages({library(sceasy)\n",
    "library(r2r)\n",
    "library(reticulate)\n",
    "library(pheatmap)\n",
    "library(cellAlign)\n",
    "library(r2r)\n",
    "library(RColorBrewer)\n",
    "library(Seurat)\n",
    "library(SingleCellExperiment)\n",
    "library(ggplot2)\n",
    "library(dplyr)\n",
    "library(stats)\n",
    "library(stringr)           \n",
    "})\n",
    "# Source ref:\n",
    "# https://github.com/No2Ross/TrAGEDy/blob/304dd27949858748c1bce04bf22dd8b6a1d159b3/TrAGEDy_functions.R\n",
    "source(\"TrAGEDy/TrAGEDy_functions.R\")\n",
    "#source(\"TrAGEDy/TrAGEDy_functions)old.R\")\n",
    "\n",
    "#py_install(\"anndata\") # <--- did this and reticulate started to work without any error \n",
    "##reticulate::use_condaenv(\"../my-conda-envs/r-sceasy\")\n",
    "#reticulate::py_discover_config() <-- reticulate path is r-miniconda python which is different from conda env python -- need to check how to change it\n",
    "# otherwise it works only for anndata v0.75 format\n",
    "#R = sceasy::convertFormat('../[G2G]New_scripts/SimulationData/ref_Div05.h5ad', from=\"anndata\", to=\"seurat\")\n",
    "\n",
    "# Function to generate 3-state alignment string from CellAlign DTW alignment output\n",
    "get_3_state_alignment_str <- function(alignment){\n",
    "\n",
    "    T_matched <- alignment$align[[1]]$index1 # query in index 1\n",
    "    S_matched <- alignment$align[[1]]$index2 # ref in index 2\n",
    "    \n",
    "    prev_Sc = ''\n",
    "    prev_Tc = ''\n",
    "    al_str = ''\n",
    "    for (x in 1:length(T_matched)) {\n",
    "        curr_S = S_matched[x]\n",
    "        curr_T = T_matched[x]\n",
    "\n",
    "        if(prev_Sc == '' & prev_Tc==''){\n",
    "            al_str = paste(al_str, 'M')\n",
    "        }else if(curr_S == prev_Sc){ # warp insert \n",
    "            al_str = paste(al_str, 'V')\n",
    "        }else if(curr_T == prev_Tc){ # warp delete \n",
    "            al_str = paste(al_str, 'W')\n",
    "        }else{\n",
    "            al_str = paste(al_str, 'M')\n",
    "        }\n",
    "      prev_Sc = S_matched[x]\n",
    "      prev_Tc = T_matched[x]\n",
    "    } \n",
    "    return(al_str)\n",
    "}\n",
    "# plotting function from CellAlign --- only modified to plot a black color alignment path\n",
    "plotAlign <- function(alignment){\n",
    "\n",
    "  costMat = alignment$localCostMatrix\n",
    "  costMat = t(apply(costMat,1,function(x){return(as.numeric(x))}))\n",
    "  linearInd = cellAlign::sub2ind(nrow(costMat), alignment$align[[1]]$index1, alignment$align[[1]]$index2)\n",
    "  costMat[linearInd] = NA\n",
    "  costMat = data.frame(costMat, row.names=1:nrow(costMat))\n",
    "  colnames(costMat) = 1:ncol(costMat)\n",
    "    \n",
    "  #for global alignment, where there is a pseudotime shift vector:\n",
    "  if(!is.null(alignment$ptShift)){\n",
    "    annotCols = data.frame(ptShift = abs(alignment$ptShift),row.names = colnames(costMat))\n",
    "\n",
    "    phm = pheatmap(costMat, cluster_cols = F, cluster_rows=F, border_color = NA, main = 'alignment plot',\n",
    "             show_rownames = T, show_colnames = T, annotation_col = annotCols,na_col = \"black\")#, filename=filename)\n",
    "\n",
    "  }else{\n",
    "    phm = pheatmap(costMat, cluster_cols = F, cluster_rows=F, border_color = NA, main = 'alignment plot', \n",
    "                   show_rownames = T, show_colnames = T,na_col = \"black\")#, filename=filename)\n",
    "  }\n",
    "}\n",
    "# plotting function from CellAlign --- only modified to plot a black color alignment path\n",
    "plotAlign2 <- function(alignment){\n",
    "\n",
    "  costMat = alignment$localCostMatrix\n",
    "  costMat = t(apply(costMat,1,function(x){return(as.numeric(x))}))\n",
    "  #linearInd = sub2ind(nrow(costMat), alignment$align[[1]]$index1, alignment$align[[1]]$index2)\n",
    "  #costMat[linearInd] = NA\n",
    "  costMat = data.frame(costMat, row.names=1:nrow(costMat))\n",
    "  colnames(costMat) = 1:ncol(costMat)\n",
    "    \n",
    "  #for global alignment, where there is a pseudotime shift vector:\n",
    "  if(!is.null(alignment$ptShift)){\n",
    "    annotCols = data.frame(ptShift = abs(alignment$ptShift),row.names = colnames(costMat))\n",
    "\n",
    "    phm = pheatmap(costMat, cluster_cols = F, cluster_rows=F, border_color = NA, main = 'alignment plot',\n",
    "             show_rownames = T, show_colnames = T, annotation_col = annotCols,na_col = \"black\")#, filename=filename)\n",
    "\n",
    "  }else{\n",
    "    phm = pheatmap(costMat, cluster_cols = F, cluster_rows=F, border_color = NA, main = 'alignment plot', \n",
    "                   show_rownames = T, show_colnames = T,na_col = \"black\")#, filename=filename)\n",
    "  }\n",
    "}\n",
    "# plotting function from CellAlign --- only modified to plot a black color alignment path\n",
    "plotAlign_save <- function(alignment, filename){\n",
    "\n",
    "  costMat = alignment$localCostMatrix\n",
    "  costMat = t(apply(costMat,1,function(x){return(as.numeric(x))}))\n",
    "  linearInd = cellAlign::sub2ind(nrow(costMat), alignment$align[[1]]$index1, alignment$align[[1]]$index2)\n",
    "  costMat[linearInd] = NA\n",
    "  costMat = data.frame(costMat, row.names=1:nrow(costMat))\n",
    "  colnames(costMat) = 1:ncol(costMat)\n",
    "    \n",
    "  #for global alignment, where there is a pseudotime shift vector:\n",
    "  if(!is.null(alignment$ptShift)){\n",
    "    annotCols = data.frame(ptShift = abs(alignment$ptShift),row.names = colnames(costMat))\n",
    "\n",
    "    phm = pheatmap(costMat, cluster_cols = F, cluster_rows=F, border_color = NA, main = 'alignment plot',\n",
    "             show_rownames = T, show_colnames = T, annotation_col = annotCols,na_col = \"black\", filename=filename)\n",
    "\n",
    "  }else{\n",
    "    phm = pheatmap(costMat, cluster_cols = F, cluster_rows=F, border_color = NA, main = 'alignment plot', \n",
    "                   show_rownames = T, show_colnames = T,na_col = \"black\", filename=filename)\n",
    "  }\n",
    "}\n",
    "\n",
    "# wrapper function to run CellAlign high-dimensional alignment on all genes\n",
    "run_global_dtw <- function(GENE, interGlobalLPS, interGlobalPAM, interScaledGlobalLPS, interScaledGlobalPAM ){\n",
    "    # ' @param x query data matrix,  @param y reference data matrix\n",
    "    # columns --- PAM (REFERENCE)\n",
    "    # rows --- LPS (QUERY)\n",
    "    alignment = cellAlign::globalAlign(interGlobalLPS$interpolatedVals[GENE,], interGlobalPAM$interpolatedVals[GENE,],\n",
    "                                       scores = list(query = interScaledGlobalLPS$traj, \n",
    "                                                     ref = interScaledGlobalPAM$traj),\n",
    "                                       sigCalc = F, numPerm = 20)\n",
    "    return(alignment)\n",
    "}\n",
    "\n",
    "# wrapper function to run CellAlign high-dimensional alignment on all genes\n",
    "run_global_dtw_all_genes <- function(interGlobalLPS, interGlobalPAM, interScaledGlobalLPS, interScaledGlobalPAM ){\n",
    "    # ' @param x query data matrix,  @param y reference data matrix\n",
    "    # columns --- PAM (REFERENCE)\n",
    "    # rows --- LPS (QUERY)\n",
    "    alignment = cellAlign::globalAlign(interGlobalLPS$interpolatedVals, interGlobalPAM$interpolatedVals,\n",
    "                                       scores = list(query = interScaledGlobalLPS$traj, \n",
    "                                                     ref = interScaledGlobalPAM$traj),\n",
    "                                       sigCalc = F, numPerm = 20)\n",
    "    return(alignment)\n",
    "}\n",
    "\n",
    "# function to get the 5-state string described by TrAGEDy alignment\n",
    "get_5_state_alignment_str <- function(path_cut){\n",
    "    # ref: path_cut$X (WT)\n",
    "    # query: path_cut$Y (KO)\n",
    "    timepoints_S <- strsplit(path_cut$X,'_')\n",
    "    timepoints_T <- strsplit(path_cut$Y,'_')\n",
    "    if(length(timepoints_S) != length(timepoints_T)){\n",
    "       stop(\"error message to print\")   \n",
    "    }\n",
    "    prev_tS = -1\n",
    "    prev_tT = -1\n",
    "    al_str <- ''\n",
    "    for (i in 1:length(timepoints_S)){\n",
    "        tS = strtoi(timepoints_S[i][[1]][2])\n",
    "        tT = strtoi(timepoints_T[i][[1]][2])\n",
    "\n",
    "        # process terminal mismatch at the start if exists\n",
    "        if(i==1){\n",
    "            if(tS!=1){\n",
    "                j=1\n",
    "                while(j<tS){\n",
    "                    #print('D')\n",
    "                    al_str <- paste(al_str, 'D')\n",
    "                    j<-j+1\n",
    "                }\n",
    "            }\n",
    "            if(tT!=1){\n",
    "                j=1\n",
    "                while(j<tT){\n",
    "                    #print('I')\n",
    "                    al_str <- paste(al_str, 'I')\n",
    "                    j<-j+1\n",
    "                }\n",
    "            }\n",
    "        }\n",
    "        if(path_cut$Status[i]=='match'){\n",
    "            if(prev_tT == tT){\n",
    "                #print(paste('W',' ',tS,' ',tT))\n",
    "                al_str <- paste(al_str, 'W')\n",
    "            }else if(prev_tS==tS){\n",
    "                #print(paste('V',' ',tS,' ',tT))\n",
    "                al_str <- paste(al_str, 'V')\n",
    "            }else{\n",
    "                #print(paste('M',' ',tS,' ',tT))\n",
    "                al_str <- paste(al_str, 'M')\n",
    "            }\n",
    "            prev_tT = tT\n",
    "            prev_tS = tS\n",
    "\n",
    "        }else{ # cut\n",
    "            if(prev_tT != tT){\n",
    "                #print(paste('I',' ',tT))\n",
    "                al_str <- paste(al_str, 'I')\n",
    "            }\n",
    "            if(prev_tS != tS){\n",
    "                #print(paste('D',' ',tS))\n",
    "                al_str <- paste(al_str, 'D')\n",
    "            }\n",
    "            prev_tT = tT\n",
    "            prev_tS = tS\n",
    "        }\n",
    "        # process terminal mimatch if exists\n",
    "        if(i==length(timepoints_S)){\n",
    "            if(tS!=npts){\n",
    "                j=1\n",
    "                while(j<=(npts-tS)){\n",
    "                    #print(paste('D', ' ',tS))\n",
    "                    al_str <- paste(al_str, 'D')\n",
    "                    j<-j+1\n",
    "                }\n",
    "            }\n",
    "            if(tT!=npts){\n",
    "                j=1\n",
    "                while(j<= (npts-tT) ){\n",
    "                    #print(paste('I', ' ',tT))\n",
    "                    al_str <- paste(al_str, 'I')\n",
    "                    j<-j+1\n",
    "                }\n",
    "            }\n",
    "        }\n",
    "    }\n",
    "    return(al_str)\n",
    "}\n",
    "\n",
    "\n",
    "run_tragedy_DTW <- function(GENE, cut_type, distance_metric, plot=FALSE){\n",
    "\n",
    "    KO_node_exp_mtx_g <- as(matrix(KO_node_exp_mtx[unique(c(GENE)), ], nrow=1), 'dgeMatrix')\n",
    "    WT_node_exp_mtx_g <- as(matrix(WT_node_exp_mtx[unique(c(GENE)), ], nrow=1), 'dgeMatrix')\n",
    "    rownames(KO_node_exp_mtx_g) = c(GENE)\n",
    "    colnames(KO_node_exp_mtx_g) = colnames(KO_node_exp_mtx)\n",
    "    rownames(WT_node_exp_mtx_g) = c(GENE)\n",
    "    colnames(WT_node_exp_mtx_g) = colnames(WT_node_exp_mtx)\n",
    "\n",
    "    distance_metric = 'euclidean'\n",
    "    dis_matrix <- dis_mtx_calculator(as.matrix(WT_node_exp_mtx_g), as.matrix(KO_node_exp_mtx_g), distance_metric) \n",
    "    # NOTE: Spearman does not work for single gene alignment\n",
    "    path_uncut <- pathfind(dis_matrix, cut_type = cut_type, method = \"mean\")\n",
    "    path_cut <- cut_deviate(path_uncut, dis_matrix, method = \"mean\")\n",
    "    if(plot){\n",
    "        PlotOutput(WT_tree, KO_tree, path_cut)\n",
    "        PlotAlignment(path_cut, dis_matrix)\n",
    "    }\n",
    "    return(path_cut)\n",
    "} \n",
    "\n",
    "run_tragedy_DTW_celllevel <- function(WT_node_exp_mtx_g, KO_node_exp_mtx_g, cut_type, distance_metric, plot=FALSE){\n",
    "\n",
    "    dis_matrix <- dis_mtx_calculator(as.matrix(WT_node_exp_mtx_g), as.matrix(KO_node_exp_mtx_g), distance_metric) \n",
    "    # NOTE: Spearman does not work for single gene alignment\n",
    "    path_uncut <- pathfind(dis_matrix, cut_type = cut_type, method = \"mean\")\n",
    "    path_cut <- cut_deviate(path_uncut, dis_matrix, method = \"mean\")\n",
    "    #PlotOutput(WT_tree, KO_tree, path_cut)\n",
    "    if(plot){\n",
    "        PlotOutput(WT_tree, KO_tree, path_cut)\n",
    "        PlotAlignment(path_cut, dis_matrix)\n",
    "    }\n",
    "    return(path_cut)\n",
    "    \n",
    "}"
   ]
  },
  {
   "cell_type": "markdown",
   "id": "understanding-narrow",
   "metadata": {},
   "source": [
    "# Testing Negative control data with CellAlign and TrAGEDy\n",
    "(generated dataset using TrAGEDy DynGen script)"
   ]
  },
  {
   "cell_type": "code",
   "execution_count": 63,
   "id": "breathing-million",
   "metadata": {},
   "outputs": [
    {
     "name": "stderr",
     "output_type": "stream",
     "text": [
      "X -> counts\n",
      "\n",
      "X -> counts\n",
      "\n"
     ]
    }
   ],
   "source": [
    "R = sceasy::convertFormat('DynGenSimulatedData/adata_negative_control_1.h5ad', from=\"anndata\", to=\"seurat\")\n",
    "Q = sceasy::convertFormat('DynGenSimulatedData/adata_negative_control_2.h5ad', from=\"anndata\", to=\"seurat\")\n",
    "R_data = R@assays$RNA@data\n",
    "Q_data = Q@assays$RNA@data\n",
    "R_time = R$time\n",
    "Q_time = Q$time"
   ]
  },
  {
   "cell_type": "code",
   "execution_count": 64,
   "id": "statewide-separation",
   "metadata": {},
   "outputs": [
    {
     "data": {
      "text/html": [
       "<style>\n",
       ".list-inline {list-style: none; margin:0; padding: 0}\n",
       ".list-inline>li {display: inline-block}\n",
       ".list-inline>li:not(:last-child)::after {content: \"\\00b7\"; padding: 0 .5ex}\n",
       "</style>\n",
       "<ol class=list-inline><li>619</li><li>2000</li></ol>\n"
      ],
      "text/latex": [
       "\\begin{enumerate*}\n",
       "\\item 619\n",
       "\\item 2000\n",
       "\\end{enumerate*}\n"
      ],
      "text/markdown": [
       "1. 619\n",
       "2. 2000\n",
       "\n",
       "\n"
      ],
      "text/plain": [
       "[1]  619 2000"
      ]
     },
     "metadata": {},
     "output_type": "display_data"
    },
    {
     "data": {
      "text/html": [
       "<style>\n",
       ".list-inline {list-style: none; margin:0; padding: 0}\n",
       ".list-inline>li {display: inline-block}\n",
       ".list-inline>li:not(:last-child)::after {content: \"\\00b7\"; padding: 0 .5ex}\n",
       "</style>\n",
       "<ol class=list-inline><li>619</li><li>1940</li></ol>\n"
      ],
      "text/latex": [
       "\\begin{enumerate*}\n",
       "\\item 619\n",
       "\\item 1940\n",
       "\\end{enumerate*}\n"
      ],
      "text/markdown": [
       "1. 619\n",
       "2. 1940\n",
       "\n",
       "\n"
      ],
      "text/plain": [
       "[1]  619 1940"
      ]
     },
     "metadata": {},
     "output_type": "display_data"
    }
   ],
   "source": [
    "dim(R)\n",
    "dim(Q)"
   ]
  },
  {
   "cell_type": "code",
   "execution_count": 65,
   "id": "duplicate-anthropology",
   "metadata": {},
   "outputs": [
    {
     "name": "stdout",
     "output_type": "stream",
     "text": [
      "[1] \"CellAlign DTW alignment:   M W W W W M V V V V V V V V W W W W W M V W W V V V W\"\n"
     ]
    }
   ],
   "source": [
    "numPts = 15\n",
    "npts = numPts\n",
    "# RUN CellAlign\n",
    "interGlobalPAM = cellAlign::interWeights(expDataBatch = R_data, trajCond = R_time,\n",
    "                                             winSz = 0.1, numPts = numPts)\n",
    "interGlobalLPS = cellAlign::interWeights(expDataBatch = Q_data, trajCond = Q_time,\n",
    "                                                 winSz = 0.1, numPts = numPts)\n",
    "interScaledGlobalLPS = cellAlign::scaleInterpolate(interGlobalLPS)\n",
    "interScaledGlobalPAM = cellAlign::scaleInterpolate(interGlobalPAM)\n",
    "alignment = suppressMessages(run_global_dtw_all_genes(interGlobalLPS, interGlobalPAM, interScaledGlobalLPS, interScaledGlobalPAM )) \n",
    "al_str = get_3_state_alignment_str(alignment)\n",
    "print(paste('CellAlign DTW alignment: ', al_str))"
   ]
  },
  {
   "cell_type": "code",
   "execution_count": 67,
   "id": "utility-designation",
   "metadata": {},
   "outputs": [
    {
     "name": "stdout",
     "output_type": "stream",
     "text": [
      "[1] \"HK118  -   M W W W W W W V V V V V V V V V V V V W W W W W W W W V V\"\n",
      "[1] \"HK110  -   M W M V V V V V V V V V V V V V W W W W W W W W W W W W\"\n",
      "[1] \"HK45  -   M W W W W M V V V V V V V V V V V V V W W W W W W W W W\"\n"
     ]
    }
   ],
   "source": [
    "for (g in c('HK118', 'HK110', 'HK45')){\n",
    "    alignment = suppressMessages(run_global_dtw(g, interGlobalLPS, interGlobalPAM, interScaledGlobalLPS, interScaledGlobalPAM )) \n",
    "    al_str = get_3_state_alignment_str(alignment)\n",
    "    print(paste(g,' - ' , al_str))\n",
    "}"
   ]
  },
  {
   "cell_type": "code",
   "execution_count": 59,
   "id": "respective-speech",
   "metadata": {},
   "outputs": [],
   "source": [
    "numPts = 15\n",
    "npts = numPts\n",
    "\n",
    "# RUN TrAGEDy\n",
    "dev.new()\n",
    "pseudo_end <- min(c(max(Q_time, R_time)))\n",
    "window <- 0.1 # we use 0.1 the same window size for benchmarking (as CellAlign, G2G also use that as default)\n",
    "WT_cell_pseudotime <- matrix(R_time, dimnames =list(row.names(R@meta.data)  ))\n",
    "KO_cell_pseudotime <- matrix(Q_time, dimnames =list(row.names(Q@meta.data)  ))\n",
    "WT_ID <- data.frame(R@meta.data$seurat_clusters, row.names =row.names(R@meta.data))\n",
    "KO_ID <- data.frame(Q@meta.data$seurat_clusters, row.names =row.names(Q@meta.data))\n",
    "WT_tree <- nodePseudotime(WT_cell_pseudotime,WT_ID, numPts, \"WT\")\n",
    "KO_tree <- nodePseudotime(KO_cell_pseudotime,KO_ID, numPts, \"KO\")\n",
    "\n",
    "KO_cell_pseudo <- data.frame(\"ID\" = row.names(Q@meta.data), \"pseudo\" =  Q_time)\n",
    "KO_node_pseudo <- data.frame(\"ID\" = row.names(KO_tree$pseudotime), \"pseudo\" = KO_tree$pseudotime$pseudotime)\n",
    "WT_cell_pseudo <- data.frame(\"ID\" = row.names(R@meta.data), \"pseudo\" = R_time)\n",
    "WT_node_pseudo <- data.frame(\"ID\" = row.names(WT_tree$pseudotime), \"pseudo\" = WT_tree$pseudotime$pseudotime)\n",
    "KO_node_pseudotime <- matrix(KO_tree$pseudotime$pseudotime , dimnames = list(row.names(KO_tree$pseudotime)), )\n",
    "WT_node_pseudotime <- matrix(WT_tree$pseudotime$pseudotime , dimnames = list(row.names(WT_tree$pseudotime)), )\n",
    "#Get gene expression values for the interpolated points\n",
    "KO_node_exp_mtx <- nodeExpressionEstimate(Q_data, KO_node_pseudotime, KO_cell_pseudotime, window, adjust.window = T)\n",
    "WT_node_exp_mtx <- nodeExpressionEstimate(R_data, WT_node_pseudotime, WT_cell_pseudotime, window, adjust.window = T)\n",
    "device_list <- dev.list()\n",
    "for (i in device_list) {\n",
    "    dev.off(i)\n",
    "}  "
   ]
  },
  {
   "cell_type": "code",
   "execution_count": 77,
   "id": "fallen-employment",
   "metadata": {},
   "outputs": [
    {
     "name": "stdout",
     "output_type": "stream",
     "text": [
      "[1] \"The mean score of your optimal path is 1.02618560811807. You should consider whether or not these two processes share a common process\"\n"
     ]
    },
    {
     "name": "stderr",
     "output_type": "stream",
     "text": [
      "Warning message in get_thresholds(alignment, dis_mtx, method):\n",
      "“NAs introduced by coercion”\n",
      "Warning message in get_thresholds(alignment, dis_mtx, method):\n",
      "“NAs introduced by coercion”\n"
     ]
    },
    {
     "name": "stdout",
     "output_type": "stream",
     "text": [
      "[1] \"TrAGEDy DTW alignment [minimum cut - spearman]:   M M I D I D I D M I D I D I D I D M M W W M I I\"\n",
      "[1] \"The mean score of your optimal path is 47.0754034181446. You should consider whether or not these two processes share a common process\"\n"
     ]
    },
    {
     "name": "stderr",
     "output_type": "stream",
     "text": [
      "Warning message in get_thresholds(alignment, dis_mtx, method):\n",
      "“NAs introduced by coercion”\n",
      "Warning message in get_thresholds(alignment, dis_mtx, method):\n",
      "“NAs introduced by coercion”\n"
     ]
    },
    {
     "name": "stdout",
     "output_type": "stream",
     "text": [
      "[1] \"TrAGEDy DTW alignment [minimum cut - euclidean]:   D D D D M V V I V M M I D I D I D I D I D I D I D I D\"\n",
      "[1] \"The mean score of your optimal path is 47.4764089602702. You should consider whether or not these two processes share a common process\"\n"
     ]
    },
    {
     "name": "stderr",
     "output_type": "stream",
     "text": [
      "Warning message in get_thresholds(alignment, dis_mtx, method):\n",
      "“NAs introduced by coercion”\n",
      "Warning message in get_thresholds(alignment, dis_mtx, method):\n",
      "“NAs introduced by coercion”\n"
     ]
    },
    {
     "name": "stdout",
     "output_type": "stream",
     "text": [
      "[1] \"TrAGEDy DTW alignment [null cut - euclidean]:   M M M I D M M M I D I D I D I D I D I D I D I D\"\n",
      "[1] \"The mean score of your optimal path is 1.02872016541883. You should consider whether or not these two processes share a common process\"\n"
     ]
    },
    {
     "name": "stderr",
     "output_type": "stream",
     "text": [
      "Warning message in get_thresholds(alignment, dis_mtx, method):\n",
      "“NAs introduced by coercion”\n",
      "Warning message in get_thresholds(alignment, dis_mtx, method):\n",
      "“NAs introduced by coercion”\n"
     ]
    },
    {
     "name": "stdout",
     "output_type": "stream",
     "text": [
      "[1] \"TrAGEDy DTW alignment [null cut - spearman]:   M M I D I D I D M I D I D I D I D M M M M M\"\n"
     ]
    },
    {
     "data": {
      "text/html": [
       "<strong>png:</strong> 2"
      ],
      "text/latex": [
       "\\textbf{png:} 2"
      ],
      "text/markdown": [
       "**png:** 2"
      ],
      "text/plain": [
       "png \n",
       "  2 "
      ]
     },
     "metadata": {},
     "output_type": "display_data"
    }
   ],
   "source": [
    "dev.new()\n",
    "cut_type = 'minimum'\n",
    "distance_metric = 'spearman'\n",
    "alignment <- run_tragedy_DTW_celllevel(WT_node_exp_mtx, KO_node_exp_mtx, cut_type = cut_type, distance_metric = distance_metric,plot=FALSE)\n",
    "al_str <- get_5_state_alignment_str(alignment)\n",
    "print(paste('TrAGEDy DTW alignment [minimum cut - spearman]: ', al_str))\n",
    "\n",
    "cut_type = 'minimum'\n",
    "distance_metric = 'euclidean'\n",
    "alignment <- run_tragedy_DTW_celllevel(WT_node_exp_mtx, KO_node_exp_mtx, cut_type = cut_type, distance_metric = distance_metric,plot=FALSE)\n",
    "al_str <- get_5_state_alignment_str(alignment)\n",
    "print(paste('TrAGEDy DTW alignment [minimum cut - euclidean]: ', al_str))\n",
    "\n",
    "\n",
    "cut_type = 'null'\n",
    "distance_metric = 'euclidean'\n",
    "alignment <- run_tragedy_DTW_celllevel(WT_node_exp_mtx, KO_node_exp_mtx, cut_type = cut_type, distance_metric = distance_metric,plot=FALSE)\n",
    "al_str <- get_5_state_alignment_str(alignment)\n",
    "print(paste('TrAGEDy DTW alignment [null cut - euclidean]: ', al_str))\n",
    "\n",
    "\n",
    "cut_type = 'null'\n",
    "distance_metric = 'spearman'\n",
    "alignment <- run_tragedy_DTW_celllevel(WT_node_exp_mtx, KO_node_exp_mtx, cut_type = cut_type, distance_metric = distance_metric,plot=FALSE)\n",
    "al_str <- get_5_state_alignment_str(alignment)\n",
    "print(paste('TrAGEDy DTW alignment [null cut - spearman]: ', al_str))\n",
    "\n",
    "dev.off()\n",
    "device_list <- dev.list()\n",
    "for (i in device_list) {\n",
    "    dev.off(i)\n",
    "}    "
   ]
  },
  {
   "cell_type": "code",
   "execution_count": 78,
   "id": "modified-plumbing",
   "metadata": {},
   "outputs": [
    {
     "name": "stdout",
     "output_type": "stream",
     "text": [
      "[1] \"The mean score of your optimal path is 2.00516907883886. You should consider whether or not these two processes share a common process\"\n",
      "[1] \"TrAGEDy:  HK118  -   I I I M I D I D I D I D M V V V V V V D D D D D D D D D\"\n",
      "[1] \"The mean score of your optimal path is 4.19554348717156. You should consider whether or not these two processes share a common process\"\n",
      "[1] \"TrAGEDy:  HK110  -   M M M M M M M M M M M M M M M\"\n",
      "[1] \"The mean score of your optimal path is 1.34226335686493. You should consider whether or not these two processes share a common process\"\n",
      "[1] \"TrAGEDy:  HK45  -   D D D M V V V V V V V V V V V M V M D D D D D D D D D\"\n"
     ]
    }
   ],
   "source": [
    "# Chekcking example complete mismatched genes\n",
    "for (g in c('HK118', 'HK110', 'HK45')){\n",
    "    dev.new()\n",
    "    cut_type = 'minimum'\n",
    "    distance_metric = 'euclidean'\n",
    "    alignment <- suppressWarnings(run_tragedy_DTW(g, cut_type = cut_type, distance_metric=distance_metric, plot=FALSE))\n",
    "    al_str <- get_5_state_alignment_str(alignment)\n",
    "    print(paste('TrAGEDy: ',g,' - ' , al_str))\n",
    "    dev.off()\n",
    "    device_list <- dev.list()\n",
    "    for (i in device_list) {\n",
    "        dev.off(i)\n",
    "    }    \n",
    "}"
   ]
  },
  {
   "cell_type": "code",
   "execution_count": 88,
   "id": "signed-filing",
   "metadata": {},
   "outputs": [
    {
     "name": "stdout",
     "output_type": "stream",
     "text": [
      "[1] \"The mean score of your optimal path is 2.60392974325755. You should consider whether or not these two processes share a common process\"\n",
      "[1] \"TrAGEDy:  HK118  -   M M M M M M M M M M M M M M M\"\n",
      "[1] \"The mean score of your optimal path is 4.19554348717156. You should consider whether or not these two processes share a common process\"\n",
      "[1] \"TrAGEDy:  HK110  -   M M M M M M M M M M M M M M M\"\n",
      "[1] \"The mean score of your optimal path is 2.14134098257518. You should consider whether or not these two processes share a common process\"\n",
      "[1] \"TrAGEDy:  HK45  -   M M M M M M M M M M M M M M M\"\n"
     ]
    }
   ],
   "source": [
    "# Chekcking example complete mismatched genes\n",
    "for (g in c('HK118', 'HK110', 'HK45')){\n",
    "    dev.new()\n",
    "    cut_type = ''\n",
    "    distance_metric = 'euclidean'\n",
    "    alignment <- suppressWarnings(run_tragedy_DTW(g, cut_type = cut_type, distance_metric=distance_metric, plot=FALSE))\n",
    "    al_str <- get_5_state_alignment_str(alignment)\n",
    "    print(paste('TrAGEDy: ',g,' - ' , al_str))\n",
    "    #print(alignment)\n",
    "    dev.off()\n",
    "    device_list <- dev.list()\n",
    "    for (i in device_list) {\n",
    "        dev.off(i)\n",
    "    }\n",
    "}"
   ]
  },
  {
   "cell_type": "markdown",
   "id": "particular-oregon",
   "metadata": {},
   "source": [
    "# Testing extreme cases with CellAlign and TrAGEDy"
   ]
  },
  {
   "cell_type": "code",
   "execution_count": 2,
   "id": "diverse-vampire",
   "metadata": {},
   "outputs": [
    {
     "name": "stderr",
     "output_type": "stream",
     "text": [
      "X -> counts\n",
      "\n",
      "X -> counts\n",
      "\n"
     ]
    }
   ],
   "source": [
    "R = sceasy::convertFormat('DynGenSimulatedData/MyExtremeCaseDataPerturbedFromNegControl/adata_r.h5ad', from=\"anndata\", to=\"seurat\")\n",
    "Q = sceasy::convertFormat('DynGenSimulatedData/MyExtremeCaseDataPerturbedFromNegControl/adata_q.h5ad', from=\"anndata\", to=\"seurat\")\n",
    "R_data = R@assays$RNA@data\n",
    "Q_data = Q@assays$RNA@data\n",
    "R_time = R$time\n",
    "Q_time = Q$time"
   ]
  },
  {
   "cell_type": "code",
   "execution_count": 3,
   "id": "grave-boston",
   "metadata": {},
   "outputs": [
    {
     "data": {
      "text/html": [
       "<style>\n",
       ".list-inline {list-style: none; margin:0; padding: 0}\n",
       ".list-inline>li {display: inline-block}\n",
       ".list-inline>li:not(:last-child)::after {content: \"\\00b7\"; padding: 0 .5ex}\n",
       "</style>\n",
       "<ol class=list-inline><li>11</li><li>2000</li></ol>\n"
      ],
      "text/latex": [
       "\\begin{enumerate*}\n",
       "\\item 11\n",
       "\\item 2000\n",
       "\\end{enumerate*}\n"
      ],
      "text/markdown": [
       "1. 11\n",
       "2. 2000\n",
       "\n",
       "\n"
      ],
      "text/plain": [
       "[1]   11 2000"
      ]
     },
     "metadata": {},
     "output_type": "display_data"
    },
    {
     "data": {
      "text/html": [
       "<style>\n",
       ".list-inline {list-style: none; margin:0; padding: 0}\n",
       ".list-inline>li {display: inline-block}\n",
       ".list-inline>li:not(:last-child)::after {content: \"\\00b7\"; padding: 0 .5ex}\n",
       "</style>\n",
       "<ol class=list-inline><li>11</li><li>1940</li></ol>\n"
      ],
      "text/latex": [
       "\\begin{enumerate*}\n",
       "\\item 11\n",
       "\\item 1940\n",
       "\\end{enumerate*}\n"
      ],
      "text/markdown": [
       "1. 11\n",
       "2. 1940\n",
       "\n",
       "\n"
      ],
      "text/plain": [
       "[1]   11 1940"
      ]
     },
     "metadata": {},
     "output_type": "display_data"
    }
   ],
   "source": [
    "dim(R_data)\n",
    "dim(Q_data)"
   ]
  },
  {
   "cell_type": "code",
   "execution_count": 7,
   "id": "chubby-gravity",
   "metadata": {},
   "outputs": [
    {
     "name": "stdout",
     "output_type": "stream",
     "text": [
      "[1] \"test100  -   M W M V V V V V V V V V V V V V W W W W W W W W W W W W\"\n",
      "[1] \"test101  -   M W M V V V V V V V V V V V V V W W W W W W W W W W W W\"\n",
      "[1] \"test102  -   M V V V V V V V V V V V V V V W W W W W W W W W W W W W W\"\n",
      "[1] \"test103  -   M V V V V V V V V V V V V V V W W W W W W W W W W W W W W\"\n",
      "[1] \"test104  -   M W W W W W W W W W W W W W M V V V V V V V V V V V V V\"\n",
      "[1] \"test105  -   M W W W W W W W W W W W W W M V V V V V V V V V V V V V\"\n",
      "[1] \"test106  -   M\"\n",
      "[1] \"test107  -   M V V V V V V V V M W W W W W W M M W M M V W W\"\n",
      "[1] \"test108  -   M V V V V V V W W W W W W M W W W W W W W V V V V V V V\"\n",
      "[1] \"test109  -   M V V V V V V M W V V V V V V V W W W W W W W W W W W W\"\n",
      "[1] \"test110  -   M W W W W W M V V V M M V V M M V M M V W W\"\n"
     ]
    }
   ],
   "source": [
    "numPts = 15\n",
    "npts = numPts\n",
    "# CellAlign\n",
    "interGlobalPAM = cellAlign::interWeights(expDataBatch = R_data, trajCond = R_time,\n",
    "                                             winSz = 0.1, numPts = numPts)\n",
    "interGlobalLPS = cellAlign::interWeights(expDataBatch = Q_data, trajCond = Q_time,\n",
    "                                                 winSz = 0.1, numPts = numPts)\n",
    "interScaledGlobalLPS = cellAlign::scaleInterpolate(interGlobalLPS)\n",
    "interScaledGlobalPAM = cellAlign::scaleInterpolate(interGlobalPAM)\n",
    "\n",
    "for (g in rownames(R_data)){\n",
    "    alignment = suppressMessages(run_global_dtw(g, interGlobalLPS, interGlobalPAM, interScaledGlobalLPS, interScaledGlobalPAM )) \n",
    "    al_str = get_3_state_alignment_str(alignment)\n",
    "    print(paste(g,' - ' , al_str))\n",
    "}"
   ]
  },
  {
   "cell_type": "code",
   "execution_count": 9,
   "id": "behavioral-tower",
   "metadata": {},
   "outputs": [
    {
     "data": {
      "text/html": [
       "<strong>png:</strong> 2"
      ],
      "text/latex": [
       "\\textbf{png:} 2"
      ],
      "text/markdown": [
       "**png:** 2"
      ],
      "text/plain": [
       "png \n",
       "  2 "
      ]
     },
     "metadata": {},
     "output_type": "display_data"
    }
   ],
   "source": [
    "# TrAGEDy\n",
    "dev.new()\n",
    "pseudo_end <- min(c(max(Q_time, R_time)))\n",
    "window <- 0.1 # we use 0.1 the same window size for benchmarking (as CellAlign, G2G also use that as default)\n",
    "WT_cell_pseudotime <- matrix(R_time, dimnames =list(row.names(R@meta.data)  ))\n",
    "KO_cell_pseudotime <- matrix(Q_time, dimnames =list(row.names(Q@meta.data)  ))\n",
    "WT_ID <- data.frame(R@meta.data$seurat_clusters, row.names =row.names(R@meta.data))\n",
    "KO_ID <- data.frame(Q@meta.data$seurat_clusters, row.names =row.names(Q@meta.data))\n",
    "WT_tree <- nodePseudotime(WT_cell_pseudotime,WT_ID, numPts, \"WT\")\n",
    "KO_tree <- nodePseudotime(KO_cell_pseudotime,KO_ID, numPts, \"KO\")\n",
    "KO_cell_pseudo <- data.frame(\"ID\" = row.names(Q@meta.data), \"pseudo\" =  Q_time)\n",
    "KO_node_pseudo <- data.frame(\"ID\" = row.names(KO_tree$pseudotime), \"pseudo\" = KO_tree$pseudotime$pseudotime)\n",
    "WT_cell_pseudo <- data.frame(\"ID\" = row.names(R@meta.data), \"pseudo\" = R_time)\n",
    "WT_node_pseudo <- data.frame(\"ID\" = row.names(WT_tree$pseudotime), \"pseudo\" = WT_tree$pseudotime$pseudotime)\n",
    "KO_node_pseudotime <- matrix(KO_tree$pseudotime$pseudotime , dimnames = list(row.names(KO_tree$pseudotime)), )\n",
    "WT_node_pseudotime <- matrix(WT_tree$pseudotime$pseudotime , dimnames = list(row.names(WT_tree$pseudotime)), )\n",
    "#Get gene expression values for the interpolated points\n",
    "KO_node_exp_mtx <- nodeExpressionEstimate(Q_data, KO_node_pseudotime, KO_cell_pseudotime, window, adjust.window = T)\n",
    "WT_node_exp_mtx <- nodeExpressionEstimate(R_data, WT_node_pseudotime, WT_cell_pseudotime, window, adjust.window = T)\n",
    "dev.off()\n",
    "device_list <- dev.list()\n",
    "for (i in device_list) {\n",
    "    dev.off(i)\n",
    "}    "
   ]
  },
  {
   "cell_type": "code",
   "execution_count": 11,
   "id": "cordless-quarter",
   "metadata": {},
   "outputs": [
    {
     "name": "stdout",
     "output_type": "stream",
     "text": [
      "[1] \"test100  -   D M M M M M V V V V V V I D I D I D M D D D D D\"\n",
      "[1] \"test101  -   M M M M M M V V V V V I D I D I D M D D D D D\"\n",
      "[1] \"test102  -   M V V V V V V V V V M M M M M D D D D D D D D D\"\n",
      "[1] \"test103  -   M V V V V V V V V V M M M M M D D D D D D D D D\"\n",
      "[1] \"test107  -   I I I I I I I I I M W W W W W W W M M M W M M W\"\n",
      "[1] \"test108  -   I I I I I I M W W W W W W W W W W W M M M I I I I I\"\n",
      "[1] \"test109  -   I I I I I I M V V V M M M M M D D D D D D D D D\"\n",
      "[1] \"test110  -   M W W W W M M V M M V M M V V V M M M W\"\n"
     ]
    }
   ],
   "source": [
    "# Chekcking HHEX DTW alignment (for G2G manuscript Fig 3a)\n",
    "for (g in rownames(R_data)){\n",
    "    if(g=='test104' | g=='test105' | g=='test106'){ # gives error for these genes\n",
    "        next\n",
    "    }\n",
    "    dev.new()\n",
    "    cut_type = 'minimum'\n",
    "    distance_metric = 'euclidean'\n",
    "    alignment <- suppressWarnings(run_tragedy_DTW(g, cut_type = cut_type, distance_metric=distance_metric, plot=FALSE))\n",
    "    al_str <- get_5_state_alignment_str(alignment)\n",
    "    print(paste(g,' - ' , al_str))\n",
    "    dev.off()\n",
    "    device_list <- dev.list()\n",
    "    for (i in device_list) {\n",
    "        dev.off(i)\n",
    "    }    \n",
    "}"
   ]
  },
  {
   "cell_type": "markdown",
   "id": "forward-clark",
   "metadata": {},
   "source": [
    "# CellAlign gene-level alignment clustering "
   ]
  },
  {
   "cell_type": "code",
   "execution_count": 28,
   "id": "attached-possible",
   "metadata": {},
   "outputs": [
    {
     "name": "stderr",
     "output_type": "stream",
     "text": [
      "X -> counts\n",
      "\n",
      "X -> counts\n",
      "\n"
     ]
    }
   ],
   "source": [
    "R = sceasy::convertFormat('../[G2G]New_scripts/SimulationData/adata_all_ref.h5ad', from=\"anndata\", to=\"seurat\")\n",
    "Q = sceasy::convertFormat('../[G2G]New_scripts/SimulationData/adata_all_query.h5ad', from=\"anndata\", to=\"seurat\")\n",
    "R_data = R@assays$RNA@data\n",
    "Q_data = Q@assays$RNA@data\n",
    "R_time = R$time\n",
    "Q_time = Q$time\n",
    "\n",
    "numPts = 15\n",
    "interGlobalPAM = cellAlign::interWeights(expDataBatch = R_data, trajCond = R_time,\n",
    "                                             winSz = 0.1, numPts = numPts)\n",
    "interGlobalLPS = cellAlign::interWeights(expDataBatch = Q_data, trajCond = Q_time,\n",
    "                                                 winSz = 0.1, numPts = numPts)\n",
    "interScaledGlobalLPS = cellAlign::scaleInterpolate(interGlobalLPS)\n",
    "interScaledGlobalPAM = cellAlign::scaleInterpolate(interGlobalPAM)"
   ]
  },
  {
   "cell_type": "code",
   "execution_count": 29,
   "id": "local-creation",
   "metadata": {},
   "outputs": [],
   "source": [
    "for (i in 7:83){ # from min expected number of clusters = 7 to the maximum possible number of clusters (# of unique alignment strings)\n",
    "    set.seed(3) # R kmeans selects random k points as centroids\n",
    "    suppressMessages(cluster_result <- cellAlign::pseudotimeClust(x=interScaledGlobalLPS$scaledData, y=interScaledGlobalPAM$scaledData, k = i))\n",
    "    var = paste('clusters',i)\n",
    "    R@assays$RNA@meta.features[var] = cluster_result$cluster\n",
    "    Q@assays$RNA@meta.features[var] = cluster_result$cluster\n",
    "} "
   ]
  },
  {
   "cell_type": "code",
   "execution_count": 35,
   "id": "informed-review",
   "metadata": {},
   "outputs": [
    {
     "data": {
      "text/plain": [
       "An object of class Seurat \n",
       "3500 features across 300 samples within 1 assay \n",
       "Active assay: RNA (3500 features, 0 variable features)"
      ]
     },
     "metadata": {},
     "output_type": "display_data"
    }
   ],
   "source": [
    "Q"
   ]
  },
  {
   "cell_type": "code",
   "execution_count": 30,
   "id": "vulnerable-castle",
   "metadata": {},
   "outputs": [
    {
     "data": {
      "text/plain": [
       "AnnData object with n_obs × n_vars = 300 × 3500\n",
       "    obs: 'time', 'class', 'bin_ids'\n",
       "    var: 'gene_pattern', 'clusters 7', 'clusters 8', 'clusters 9', 'clusters 10', 'clusters 11', 'clusters 12', 'clusters 13', 'clusters 14', 'clusters 15', 'clusters 16', 'clusters 17', 'clusters 18', 'clusters 19', 'clusters 20', 'clusters 21', 'clusters 22', 'clusters 23', 'clusters 24', 'clusters 25', 'clusters 26', 'clusters 27', 'clusters 28', 'clusters 29', 'clusters 30', 'clusters 31', 'clusters 32', 'clusters 33', 'clusters 34', 'clusters 35', 'clusters 36', 'clusters 37', 'clusters 38', 'clusters 39', 'clusters 40', 'clusters 41', 'clusters 42', 'clusters 43', 'clusters 44', 'clusters 45', 'clusters 46', 'clusters 47', 'clusters 48', 'clusters 49', 'clusters 50', 'clusters 51', 'clusters 52', 'clusters 53', 'clusters 54', 'clusters 55', 'clusters 56', 'clusters 57', 'clusters 58', 'clusters 59', 'clusters 60', 'clusters 61', 'clusters 62', 'clusters 63', 'clusters 64', 'clusters 65', 'clusters 66', 'clusters 67', 'clusters 68', 'clusters 69', 'clusters 70', 'clusters 71', 'clusters 72', 'clusters 73', 'clusters 74', 'clusters 75', 'clusters 76', 'clusters 77', 'clusters 78', 'clusters 79', 'clusters 80', 'clusters 81', 'clusters 82', 'clusters 83'"
      ]
     },
     "metadata": {},
     "output_type": "display_data"
    },
    {
     "data": {
      "text/plain": [
       "AnnData object with n_obs × n_vars = 300 × 3500\n",
       "    obs: 'time', 'class', 'bin_ids'\n",
       "    var: 'gene_pattern', 'clusters 7', 'clusters 8', 'clusters 9', 'clusters 10', 'clusters 11', 'clusters 12', 'clusters 13', 'clusters 14', 'clusters 15', 'clusters 16', 'clusters 17', 'clusters 18', 'clusters 19', 'clusters 20', 'clusters 21', 'clusters 22', 'clusters 23', 'clusters 24', 'clusters 25', 'clusters 26', 'clusters 27', 'clusters 28', 'clusters 29', 'clusters 30', 'clusters 31', 'clusters 32', 'clusters 33', 'clusters 34', 'clusters 35', 'clusters 36', 'clusters 37', 'clusters 38', 'clusters 39', 'clusters 40', 'clusters 41', 'clusters 42', 'clusters 43', 'clusters 44', 'clusters 45', 'clusters 46', 'clusters 47', 'clusters 48', 'clusters 49', 'clusters 50', 'clusters 51', 'clusters 52', 'clusters 53', 'clusters 54', 'clusters 55', 'clusters 56', 'clusters 57', 'clusters 58', 'clusters 59', 'clusters 60', 'clusters 61', 'clusters 62', 'clusters 63', 'clusters 64', 'clusters 65', 'clusters 66', 'clusters 67', 'clusters 68', 'clusters 69', 'clusters 70', 'clusters 71', 'clusters 72', 'clusters 73', 'clusters 74', 'clusters 75', 'clusters 76', 'clusters 77', 'clusters 78', 'clusters 79', 'clusters 80', 'clusters 81', 'clusters 82', 'clusters 83'"
      ]
     },
     "metadata": {},
     "output_type": "display_data"
    }
   ],
   "source": [
    "#Q@assays$RNA@meta.features\n",
    "# saving cluster outputs to adata files\n",
    "sceasy::convertFormat(R, from=\"seurat\",to=\"anndata\", outFile = '../[G2G]New_scripts/SimulationData/cellalign_output_clusters/R.h5ad')\n",
    "sceasy::convertFormat(Q, from=\"seurat\",to=\"anndata\", outFile = '../[G2G]New_scripts/SimulationData/cellalign_output_clusters/Q.h5ad')"
   ]
  },
  {
   "cell_type": "code",
   "execution_count": 31,
   "id": "expected-croatia",
   "metadata": {},
   "outputs": [],
   "source": [
    "# saving the DTW alignments as 3 state strings of each gene in csv file for cluster analysis using hierarchical clustering and levenshtein distance (to compare with G2G)\n",
    "three_state_alignment_strings = c()\n",
    "genes = c()\n",
    "for (g in rownames(R@assays$RNA@meta.features)){\n",
    "    alignment = suppressMessages(run_global_dtw(g, interGlobalLPS, interGlobalPAM, interScaledGlobalLPS, interScaledGlobalPAM )) \n",
    "    al_str = get_3_state_alignment_str(alignment)\n",
    "    three_state_alignment_strings <- append(three_state_alignment_strings, al_str)\n",
    "    genes <- append(genes, g)\n",
    "    #plotAlign(alignment)\n",
    "}\n"
   ]
  },
  {
   "cell_type": "code",
   "execution_count": 33,
   "id": "terminal-secret",
   "metadata": {},
   "outputs": [],
   "source": [
    "write.csv(data.frame(Gene = genes, alignment_string = three_state_alignment_strings ), '../[G2G]New_scripts/SimulationData/cellalign_output_clusters/cellalign_3state_strings.csv') "
   ]
  },
  {
   "cell_type": "code",
   "execution_count": 32,
   "id": "impressive-walter",
   "metadata": {},
   "outputs": [
    {
     "data": {
      "text/html": [
       "<style>\n",
       ".list-inline {list-style: none; margin:0; padding: 0}\n",
       ".list-inline>li {display: inline-block}\n",
       ".list-inline>li:not(:last-child)::after {content: \"\\00b7\"; padding: 0 .5ex}\n",
       "</style>\n",
       "<ol class=list-inline><li>' M W M V M M V W W W W W W W W W W V V V V V V V V V'</li><li>' M V W M W M W V V V V V V V V V V V W W W W W W W W W'</li><li>' M V W M M M V W W W W W W W W W W V V V V V V V V V'</li><li>' M M M M M W V V V V V V V V V V W W W W W W W W W'</li></ol>\n"
      ],
      "text/latex": [
       "\\begin{enumerate*}\n",
       "\\item ' M W M V M M V W W W W W W W W W W V V V V V V V V V'\n",
       "\\item ' M V W M W M W V V V V V V V V V V V W W W W W W W W W'\n",
       "\\item ' M V W M M M V W W W W W W W W W W V V V V V V V V V'\n",
       "\\item ' M M M M M W V V V V V V V V V V W W W W W W W W W'\n",
       "\\end{enumerate*}\n"
      ],
      "text/markdown": [
       "1. ' M W M V M M V W W W W W W W W W W V V V V V V V V V'\n",
       "2. ' M V W M W M W V V V V V V V V V V V W W W W W W W W W'\n",
       "3. ' M V W M M M V W W W W W W W W W W V V V V V V V V V'\n",
       "4. ' M M M M M W V V V V V V V V V V W W W W W W W W W'\n",
       "\n",
       "\n"
      ],
      "text/plain": [
       "[1] \" M W M V M M V W W W W W W W W W W V V V V V V V V V\"  \n",
       "[2] \" M V W M W M W V V V V V V V V V V V W W W W W W W W W\"\n",
       "[3] \" M V W M M M V W W W W W W W W W W V V V V V V V V V\"  \n",
       "[4] \" M M M M M W V V V V V V V V V V W W W W W W W W W\"    "
      ]
     },
     "metadata": {},
     "output_type": "display_data"
    }
   ],
   "source": [
    "three_state_alignment_strings[0:4]"
   ]
  },
  {
   "cell_type": "markdown",
   "id": "known-genius",
   "metadata": {},
   "source": [
    "# CellAlign\" Cell-level alignment for different pattern classes"
   ]
  },
  {
   "cell_type": "code",
   "execution_count": 4,
   "id": "periodic-majority",
   "metadata": {},
   "outputs": [
    {
     "name": "stderr",
     "output_type": "stream",
     "text": [
      "X -> counts\n",
      "\n",
      "X -> counts\n",
      "\n"
     ]
    }
   ],
   "source": [
    "R = sceasy::convertFormat('../[G2G]New_scripts/SimulationData/adata_all_ref.h5ad', from=\"anndata\", to=\"seurat\")\n",
    "Q = sceasy::convertFormat('../[G2G]New_scripts/SimulationData/adata_all_query.h5ad', from=\"anndata\", to=\"seurat\")\n",
    "R_data = R@assays$RNA@data\n",
    "Q_data = Q@assays$RNA@data\n",
    "R_time = R$time\n",
    "Q_time = Q$time\n",
    "npts = 15 \n",
    "\n",
    "patterns = unique(R@assays$RNA@meta.features$gene_pattern) \n",
    "m = hashmap()\n",
    "RIDs = c()\n",
    "QIDs = c()\n",
    "for (pattern in patterns){\n",
    "    \n",
    "    Rid = paste('R_',pattern, sep = '')\n",
    "    Qid = paste('Q_',pattern, sep='') \n",
    "    m[[Rid]] = R[rownames(subset(R@assays$RNA@meta.features, gene_pattern == pattern  ))]\n",
    "    m[[Qid]] = Q[rownames(subset(Q@assays$RNA@meta.features, gene_pattern == pattern  ))]\n",
    "    RIDs = append(RIDs, Rid)\n",
    "    QIDs = append(QIDs, Qid)\n",
    "    \n",
    "}"
   ]
  },
  {
   "cell_type": "code",
   "execution_count": 5,
   "id": "protected-meter",
   "metadata": {},
   "outputs": [
    {
     "name": "stdout",
     "output_type": "stream",
     "text": [
      "[1] \"****** R_div05 - Q_div05 ******\"\n"
     ]
    },
    {
     "data": {
      "image/png": "[encoded data removed]",
      "text/plain": [
       "plot without title"
      ]
     },
     "metadata": {
      "image/png": {
       "height": 420,
       "width": 420
      }
     },
     "output_type": "display_data"
    },
    {
     "name": "stdout",
     "output_type": "stream",
     "text": [
      "[1] \"****** R_div25 - Q_div25 ******\"\n"
     ]
    },
    {
     "data": {
      "image/png": "[encoded data removed]",
      "text/plain": [
       "plot without title"
      ]
     },
     "metadata": {
      "image/png": {
       "height": 420,
       "width": 420
      }
     },
     "output_type": "display_data"
    },
    {
     "name": "stdout",
     "output_type": "stream",
     "text": [
      "[1] \"****** R_div75 - Q_div75 ******\"\n"
     ]
    },
    {
     "data": {
      "image/png": "[encoded data removed]",
      "text/plain": [
       "plot without title"
      ]
     },
     "metadata": {
      "image/png": {
       "height": 420,
       "width": 420
      }
     },
     "output_type": "display_data"
    },
    {
     "name": "stdout",
     "output_type": "stream",
     "text": [
      "[1] \"****** R_match - Q_match ******\"\n"
     ]
    },
    {
     "data": {
      "image/png": "[encoded data removed]",
      "text/plain": [
       "plot without title"
      ]
     },
     "metadata": {
      "image/png": {
       "height": 420,
       "width": 420
      }
     },
     "output_type": "display_data"
    },
    {
     "name": "stdout",
     "output_type": "stream",
     "text": [
      "[1] \"****** R_con05 - Q_con05 ******\"\n"
     ]
    },
    {
     "data": {
      "image/png": "[encoded data removed]",
      "text/plain": [
       "plot without title"
      ]
     },
     "metadata": {
      "image/png": {
       "height": 420,
       "width": 420
      }
     },
     "output_type": "display_data"
    },
    {
     "name": "stdout",
     "output_type": "stream",
     "text": [
      "[1] \"****** R_con25 - Q_con25 ******\"\n"
     ]
    },
    {
     "data": {
      "image/png": "[encoded data removed]",
      "text/plain": [
       "plot without title"
      ]
     },
     "metadata": {
      "image/png": {
       "height": 420,
       "width": 420
      }
     },
     "output_type": "display_data"
    },
    {
     "name": "stdout",
     "output_type": "stream",
     "text": [
      "[1] \"****** R_con75 - Q_con75 ******\"\n"
     ]
    },
    {
     "data": {
      "image/png": "[encoded data removed]",
      "text/plain": [
       "plot without title"
      ]
     },
     "metadata": {
      "image/png": {
       "height": 420,
       "width": 420
      }
     },
     "output_type": "display_data"
    }
   ],
   "source": [
    "numPts = 15\n",
    "cellalignments = c()\n",
    "group_ids = c()\n",
    "\n",
    "for (i in 1:7){\n",
    "    RID = RIDs[i]\n",
    "    QID = QIDs[i]\n",
    "    R_data = m[[RID]]@assays$RNA@data\n",
    "    Q_data = m[[QID]]@assays$RNA@data\n",
    "    R_time = m[[RID]]$time\n",
    "    Q_time = m[[QID]]$time\n",
    "    \n",
    "    interGlobalPAM = cellAlign::interWeights(expDataBatch = R_data, trajCond = R_time,\n",
    "                                             winSz = 0.1, numPts = numPts)\n",
    "    interGlobalLPS = cellAlign::interWeights(expDataBatch = Q_data, trajCond = Q_time,\n",
    "                                                 winSz = 0.1, numPts = numPts)\n",
    "    interScaledGlobalLPS = cellAlign::scaleInterpolate(interGlobalLPS)\n",
    "    interScaledGlobalPAM = cellAlign::scaleInterpolate(interGlobalPAM)\n",
    "    alignment = suppressMessages(run_global_dtw_all_genes(interGlobalLPS, interGlobalPAM, interScaledGlobalLPS, interScaledGlobalPAM ))\n",
    "    plotAlign(alignment)\n",
    "    print(paste('******',RID,'-',QID,'******'))\n",
    "    \n",
    "    three_state_al_str = get_3_state_alignment_str(alignment)\n",
    "    cellalignments = append(cellalignments, three_state_al_str)\n",
    "    group_ids = append(group_ids, paste(RID,'-',QID))\n",
    "\n",
    "}"
   ]
  },
  {
   "cell_type": "code",
   "execution_count": 6,
   "id": "proved-register",
   "metadata": {},
   "outputs": [],
   "source": [
    "write.csv(data.frame(Gene = group_ids, alignment_string = cellalignments ), '../[G2G]New_scripts/SimulationData/cellalign_output_clusters/cellalign_3state_strings_group_wise.csv') "
   ]
  },
  {
   "cell_type": "markdown",
   "id": "czech-running",
   "metadata": {},
   "source": [
    "# TrAGEDy: Gene-level alignment for genes across all pattern classes"
   ]
  },
  {
   "cell_type": "code",
   "execution_count": 42,
   "id": "second-writing",
   "metadata": {},
   "outputs": [
    {
     "name": "stderr",
     "output_type": "stream",
     "text": [
      "X -> counts\n",
      "\n",
      "X -> counts\n",
      "\n"
     ]
    }
   ],
   "source": [
    "R = sceasy::convertFormat('../[G2G]New_scripts/SimulationData/adata_all_ref.h5ad', from=\"anndata\", to=\"seurat\")\n",
    "Q = sceasy::convertFormat('../[G2G]New_scripts/SimulationData/adata_all_query.h5ad', from=\"anndata\", to=\"seurat\")\n",
    "R_data = R@assays$RNA@data\n",
    "Q_data = Q@assays$RNA@data\n",
    "R_time = R$time\n",
    "Q_time = Q$time\n",
    "npts = 15 "
   ]
  },
  {
   "cell_type": "code",
   "execution_count": 43,
   "id": "statutory-finding",
   "metadata": {},
   "outputs": [],
   "source": [
    "dev.new()\n",
    "pseudo_end <- min(c(max(Q_time, R_time)))\n",
    "window <- 0.1 # we use 0.1 the same window size for benchmarking (as CellAlign, G2G also use that as default)\n",
    "WT_cell_pseudotime <- matrix(R_time, dimnames =list(row.names(R@meta.data)  ))\n",
    "KO_cell_pseudotime <- matrix(Q_time, dimnames =list(row.names(Q@meta.data)  ))\n",
    "WT_ID <- data.frame(R@meta.data$class, row.names =row.names(R@meta.data))\n",
    "KO_ID <- data.frame(Q@meta.data$class, row.names =row.names(Q@meta.data))\n",
    "WT_tree <- nodePseudotime(WT_cell_pseudotime,WT_ID, npts, \"WT\")\n",
    "KO_tree <- nodePseudotime(KO_cell_pseudotime,KO_ID, npts, \"KO\")\n",
    "KO_cell_pseudo <- data.frame(\"ID\" = row.names(Q@meta.data), \"pseudo\" =  Q_time)\n",
    "KO_node_pseudo <- data.frame(\"ID\" = row.names(KO_tree$pseudotime), \"pseudo\" = KO_tree$pseudotime$pseudotime)\n",
    "WT_cell_pseudo <- data.frame(\"ID\" = row.names(R@meta.data), \"pseudo\" = R_time)\n",
    "WT_node_pseudo <- data.frame(\"ID\" = row.names(WT_tree$pseudotime), \"pseudo\" = WT_tree$pseudotime$pseudotime)\n",
    "KO_node_pseudotime <- matrix(KO_tree$pseudotime$pseudotime , dimnames = list(row.names(KO_tree$pseudotime)), )\n",
    "WT_node_pseudotime <- matrix(WT_tree$pseudotime$pseudotime , dimnames = list(row.names(WT_tree$pseudotime)), )\n",
    "#Get gene expression values for the interpolated points\n",
    "KO_node_exp_mtx <- nodeExpressionEstimate(Q_data, KO_node_pseudotime, KO_cell_pseudotime, window, adjust.window = T)\n",
    "WT_node_exp_mtx <- nodeExpressionEstimate(R_data, WT_node_pseudotime, WT_cell_pseudotime, window, adjust.window = T)\n",
    "device_list <- dev.list()\n",
    "for (i in device_list) {\n",
    "    dev.off(i)\n",
    "}"
   ]
  },
  {
   "cell_type": "code",
   "execution_count": 44,
   "id": "posted-implement",
   "metadata": {},
   "outputs": [
    {
     "data": {
      "text/html": [
       "<style>\n",
       ".list-inline {list-style: none; margin:0; padding: 0}\n",
       ".list-inline>li {display: inline-block}\n",
       ".list-inline>li:not(:last-child)::after {content: \"\\00b7\"; padding: 0 .5ex}\n",
       "</style>\n",
       "<ol class=list-inline><li>3500</li><li>300</li></ol>\n"
      ],
      "text/latex": [
       "\\begin{enumerate*}\n",
       "\\item 3500\n",
       "\\item 300\n",
       "\\end{enumerate*}\n"
      ],
      "text/markdown": [
       "1. 3500\n",
       "2. 300\n",
       "\n",
       "\n"
      ],
      "text/plain": [
       "[1] 3500  300"
      ]
     },
     "metadata": {},
     "output_type": "display_data"
    },
    {
     "data": {
      "text/html": [
       "<style>\n",
       ".list-inline {list-style: none; margin:0; padding: 0}\n",
       ".list-inline>li {display: inline-block}\n",
       ".list-inline>li:not(:last-child)::after {content: \"\\00b7\"; padding: 0 .5ex}\n",
       "</style>\n",
       "<ol class=list-inline><li>3500</li><li>300</li></ol>\n"
      ],
      "text/latex": [
       "\\begin{enumerate*}\n",
       "\\item 3500\n",
       "\\item 300\n",
       "\\end{enumerate*}\n"
      ],
      "text/markdown": [
       "1. 3500\n",
       "2. 300\n",
       "\n",
       "\n"
      ],
      "text/plain": [
       "[1] 3500  300"
      ]
     },
     "metadata": {},
     "output_type": "display_data"
    }
   ],
   "source": [
    "dim(R)\n",
    "dim(Q)"
   ]
  },
  {
   "cell_type": "code",
   "execution_count": 45,
   "id": "successful-tomato",
   "metadata": {},
   "outputs": [],
   "source": [
    "\n",
    "# saving the tragedy DTW alignments as 5 state strings of each gene in csv file for cluster analysis using hierarchical clustering and levenshtein distance (to compare with G2G)\n",
    "five_state_alignment_strings = c()\n",
    "genes = c()\n",
    "cut_type = \"null\"\n",
    "distance_metric = \"euclidean\" # gnee-level alignment only works with euclidean\n",
    "for (g in rownames(R@assays$RNA@meta.features)){\n",
    "        \n",
    "        print(g)\n",
    "        # TrAGEDy enters into a loop for these genes (when cut_type='minimum')\n",
    "        if(cut_type=='minimum'){ \n",
    "            if( g=='Gene59' | g=='Gene61' | g=='Gene382' | g=='Gene2037' | g=='Gene2193'\n",
    "              | g=='Gene2249' |  g=='Gene2348' | g=='Gene2377' | g=='Gene2404' | g=='Gene2521' | g=='Gene2564' | g=='Gene2793'\n",
    "              | g=='Gene2869' | g=='Gene2924'){\n",
    "                next\n",
    "            }\n",
    "        }\n",
    "        tryCatch(\n",
    "            {\n",
    "                dev.new()\n",
    "                alignment <- suppressWarnings(run_tragedy_DTW(g, cut_type = cut_type, distance_metric=distance_metric, plot=FALSE))\n",
    "                dev.off()\n",
    "                al_str <- get_5_state_alignment_str(alignment)\n",
    "                five_state_alignment_strings  <- append(five_state_alignment_strings, al_str)\n",
    "                genes <- append(genes, g)\n",
    "                device_list <- dev.list()\n",
    "                for (i in device_list) {\n",
    "                  dev.off(i)\n",
    "                }\n",
    "            } ,\n",
    "            error=function(e){\n",
    "                #message('runtime error')\n",
    "                # There are genes for which TrAGEDy gives errors (not sure why; CellAlign gives no errors for those genes)\n",
    "                device_list <- dev.list()\n",
    "                for (i in device_list) {\n",
    "                  dev.off(i)\n",
    "                }\n",
    "            }\n",
    "        )\n",
    "}"
   ]
  },
  {
   "cell_type": "code",
   "execution_count": 48,
   "id": "identified-consultation",
   "metadata": {},
   "outputs": [
    {
     "name": "stdout",
     "output_type": "stream",
     "text": [
      "[1] \"The mean score of your optimal path is 1.89815229420616. You should consider whether or not these two processes share a common process\"\n",
      "[1] 16\n",
      " [1] \"WT_1\" \"WT_2\" \"WT_3\" \"WT_4\" \"WT_5\" \"WT_6\" \"WT_7\" \"WT_8\" \"KO_1\" \"KO_2\"\n",
      "[11] \"KO_3\" \"KO_4\" \"KO_5\" \"KO_6\" \"KO_7\" \"KO_8\"\n",
      "[1] 16\n",
      "[1] 16\n",
      " [1] \"WT\" \"WT\" \"WT\" \"WT\" \"WT\" \"WT\" \"WT\" \"WT\" \"KO\" \"KO\" \"KO\" \"KO\" \"KO\" \"KO\" \"KO\"\n",
      "[16] \"KO\"\n"
     ]
    },
    {
     "data": {
      "image/png": "[encoded data removed]",
      "text/plain": [
       "plot without title"
      ]
     },
     "metadata": {
      "image/png": {
       "height": 420,
       "width": 420
      }
     },
     "output_type": "display_data"
    },
    {
     "data": {
      "image/png": "[encoded data removed]",
      "text/plain": [
       "plot without title"
      ]
     },
     "metadata": {
      "image/png": {
       "height": 420,
       "width": 420
      }
     },
     "output_type": "display_data"
    }
   ],
   "source": [
    "alignment <- suppressWarnings(run_tragedy_DTW('Gene21', cut_type = cut_type, distance_metric=distance_metric, plot=TRUE))\n",
    "al_str <- get_5_state_alignment_str(alignment)\n"
   ]
  },
  {
   "cell_type": "code",
   "execution_count": null,
   "id": "sexual-transcription",
   "metadata": {},
   "outputs": [],
   "source": []
  },
  {
   "cell_type": "code",
   "execution_count": 17,
   "id": "promotional-despite",
   "metadata": {},
   "outputs": [
    {
     "data": {
      "text/html": [
       "2768"
      ],
      "text/latex": [
       "2768"
      ],
      "text/markdown": [
       "2768"
      ],
      "text/plain": [
       "[1] 2768"
      ]
     },
     "metadata": {},
     "output_type": "display_data"
    },
    {
     "data": {
      "text/html": [
       "2768"
      ],
      "text/latex": [
       "2768"
      ],
      "text/markdown": [
       "2768"
      ],
      "text/plain": [
       "[1] 2768"
      ]
     },
     "metadata": {},
     "output_type": "display_data"
    }
   ],
   "source": [
    "length(genes)\n",
    "length(five_state_alignment_strings)\n",
    "write.csv(data.frame(Gene = genes, alignment_string = five_state_alignment_strings ), '../[G2G]New_scripts/SimulationData/cellalign_output_clusters/TrAGEDy_5state_strings_minimumcut.csv') "
   ]
  },
  {
   "cell_type": "code",
   "execution_count": 14,
   "id": "abandoned-season",
   "metadata": {},
   "outputs": [
    {
     "data": {
      "text/html": [
       "3500"
      ],
      "text/latex": [
       "3500"
      ],
      "text/markdown": [
       "3500"
      ],
      "text/plain": [
       "[1] 3500"
      ]
     },
     "metadata": {},
     "output_type": "display_data"
    },
    {
     "data": {
      "text/html": [
       "3500"
      ],
      "text/latex": [
       "3500"
      ],
      "text/markdown": [
       "3500"
      ],
      "text/plain": [
       "[1] 3500"
      ]
     },
     "metadata": {},
     "output_type": "display_data"
    }
   ],
   "source": [
    "length(genes)\n",
    "length(five_state_alignment_strings)\n",
    "write.csv(data.frame(Gene = genes, alignment_string = five_state_alignment_strings ), '../[G2G]New_scripts/SimulationData/cellalign_output_clusters/TrAGEDy_5state_strings_nullcuttype.csv') "
   ]
  },
  {
   "cell_type": "markdown",
   "id": "focal-execution",
   "metadata": {},
   "source": [
    "# TrAGEDy: Cell-level alignment for different pattern classes"
   ]
  },
  {
   "cell_type": "code",
   "execution_count": 18,
   "id": "organizational-gamma",
   "metadata": {},
   "outputs": [
    {
     "name": "stdout",
     "output_type": "stream",
     "text": [
      "[1] \"The mean score of your optimal path is 34.4110833314467. You should consider whether or not these two processes share a common process\"\n",
      "[1] \"div05  M M M M M M M M I D I D I D I D I D I D I D\"\n",
      "[1] \"The mean score of your optimal path is 51.9783809692827. You should consider whether or not these two processes share a common process\"\n",
      "[1] \"div25  M M M M M I D I D I D I D I D I D I D I D I D I D\"\n",
      "[1] \"The mean score of your optimal path is 16.4572392246351. You should consider whether or not these two processes share a common process\"\n",
      "[1] \"div75  M M M M M M M M M M M I D I D I D I D\"\n",
      "[1] \"The mean score of your optimal path is 2.23217946797288. You should consider whether or not these two processes share a common process\"\n",
      "[1] \"match  M M M M M M M M M M M M M M M\"\n",
      "[1] \"The mean score of your optimal path is 34.4110833314467. You should consider whether or not these two processes share a common process\"\n",
      "[1] \"con05  I D I D I D I D I D I D I D M M M M M M M M\"\n",
      "[1] \"The mean score of your optimal path is 16.4572392246351. You should consider whether or not these two processes share a common process\"\n",
      "[1] \"con25  I D I D I D I D M M M M M M M M M M M\"\n",
      "[1] \"The mean score of your optimal path is 51.9783809692827. You should consider whether or not these two processes share a common process\"\n",
      "[1] \"con75  I D I D I D I D I D I D I D I D I D I D M M M M M\"\n"
     ]
    }
   ],
   "source": [
    "run_cell_level_for_groups <- function(cut_type, distance_metric){ \n",
    "\n",
    "    cellalignments = c()\n",
    "    group_ids = c() \n",
    "    for (i in 1:7){ \n",
    "        if(cut_type == 'minimum' & patterns[i]=='div25'){ # because TrAGEDy gives an error for this\n",
    "            next\n",
    "        }\n",
    "\n",
    "        RID = RIDs[i]\n",
    "        QID = QIDs[i]\n",
    "        R = m[[RID]]\n",
    "        Q = m[[QID]]\n",
    "        R_data = m[[RID]]@assays$RNA@data\n",
    "        Q_data = m[[QID]]@assays$RNA@data\n",
    "        R_time = m[[RID]]$time\n",
    "        Q_time = m[[QID]]$time\n",
    "\n",
    "        dev.new()\n",
    "        pseudo_end <- min(c(max(Q_time, R_time)))\n",
    "        window <- 0.1 # we use 0.1 the same window size for benchmarking (as CellAlign, G2G also use that as default)\n",
    "        WT_cell_pseudotime <- matrix(R_time, dimnames =list(row.names(R@meta.data)  ))\n",
    "        KO_cell_pseudotime <- matrix(Q_time, dimnames =list(row.names(Q@meta.data)  ))\n",
    "        WT_ID <- data.frame(R@meta.data$class, row.names =row.names(R@meta.data))\n",
    "        KO_ID <- data.frame(Q@meta.data$class, row.names =row.names(Q@meta.data))\n",
    "        WT_tree <- nodePseudotime(WT_cell_pseudotime,WT_ID, npts, \"WT\")\n",
    "        KO_tree <- nodePseudotime(KO_cell_pseudotime,KO_ID, npts, \"KO\")\n",
    "        KO_cell_pseudo <- data.frame(\"ID\" = row.names(Q@meta.data), \"pseudo\" =  Q_time)\n",
    "        KO_node_pseudo <- data.frame(\"ID\" = row.names(KO_tree$pseudotime), \"pseudo\" = KO_tree$pseudotime$pseudotime)\n",
    "        WT_cell_pseudo <- data.frame(\"ID\" = row.names(R@meta.data), \"pseudo\" = R_time)\n",
    "        WT_node_pseudo <- data.frame(\"ID\" = row.names(WT_tree$pseudotime), \"pseudo\" = WT_tree$pseudotime$pseudotime)\n",
    "        KO_node_pseudotime <- matrix(KO_tree$pseudotime$pseudotime , dimnames = list(row.names(KO_tree$pseudotime)), )\n",
    "        WT_node_pseudotime <- matrix(WT_tree$pseudotime$pseudotime , dimnames = list(row.names(WT_tree$pseudotime)), )\n",
    "        #Get gene expression values for the interpolated points\n",
    "        KO_node_exp_mtx <- nodeExpressionEstimate(Q_data, KO_node_pseudotime, KO_cell_pseudotime, window, adjust.window = T)\n",
    "        WT_node_exp_mtx <- nodeExpressionEstimate(R_data, WT_node_pseudotime, WT_cell_pseudotime, window, adjust.window = T)\n",
    "\n",
    "        alignment <- suppressWarnings(run_tragedy_DTW_celllevel(WT_node_exp_mtx, KO_node_exp_mtx, cut_type = cut_type, distance_metric, plot=FALSE))\n",
    "        al_str <- get_5_state_alignment_str(alignment)\n",
    "        dev.off() \n",
    "        print(paste(patterns[i], al_str))\n",
    "        device_list <- dev.list()\n",
    "        for (d in device_list) {\n",
    "            dev.off(d)\n",
    "        }    \n",
    "        group_ids <- append(group_ids, patterns[i])\n",
    "        cellalignments <- append(cellalignments, al_str)\n",
    "    }\n",
    "    return(list(cellalignments, group_ids))\n",
    "    \n",
    "}\n",
    "\n",
    "r = run_cell_level_for_groups(cut_type = '', distance_metric = 'euclidean')\n",
    "cellalignments = r[1]\n",
    "group_ids = r[2]"
   ]
  },
  {
   "cell_type": "code",
   "execution_count": 19,
   "id": "federal-strand",
   "metadata": {},
   "outputs": [],
   "source": [
    "write.csv(data.frame(Gene = group_ids, alignment_string = cellalignments ), '../[G2G]New_scripts/SimulationData/cellalign_output_clusters/TrAGEDy_5state_strings_group_wise_[euclidean_nullcut].csv') "
   ]
  },
  {
   "cell_type": "code",
   "execution_count": 191,
   "id": "artificial-suite",
   "metadata": {},
   "outputs": [
    {
     "name": "stdout",
     "output_type": "stream",
     "text": [
      "[1] \"div05  I D I D I D I D I D I D I D I D M M M M M M M\"\n",
      "[1] \"div25  I D I D I D I D I D M M M M M M M M M M\"\n",
      "[1] \"div75  I D I D I D I D I D I D I D I D I D I D I D M M M M\"\n",
      "[1] \"match  M M M M M M M M M M M M M M M\"\n",
      "[1] \"con05  M M M M M M M I D I D I D I D I D I D I D I D\"\n",
      "[1] \"con25  M M M M I D I D I D I D I D I D I D I D I D I D I D\"\n",
      "[1] \"con75  M M M M M M M M M M I D I D I D I D I D\"\n"
     ]
    }
   ],
   "source": [
    "r = run_cell_level_for_groups(cut_type = '', distance_metric = 'spearman')\n",
    "cellalignments = r[1]\n",
    "group_id = r[2]"
   ]
  },
  {
   "cell_type": "code",
   "execution_count": 194,
   "id": "several-engineering",
   "metadata": {},
   "outputs": [
    {
     "name": "stdout",
     "output_type": "stream",
     "text": [
      "[1] \"div05  M M M M V V V V V V I I I D I D I D D D D D D D D D\"\n",
      "[1] \"div75  M M M M M M M M V V V V I I D I D D D D D D\"\n",
      "[1] \"match  M M M M M M M M M M M M M M M\"\n",
      "[1] \"con05  D D D D D D D D I D I D I D I D I V V V V V V V M M M\"\n",
      "[1] \"con25  D D D D D I D I D I D V V V V V M M M M M M M\"\n",
      "[1] \"con75  D D D D D D D D D D D D M M M V V V V V V V V V V V V\"\n"
     ]
    }
   ],
   "source": [
    "r = run_cell_level_for_groups(cut_type = 'minimum', distance_metric = 'spearman')\n",
    "cellalignments = r[1]\n",
    "group_id = r[2]"
   ]
  },
  {
   "cell_type": "code",
   "execution_count": 24,
   "id": "changed-sequence",
   "metadata": {},
   "outputs": [
    {
     "name": "stdout",
     "output_type": "stream",
     "text": [
      "[1] \"The mean score of your optimal path is 18.0209685842115. You should consider whether or not these two processes share a common process\"\n",
      "[1] \"div05  M M M M V V V V V I I I I I D I D D D D D D D D D D\"\n",
      "[1] \"The mean score of your optimal path is 8.91026701812417. You should consider whether or not these two processes share a common process\"\n",
      "[1] \"div75  M M M M M M M M V V V I I I D I D D D D D D\"\n",
      "[1] \"The mean score of your optimal path is 2.23217946797288. You should consider whether or not these two processes share a common process\"\n",
      "[1] \"match  M M M M M M M M M M M M M M M\"\n",
      "[1] \"The mean score of your optimal path is 18.0209685842115. You should consider whether or not these two processes share a common process\"\n",
      "[1] \"con05  D D D D D D D D D I D I D I D I I I V V V V V V M M M\"\n",
      "[1] \"The mean score of your optimal path is 8.91026701812417. You should consider whether or not these two processes share a common process\"\n",
      "[1] \"con25  D D D D D I D I D I D I V V V V M M M M M M M\"\n",
      "[1] \"The mean score of your optimal path is 26.8240467608332. You should consider whether or not these two processes share a common process\"\n",
      "[1] \"con75  D D D D D D D D D D D D I D M M V V V V V V V V V V V V\"\n"
     ]
    }
   ],
   "source": [
    "r = run_cell_level_for_groups(cut_type = 'minimum', distance_metric = 'euclidean')\n",
    "cellalignments = r[1]\n",
    "group_id = r[2]"
   ]
  },
  {
   "cell_type": "code",
   "execution_count": 26,
   "id": "incorporate-hollywood",
   "metadata": {},
   "outputs": [
    {
     "data": {
      "text/html": [
       "<ol>\n",
       "\t<li><style>\n",
       ".list-inline {list-style: none; margin:0; padding: 0}\n",
       ".list-inline>li {display: inline-block}\n",
       ".list-inline>li:not(:last-child)::after {content: \"\\00b7\"; padding: 0 .5ex}\n",
       "</style>\n",
       "<ol class=list-inline><li>div05</li><li>div75</li><li>match</li><li>con05</li><li>con25</li><li>con75</li></ol>\n",
       "\n",
       "<details>\n",
       "\t<summary style=display:list-item;cursor:pointer>\n",
       "\t\t<strong>Levels</strong>:\n",
       "\t</summary>\n",
       "\t<style>\n",
       "\t.list-inline {list-style: none; margin:0; padding: 0}\n",
       "\t.list-inline>li {display: inline-block}\n",
       "\t.list-inline>li:not(:last-child)::after {content: \"\\00b7\"; padding: 0 .5ex}\n",
       "\t</style>\n",
       "\t<ol class=list-inline><li>'con05'</li><li>'con25'</li><li>'con75'</li><li>'div05'</li><li>'div25'</li><li>'div75'</li><li>'match'</li></ol>\n",
       "</details></li>\n",
       "</ol>\n"
      ],
      "text/latex": [
       "\\begin{enumerate}\n",
       "\\item \\begin{enumerate*}\n",
       "\\item div05\n",
       "\\item div75\n",
       "\\item match\n",
       "\\item con05\n",
       "\\item con25\n",
       "\\item con75\n",
       "\\end{enumerate*}\n",
       "\n",
       "\\emph{Levels}: \\begin{enumerate*}\n",
       "\\item 'con05'\n",
       "\\item 'con25'\n",
       "\\item 'con75'\n",
       "\\item 'div05'\n",
       "\\item 'div25'\n",
       "\\item 'div75'\n",
       "\\item 'match'\n",
       "\\end{enumerate*}\n",
       "\n",
       "\\end{enumerate}\n"
      ],
      "text/markdown": [
       "1. 1. div05\n",
       "2. div75\n",
       "3. match\n",
       "4. con05\n",
       "5. con25\n",
       "6. con75\n",
       "\n",
       "\n",
       "\n",
       "**Levels**: 1. 'con05'\n",
       "2. 'con25'\n",
       "3. 'con75'\n",
       "4. 'div05'\n",
       "5. 'div25'\n",
       "6. 'div75'\n",
       "7. 'match'\n",
       "\n",
       "\n",
       "\n",
       "\n",
       "\n"
      ],
      "text/plain": [
       "[[1]]\n",
       "[1] div05 div75 match con05 con25 con75\n",
       "Levels: con05 con25 con75 div05 div25 div75 match\n"
      ]
     },
     "metadata": {},
     "output_type": "display_data"
    }
   ],
   "source": [
    "group_id"
   ]
  },
  {
   "cell_type": "code",
   "execution_count": 27,
   "id": "square-entrance",
   "metadata": {},
   "outputs": [],
   "source": [
    "write.csv(data.frame(Gene = group_id, alignment_string = cellalignments ), '../[G2G]New_scripts/SimulationData/cellalign_output_clusters/TrAGEDy_5state_strings_group_wise_[euclidean_minimum].csv') "
   ]
  },
  {
   "cell_type": "markdown",
   "id": "seasonal-mainland",
   "metadata": {},
   "source": [
    "# Additional test -- for SP T lineage "
   ]
  },
  {
   "cell_type": "code",
   "execution_count": null,
   "id": "falling-naples",
   "metadata": {},
   "outputs": [],
   "source": [
    "numPts = 14\n",
    "npts = numPts\n",
    "R = sceasy::convertFormat('g2g_datasets_to_test/adata_ref_spt.h5ad', from=\"anndata\", to=\"seurat\")\n",
    "Q = sceasy::convertFormat('g2g_datasets_to_test/adata_ato_spt.h5ad', from=\"anndata\", to=\"seurat\")\n",
    "R_data = R@assays$RNA@data\n",
    "Q_data = Q@assays$RNA@data\n",
    "R_time = R$time\n",
    "Q_time = Q$time\n",
    "\n",
    "# CellAlign\n",
    "interGlobalPAM = cellAlign::interWeights(expDataBatch = R_data, trajCond = R_time,\n",
    "                                             winSz = 0.1, numPts = numPts)\n",
    "interGlobalLPS = cellAlign::interWeights(expDataBatch = Q_data, trajCond = Q_time,\n",
    "                                                 winSz = 0.1, numPts = numPts)\n",
    "interScaledGlobalLPS = cellAlign::scaleInterpolate(interGlobalLPS)\n",
    "interScaledGlobalPAM = cellAlign::scaleInterpolate(interGlobalPAM)\n",
    "\n",
    "# Chekcking HHEX DTW alignment (for G2G manuscript Fig 3a)\n",
    "#alignment = suppressMessages(run_global_dtw('HHEX', interGlobalLPS, interGlobalPAM, interScaledGlobalLPS, interScaledGlobalPAM )) \n",
    "#al_str = get_3_state_alignment_str(alignment)\n",
    "#print(paste('CellAlign DTW alignment: HHEX: ', al_str))\n",
    "# Checking all TFs\n",
    "alignment = suppressMessages(run_global_dtw_all_genes(interGlobalLPS, interGlobalPAM, interScaledGlobalLPS, interScaledGlobalPAM )) \n",
    "al_str = get_3_state_alignment_str(alignment)\n",
    "print(paste('CellAlign DTW alignment: all: ', al_str))\n",
    "\n",
    "# TrAGEDy\n",
    "pseudo_end <- min(c(max(Q_time, R_time)))\n",
    "window <- 0.1 # we use 0.1 the same window size for benchmarking (as CellAlign, G2G also use that as default)\n",
    "WT_cell_pseudotime <- matrix(R_time, dimnames =list(row.names(R@meta.data)  ))\n",
    "KO_cell_pseudotime <- matrix(Q_time, dimnames =list(row.names(Q@meta.data)  ))\n",
    "WT_ID <- data.frame(R@meta.data$ANNOTATION_COMB, row.names =row.names(R@meta.data))\n",
    "KO_ID <- data.frame(Q@meta.data$ANNOTATION_COMB, row.names =row.names(Q@meta.data))\n",
    "WT_tree <- nodePseudotime(WT_cell_pseudotime,WT_ID, numPts, \"WT\")\n",
    "KO_tree <- nodePseudotime(KO_cell_pseudotime,KO_ID, numPts, \"KO\")\n",
    "KO_cell_pseudo <- data.frame(\"ID\" = row.names(Q@meta.data), \"pseudo\" =  Q_time)\n",
    "KO_node_pseudo <- data.frame(\"ID\" = row.names(KO_tree$pseudotime), \"pseudo\" = KO_tree$pseudotime$pseudotime)\n",
    "WT_cell_pseudo <- data.frame(\"ID\" = row.names(R@meta.data), \"pseudo\" = R_time)\n",
    "WT_node_pseudo <- data.frame(\"ID\" = row.names(WT_tree$pseudotime), \"pseudo\" = WT_tree$pseudotime$pseudotime)\n",
    "KO_node_pseudotime <- matrix(KO_tree$pseudotime$pseudotime , dimnames = list(row.names(KO_tree$pseudotime)), )\n",
    "WT_node_pseudotime <- matrix(WT_tree$pseudotime$pseudotime , dimnames = list(row.names(WT_tree$pseudotime)), )\n",
    "#Get gene expression values for the interpolated points\n",
    "KO_node_exp_mtx <- nodeExpressionEstimate(Q_data, KO_node_pseudotime, KO_cell_pseudotime, window, adjust.window = T)\n",
    "WT_node_exp_mtx <- nodeExpressionEstimate(R_data, WT_node_pseudotime, WT_cell_pseudotime, window, adjust.window = T)\n",
    "\n",
    "dim(R)\n",
    "dim(Q)\n",
    "\n",
    "dev.new()\n",
    "\n",
    "cut_type = 'minimum'\n",
    "distance_metric = 'euclidean'\n",
    "alignment <- suppressWarnings(run_tragedy_DTW('HHEX', cut_type = cut_type, distance_metric=distance_metric))\n",
    "al_str <- get_5_state_alignment_str(alignment)\n",
    "print(paste('TrAGEDy DTW alignment [minimum cut - euclidean]: HHEX: ', al_str))\n",
    "\n",
    "cut_type = 'minimum'\n",
    "distance_metric = 'euclidean'\n",
    "alignment <- run_tragedy_DTW_celllevel(WT_node_exp_mtx, KO_node_exp_mtx, cut_type = cut_type, distance_metric = distance_metric)\n",
    "al_str <- get_5_state_alignment_str(alignment)\n",
    "print(paste('TrAGEDy DTW alignment [minimum cut - euclidean]: all', al_str))\n",
    "\n",
    "\n",
    "cut_type = 'minimum'\n",
    "distance_metric = 'spearman'\n",
    "alignment <- run_tragedy_DTW_celllevel(WT_node_exp_mtx, KO_node_exp_mtx, cut_type = cut_type, distance_metric = distance_metric)\n",
    "al_str <- get_5_state_alignment_str(alignment)\n",
    "print(paste('TrAGEDy DTW alignment [minimum cut - spearman]: all', al_str))\n",
    "\n",
    "\n",
    "dev.off()\n",
    "device_list <- dev.list()\n",
    "for (i in device_list) {\n",
    "    dev.off(i)\n",
    "}    "
   ]
  },
  {
   "cell_type": "markdown",
   "id": "visible-glenn",
   "metadata": {},
   "source": [
    "# Additional test - PAM/LPS"
   ]
  },
  {
   "cell_type": "code",
   "execution_count": 104,
   "id": "naked-embassy",
   "metadata": {},
   "outputs": [
    {
     "name": "stderr",
     "output_type": "stream",
     "text": [
      "X -> counts\n",
      "\n",
      "X -> counts\n",
      "\n"
     ]
    },
    {
     "data": {
      "text/html": [
       "<style>\n",
       ".list-inline {list-style: none; margin:0; padding: 0}\n",
       ".list-inline>li {display: inline-block}\n",
       ".list-inline>li:not(:last-child)::after {content: \"\\00b7\"; padding: 0 .5ex}\n",
       "</style>\n",
       "<ol class=list-inline><li>89</li><li>179</li></ol>\n"
      ],
      "text/latex": [
       "\\begin{enumerate*}\n",
       "\\item 89\n",
       "\\item 179\n",
       "\\end{enumerate*}\n"
      ],
      "text/markdown": [
       "1. 89\n",
       "2. 179\n",
       "\n",
       "\n"
      ],
      "text/plain": [
       "[1]  89 179"
      ]
     },
     "metadata": {},
     "output_type": "display_data"
    },
    {
     "data": {
      "text/html": [
       "<style>\n",
       ".list-inline {list-style: none; margin:0; padding: 0}\n",
       ".list-inline>li {display: inline-block}\n",
       ".list-inline>li:not(:last-child)::after {content: \"\\00b7\"; padding: 0 .5ex}\n",
       "</style>\n",
       "<ol class=list-inline><li>89</li><li>290</li></ol>\n"
      ],
      "text/latex": [
       "\\begin{enumerate*}\n",
       "\\item 89\n",
       "\\item 290\n",
       "\\end{enumerate*}\n"
      ],
      "text/markdown": [
       "1. 89\n",
       "2. 290\n",
       "\n",
       "\n"
      ],
      "text/plain": [
       "[1]  89 290"
      ]
     },
     "metadata": {},
     "output_type": "display_data"
    },
    {
     "name": "stdout",
     "output_type": "stream",
     "text": [
      "[1] \"CellAlign DTW alignment: all:   M W W W W M M M V M V V W W W W W V V V V V V\"\n"
     ]
    }
   ],
   "source": [
    "numPts = 14\n",
    "npts = numPts\n",
    "R = sceasy::convertFormat('../[G2G]New_scripts/data/adata_pam_local.h5ad', from=\"anndata\", to=\"seurat\")\n",
    "Q = sceasy::convertFormat('../[G2G]New_scripts/data/adata_lps_local.h5ad', from=\"anndata\", to=\"seurat\")\n",
    "R_data = R@assays$RNA@data\n",
    "Q_data = Q@assays$RNA@data\n",
    "R_time = R$time\n",
    "Q_time = Q$time\n",
    "\n",
    "dim(R)\n",
    "dim(Q)\n",
    "\n",
    "# CellAlign\n",
    "interGlobalPAM = cellAlign::interWeights(expDataBatch = R_data, trajCond = R_time,\n",
    "                                             winSz = 0.1, numPts = numPts)\n",
    "interGlobalLPS = cellAlign::interWeights(expDataBatch = Q_data, trajCond = Q_time,\n",
    "                                                 winSz = 0.1, numPts = numPts)\n",
    "interScaledGlobalLPS = cellAlign::scaleInterpolate(interGlobalLPS)\n",
    "interScaledGlobalPAM = cellAlign::scaleInterpolate(interGlobalPAM)\n",
    "\n",
    "# Chekcking HHEX DTW alignment (for G2G manuscript Fig 3a)\n",
    "#alignment = suppressMessages(run_global_dtw('HHEX', interGlobalLPS, interGlobalPAM, interScaledGlobalLPS, interScaledGlobalPAM )) \n",
    "#al_str = get_3_state_alignment_str(alignment)\n",
    "#print(paste('CellAlign DTW alignment: HHEX: ', al_str))\n",
    "# Checking all TFs\n",
    "alignment = suppressMessages(run_global_dtw_all_genes(interGlobalLPS, interGlobalPAM, interScaledGlobalLPS, interScaledGlobalPAM )) \n",
    "al_str = get_3_state_alignment_str(alignment)\n",
    "print(paste('CellAlign DTW alignment: all: ', al_str))"
   ]
  },
  {
   "cell_type": "code",
   "execution_count": 105,
   "id": "endless-conditions",
   "metadata": {},
   "outputs": [
    {
     "data": {
      "image/png": "[encoded data removed]",
      "text/plain": [
       "Plot with title “Histogram of cell_pseudo”"
      ]
     },
     "metadata": {
      "image/png": {
       "height": 420,
       "width": 420
      }
     },
     "output_type": "display_data"
    },
    {
     "data": {
      "text/html": [
       "<style>\n",
       ".list-inline {list-style: none; margin:0; padding: 0}\n",
       ".list-inline>li {display: inline-block}\n",
       ".list-inline>li:not(:last-child)::after {content: \"\\00b7\"; padding: 0 .5ex}\n",
       "</style>\n",
       "<ol class=list-inline><li>89</li><li>179</li></ol>\n"
      ],
      "text/latex": [
       "\\begin{enumerate*}\n",
       "\\item 89\n",
       "\\item 179\n",
       "\\end{enumerate*}\n"
      ],
      "text/markdown": [
       "1. 89\n",
       "2. 179\n",
       "\n",
       "\n"
      ],
      "text/plain": [
       "[1]  89 179"
      ]
     },
     "metadata": {},
     "output_type": "display_data"
    },
    {
     "data": {
      "text/html": [
       "<style>\n",
       ".list-inline {list-style: none; margin:0; padding: 0}\n",
       ".list-inline>li {display: inline-block}\n",
       ".list-inline>li:not(:last-child)::after {content: \"\\00b7\"; padding: 0 .5ex}\n",
       "</style>\n",
       "<ol class=list-inline><li>89</li><li>290</li></ol>\n"
      ],
      "text/latex": [
       "\\begin{enumerate*}\n",
       "\\item 89\n",
       "\\item 290\n",
       "\\end{enumerate*}\n"
      ],
      "text/markdown": [
       "1. 89\n",
       "2. 290\n",
       "\n",
       "\n"
      ],
      "text/plain": [
       "[1]  89 290"
      ]
     },
     "metadata": {},
     "output_type": "display_data"
    },
    {
     "name": "stdout",
     "output_type": "stream",
     "text": [
      "[1] \"The mean score of your optimal path is 6.90005751910021. You should consider whether or not these two processes share a common process\"\n"
     ]
    },
    {
     "name": "stderr",
     "output_type": "stream",
     "text": [
      "Warning message in get_thresholds(alignment, dis_mtx, method):\n",
      "“NAs introduced by coercion”\n",
      "Warning message in get_thresholds(alignment, dis_mtx, method):\n",
      "“NAs introduced by coercion”\n"
     ]
    },
    {
     "name": "stdout",
     "output_type": "stream",
     "text": [
      "[1] \"TrAGEDy DTW alignment [minimum cut - euclidean]: all  D D M W M M M M M M M W M M I I I I\"\n"
     ]
    },
    {
     "name": "stderr",
     "output_type": "stream",
     "text": [
      "Warning message in get_thresholds(alignment, dis_mtx, method):\n",
      "“NAs introduced by coercion”\n",
      "Warning message in get_thresholds(alignment, dis_mtx, method):\n",
      "“NAs introduced by coercion”\n"
     ]
    },
    {
     "name": "stdout",
     "output_type": "stream",
     "text": [
      "[1] \"TrAGEDy DTW alignment [minimum cut - spearman]: all  D D I D I D M M M M M M M M M M I I\"\n"
     ]
    },
    {
     "data": {
      "text/html": [
       "<strong>png:</strong> 2"
      ],
      "text/latex": [
       "\\textbf{png:} 2"
      ],
      "text/markdown": [
       "**png:** 2"
      ],
      "text/plain": [
       "png \n",
       "  2 "
      ]
     },
     "metadata": {},
     "output_type": "display_data"
    },
    {
     "data": {
      "image/png": "[encoded data removed]",
      "text/plain": [
       "Plot with title “Histogram of cell_pseudo”"
      ]
     },
     "metadata": {
      "image/png": {
       "height": 420,
       "width": 420
      }
     },
     "output_type": "display_data"
    }
   ],
   "source": [
    "\n",
    "\n",
    "# TrAGEDy\n",
    "pseudo_end <- min(c(max(Q_time, R_time)))\n",
    "window <- 0.1 # we use 0.1 the same window size for benchmarking (as CellAlign, G2G also use that as default)\n",
    "WT_cell_pseudotime <- matrix(R_time, dimnames =list(row.names(R@meta.data)  ))\n",
    "KO_cell_pseudotime <- matrix(Q_time, dimnames =list(row.names(Q@meta.data)  ))\n",
    "WT_ID <- data.frame(R@meta.data$time, row.names =row.names(R@meta.data))\n",
    "KO_ID <- data.frame(Q@meta.data$time, row.names =row.names(Q@meta.data))\n",
    "WT_tree <- nodePseudotime(WT_cell_pseudotime,WT_ID, numPts, \"WT\")\n",
    "KO_tree <- nodePseudotime(KO_cell_pseudotime,KO_ID, numPts, \"KO\")\n",
    "KO_cell_pseudo <- data.frame(\"ID\" = row.names(Q@meta.data), \"pseudo\" =  Q_time)\n",
    "KO_node_pseudo <- data.frame(\"ID\" = row.names(KO_tree$pseudotime), \"pseudo\" = KO_tree$pseudotime$pseudotime)\n",
    "WT_cell_pseudo <- data.frame(\"ID\" = row.names(R@meta.data), \"pseudo\" = R_time)\n",
    "WT_node_pseudo <- data.frame(\"ID\" = row.names(WT_tree$pseudotime), \"pseudo\" = WT_tree$pseudotime$pseudotime)\n",
    "KO_node_pseudotime <- matrix(KO_tree$pseudotime$pseudotime , dimnames = list(row.names(KO_tree$pseudotime)), )\n",
    "WT_node_pseudotime <- matrix(WT_tree$pseudotime$pseudotime , dimnames = list(row.names(WT_tree$pseudotime)), )\n",
    "#Get gene expression values for the interpolated points\n",
    "KO_node_exp_mtx <- nodeExpressionEstimate(Q_data, KO_node_pseudotime, KO_cell_pseudotime, window, adjust.window = T)\n",
    "WT_node_exp_mtx <- nodeExpressionEstimate(R_data, WT_node_pseudotime, WT_cell_pseudotime, window, adjust.window = T)\n",
    "\n",
    "dim(R)\n",
    "dim(Q)\n",
    "\n",
    "dev.new()\n",
    "\n",
    "cut_type = 'minimum'\n",
    "distance_metric = 'euclidean'\n",
    "alignment <- run_tragedy_DTW_celllevel(WT_node_exp_mtx, KO_node_exp_mtx, cut_type = cut_type, distance_metric = distance_metric)\n",
    "al_str <- get_5_state_alignment_str(alignment)\n",
    "print(paste('TrAGEDy DTW alignment [minimum cut - euclidean]: all', al_str))\n",
    "\n",
    "\n",
    "cut_type = 'minimum'\n",
    "distance_metric = 'spearman'\n",
    "alignment <- run_tragedy_DTW_celllevel(WT_node_exp_mtx, KO_node_exp_mtx, cut_type = cut_type, distance_metric = distance_metric)\n",
    "al_str <- get_5_state_alignment_str(alignment)\n",
    "print(paste('TrAGEDy DTW alignment [minimum cut - spearman]: all', al_str))\n",
    "\n",
    "\n",
    "dev.off()\n",
    "device_list <- dev.list()\n",
    "for (i in device_list) {\n",
    "    dev.off(i)\n",
    "}    "
   ]
  },
  {
   "cell_type": "code",
   "execution_count": 111,
   "id": "killing-reply",
   "metadata": {},
   "outputs": [
    {
     "name": "stdout",
     "output_type": "stream",
     "text": [
      "[1] \"TrAGEDy DTW alignment [minimum cut - euclidean]:    M M M M W W W W M I D I D M V M M I I I\"\n"
     ]
    }
   ],
   "source": [
    "cut_type = ''\n",
    "distance_metric = 'euclidean'\n",
    "alignment <- suppressWarnings(run_tragedy_DTW('SGMS2', cut_type = cut_type, distance_metric=distance_metric))\n",
    "al_str <- get_5_state_alignment_str(alignment)\n",
    "print(paste('TrAGEDy DTW alignment [minimum cut - euclidean]:  ', al_str))\n",
    "\n"
   ]
  },
  {
   "cell_type": "markdown",
   "id": "parental-implement",
   "metadata": {},
   "source": [
    "# Additional test - Healthy vs. IPF"
   ]
  },
  {
   "cell_type": "code",
   "execution_count": 92,
   "id": "iraqi-renewal",
   "metadata": {},
   "outputs": [
    {
     "name": "stderr",
     "output_type": "stream",
     "text": [
      "X -> counts\n",
      "\n",
      "X -> counts\n",
      "\n"
     ]
    },
    {
     "name": "stdout",
     "output_type": "stream",
     "text": [
      "[1] \"CellAlign DTW alignment: all:   M V M M V V W W W M V V V V V V W W W W W W\"\n"
     ]
    }
   ],
   "source": [
    "numPts = 13\n",
    "npts = numPts\n",
    "R = sceasy::convertFormat('g2g_datasets_to_test/adata_healthy.h5ad', from=\"anndata\", to=\"seurat\")\n",
    "Q = sceasy::convertFormat('g2g_datasets_to_test/adata_IPF.h5ad', from=\"anndata\", to=\"seurat\")\n",
    "R_data = R@assays$RNA@data\n",
    "Q_data = Q@assays$RNA@data\n",
    "R_time = R$time\n",
    "Q_time = Q$time\n",
    "\n",
    "# CellAlign\n",
    "interGlobalPAM = cellAlign::interWeights(expDataBatch = R_data, trajCond = R_time,\n",
    "                                             winSz = 0.1, numPts = numPts)\n",
    "interGlobalLPS = cellAlign::interWeights(expDataBatch = Q_data, trajCond = Q_time,\n",
    "                                                 winSz = 0.1, numPts = numPts)\n",
    "interScaledGlobalLPS = cellAlign::scaleInterpolate(interGlobalLPS)\n",
    "interScaledGlobalPAM = cellAlign::scaleInterpolate(interGlobalPAM)\n",
    "\n",
    "# Chekcking HHEX DTW alignment (for G2G manuscript Fig 3a)\n",
    "#alignment = suppressMessages(run_global_dtw('HHEX', interGlobalLPS, interGlobalPAM, interScaledGlobalLPS, interScaledGlobalPAM )) \n",
    "#al_str = get_3_state_alignment_str(alignment)\n",
    "#print(paste('CellAlign DTW alignment: HHEX: ', al_str))\n",
    "# Checking all TFs\n",
    "alignment = suppressMessages(run_global_dtw_all_genes(interGlobalLPS, interGlobalPAM, interScaledGlobalLPS, interScaledGlobalPAM )) \n",
    "al_str = get_3_state_alignment_str(alignment)\n",
    "print(paste('CellAlign DTW alignment: all: ', al_str))"
   ]
  },
  {
   "cell_type": "code",
   "execution_count": 94,
   "id": "supposed-shipping",
   "metadata": {},
   "outputs": [
    {
     "data": {
      "text/html": [
       "<style>\n",
       ".list-inline {list-style: none; margin:0; padding: 0}\n",
       ".list-inline>li {display: inline-block}\n",
       ".list-inline>li:not(:last-child)::after {content: \"\\00b7\"; padding: 0 .5ex}\n",
       "</style>\n",
       "<ol class=list-inline><li>994</li><li>3157</li></ol>\n"
      ],
      "text/latex": [
       "\\begin{enumerate*}\n",
       "\\item 994\n",
       "\\item 3157\n",
       "\\end{enumerate*}\n"
      ],
      "text/markdown": [
       "1. 994\n",
       "2. 3157\n",
       "\n",
       "\n"
      ],
      "text/plain": [
       "[1]  994 3157"
      ]
     },
     "metadata": {},
     "output_type": "display_data"
    },
    {
     "data": {
      "text/html": [
       "<style>\n",
       ".list-inline {list-style: none; margin:0; padding: 0}\n",
       ".list-inline>li {display: inline-block}\n",
       ".list-inline>li:not(:last-child)::after {content: \"\\00b7\"; padding: 0 .5ex}\n",
       "</style>\n",
       "<ol class=list-inline><li>994</li><li>890</li></ol>\n"
      ],
      "text/latex": [
       "\\begin{enumerate*}\n",
       "\\item 994\n",
       "\\item 890\n",
       "\\end{enumerate*}\n"
      ],
      "text/markdown": [
       "1. 994\n",
       "2. 890\n",
       "\n",
       "\n"
      ],
      "text/plain": [
       "[1] 994 890"
      ]
     },
     "metadata": {},
     "output_type": "display_data"
    }
   ],
   "source": [
    "dim(R)\n",
    "dim(Q)"
   ]
  },
  {
   "cell_type": "code",
   "execution_count": 97,
   "id": "cross-demographic",
   "metadata": {},
   "outputs": [
    {
     "data": {
      "image/png": "[encoded data removed]",
      "text/plain": [
       "Plot with title “Histogram of cell_pseudo”"
      ]
     },
     "metadata": {
      "image/png": {
       "height": 420,
       "width": 420
      }
     },
     "output_type": "display_data"
    },
    {
     "data": {
      "text/html": [
       "<style>\n",
       ".list-inline {list-style: none; margin:0; padding: 0}\n",
       ".list-inline>li {display: inline-block}\n",
       ".list-inline>li:not(:last-child)::after {content: \"\\00b7\"; padding: 0 .5ex}\n",
       "</style>\n",
       "<ol class=list-inline><li>994</li><li>3157</li></ol>\n"
      ],
      "text/latex": [
       "\\begin{enumerate*}\n",
       "\\item 994\n",
       "\\item 3157\n",
       "\\end{enumerate*}\n"
      ],
      "text/markdown": [
       "1. 994\n",
       "2. 3157\n",
       "\n",
       "\n"
      ],
      "text/plain": [
       "[1]  994 3157"
      ]
     },
     "metadata": {},
     "output_type": "display_data"
    },
    {
     "data": {
      "text/html": [
       "<style>\n",
       ".list-inline {list-style: none; margin:0; padding: 0}\n",
       ".list-inline>li {display: inline-block}\n",
       ".list-inline>li:not(:last-child)::after {content: \"\\00b7\"; padding: 0 .5ex}\n",
       "</style>\n",
       "<ol class=list-inline><li>994</li><li>890</li></ol>\n"
      ],
      "text/latex": [
       "\\begin{enumerate*}\n",
       "\\item 994\n",
       "\\item 890\n",
       "\\end{enumerate*}\n"
      ],
      "text/markdown": [
       "1. 994\n",
       "2. 890\n",
       "\n",
       "\n"
      ],
      "text/plain": [
       "[1] 994 890"
      ]
     },
     "metadata": {},
     "output_type": "display_data"
    },
    {
     "name": "stdout",
     "output_type": "stream",
     "text": [
      "[1] \"The mean score of your optimal path is 7.34333087037543. You should consider whether or not these two processes share a common process\"\n"
     ]
    },
    {
     "name": "stderr",
     "output_type": "stream",
     "text": [
      "Warning message in get_thresholds(alignment, dis_mtx, method):\n",
      "“NAs introduced by coercion”\n",
      "Warning message in get_thresholds(alignment, dis_mtx, method):\n",
      "“NAs introduced by coercion”\n"
     ]
    },
    {
     "name": "stdout",
     "output_type": "stream",
     "text": [
      "[1] \"TrAGEDy DTW alignment [minimum cut - euclidean]: all  M V M M M M M M V V I I I D D D D D D\"\n"
     ]
    },
    {
     "name": "stderr",
     "output_type": "stream",
     "text": [
      "Warning message in if (index_choice == 1) {:\n",
      "“the condition has length > 1 and only the first element will be used”\n",
      "Warning message in penalty_mtx[, 1] == choice[index_choice]:\n",
      "“longer object length is not a multiple of shorter object length”\n",
      "Warning message in get_thresholds(alignment, dis_mtx, method):\n",
      "“NAs introduced by coercion”\n",
      "Warning message in get_thresholds(alignment, dis_mtx, method):\n",
      "“NAs introduced by coercion”\n"
     ]
    },
    {
     "name": "stdout",
     "output_type": "stream",
     "text": [
      "[1] \"TrAGEDy DTW alignment [minimum cut - spearman]: all  M V M M M M M M I I I I D I D D D D D\"\n"
     ]
    },
    {
     "data": {
      "text/html": [
       "<strong>png:</strong> 2"
      ],
      "text/latex": [
       "\\textbf{png:} 2"
      ],
      "text/markdown": [
       "**png:** 2"
      ],
      "text/plain": [
       "png \n",
       "  2 "
      ]
     },
     "metadata": {},
     "output_type": "display_data"
    },
    {
     "data": {
      "image/png": "[encoded data removed]",
      "text/plain": [
       "Plot with title “Histogram of cell_pseudo”"
      ]
     },
     "metadata": {
      "image/png": {
       "height": 420,
       "width": 420
      }
     },
     "output_type": "display_data"
    }
   ],
   "source": [
    "\n",
    "\n",
    "# TrAGEDy\n",
    "pseudo_end <- min(c(max(Q_time, R_time)))\n",
    "window <- 0.1 # we use 0.1 the same window size for benchmarking (as CellAlign, G2G also use that as default)\n",
    "WT_cell_pseudotime <- matrix(R_time, dimnames =list(row.names(R@meta.data)  ))\n",
    "KO_cell_pseudotime <- matrix(Q_time, dimnames =list(row.names(Q@meta.data)  ))\n",
    "WT_ID <- data.frame(R@meta.data$ANNOTATION, row.names =row.names(R@meta.data))\n",
    "KO_ID <- data.frame(Q@meta.data$ANNOTATION, row.names =row.names(Q@meta.data))\n",
    "WT_tree <- nodePseudotime(WT_cell_pseudotime,WT_ID, numPts, \"WT\")\n",
    "KO_tree <- nodePseudotime(KO_cell_pseudotime,KO_ID, numPts, \"KO\")\n",
    "KO_cell_pseudo <- data.frame(\"ID\" = row.names(Q@meta.data), \"pseudo\" =  Q_time)\n",
    "KO_node_pseudo <- data.frame(\"ID\" = row.names(KO_tree$pseudotime), \"pseudo\" = KO_tree$pseudotime$pseudotime)\n",
    "WT_cell_pseudo <- data.frame(\"ID\" = row.names(R@meta.data), \"pseudo\" = R_time)\n",
    "WT_node_pseudo <- data.frame(\"ID\" = row.names(WT_tree$pseudotime), \"pseudo\" = WT_tree$pseudotime$pseudotime)\n",
    "KO_node_pseudotime <- matrix(KO_tree$pseudotime$pseudotime , dimnames = list(row.names(KO_tree$pseudotime)), )\n",
    "WT_node_pseudotime <- matrix(WT_tree$pseudotime$pseudotime , dimnames = list(row.names(WT_tree$pseudotime)), )\n",
    "#Get gene expression values for the interpolated points\n",
    "KO_node_exp_mtx <- nodeExpressionEstimate(Q_data, KO_node_pseudotime, KO_cell_pseudotime, window, adjust.window = T)\n",
    "WT_node_exp_mtx <- nodeExpressionEstimate(R_data, WT_node_pseudotime, WT_cell_pseudotime, window, adjust.window = T)\n",
    "\n",
    "dim(R)\n",
    "dim(Q)\n",
    "\n",
    "dev.new()\n",
    "\n",
    "cut_type = 'minimum'\n",
    "distance_metric = 'euclidean'\n",
    "alignment <- run_tragedy_DTW_celllevel(WT_node_exp_mtx, KO_node_exp_mtx, cut_type = cut_type, distance_metric = distance_metric)\n",
    "al_str <- get_5_state_alignment_str(alignment)\n",
    "print(paste('TrAGEDy DTW alignment [minimum cut - euclidean]: all', al_str))\n",
    "\n",
    "\n",
    "cut_type = 'minimum'\n",
    "distance_metric = 'spearman'\n",
    "alignment <- run_tragedy_DTW_celllevel(WT_node_exp_mtx, KO_node_exp_mtx, cut_type = cut_type, distance_metric = distance_metric)\n",
    "al_str <- get_5_state_alignment_str(alignment)\n",
    "print(paste('TrAGEDy DTW alignment [minimum cut - spearman]: all', al_str))\n",
    "\n",
    "\n",
    "dev.off()\n",
    "device_list <- dev.list()\n",
    "for (i in device_list) {\n",
    "    dev.off(i)\n",
    "}    "
   ]
  },
  {
   "cell_type": "code",
   "execution_count": 99,
   "id": "electronic-northwest",
   "metadata": {},
   "outputs": [
    {
     "name": "stdout",
     "output_type": "stream",
     "text": [
      "[1] \"The mean score of your optimal path is 1.64509353631163. You should consider whether or not these two processes share a common process\"\n",
      "[1] \"TrAGEDy DTW alignment [minimum cut - euclidean]: CAMK1D:   M M M M M M M M M M M M M\"\n"
     ]
    }
   ],
   "source": [
    "cut_type = ''\n",
    "distance_metric = 'euclidean'\n",
    "alignment <- suppressWarnings(run_tragedy_DTW('CAMK1D', cut_type = cut_type, distance_metric=distance_metric))\n",
    "al_str <- get_5_state_alignment_str(alignment)\n",
    "print(paste('TrAGEDy DTW alignment [minimum cut - euclidean]: CAMK1D: ', al_str))"
   ]
  },
  {
   "cell_type": "code",
   "execution_count": 100,
   "id": "illegal-scholarship",
   "metadata": {},
   "outputs": [
    {
     "ename": "ERROR",
     "evalue": "Error in rep(row.names(error_surface)[loc[1]:1], loc[2]): invalid 'times' argument\n",
     "output_type": "error",
     "traceback": [
      "Error in rep(row.names(error_surface)[loc[1]:1], loc[2]): invalid 'times' argument\nTraceback:\n",
      "1. suppressWarnings(run_tragedy_DTW(\"CAMK1D\", cut_type = cut_type, \n .     distance_metric = distance_metric))",
      "2. withCallingHandlers(expr, warning = function(w) if (inherits(w, \n .     classes)) tryInvokeRestart(\"muffleWarning\"))",
      "3. run_tragedy_DTW(\"CAMK1D\", cut_type = cut_type, distance_metric = distance_metric)",
      "4. pathfind(dis_matrix, cut_type = cut_type, method = \"mean\")   # at line 241 of file <text>",
      "5. traceback_pathfind(penalty_mtx, cut_type, method)",
      "6. cbind(rep(row.names(error_surface)[loc[1]:1], loc[2]), rep(colnames(error_surface)[loc[2]:1], \n .     loc[1]))",
      "7. standardGeneric(\"cbind\")",
      "8. eval(quote(list(...)), env)",
      "9. eval(quote(list(...)), env)",
      "10. eval(quote(list(...)), env)"
     ]
    },
    {
     "data": {
      "image/png": "[encoded data removed]",
      "text/plain": [
       "Plot with title “Histogram of distances_1”"
      ]
     },
     "metadata": {
      "image/png": {
       "height": 420,
       "width": 420
      }
     },
     "output_type": "display_data"
    },
    {
     "data": {
      "image/png": "[encoded data removed]",
      "text/plain": [
       "Plot with title “Histogram of distances_2”"
      ]
     },
     "metadata": {
      "image/png": {
       "height": 420,
       "width": 420
      }
     },
     "output_type": "display_data"
    }
   ],
   "source": [
    "cut_type = 'minimum'\n",
    "distance_metric = 'euclidean'\n",
    "alignment <- suppressWarnings(run_tragedy_DTW('CAMK1D', cut_type = cut_type, distance_metric=distance_metric))\n",
    "al_str <- get_5_state_alignment_str(alignment)\n",
    "print(paste('TrAGEDy DTW alignment [minimum cut - euclidean]: CAMK1D: ', al_str))"
   ]
  },
  {
   "cell_type": "code",
   "execution_count": null,
   "id": "severe-aquarium",
   "metadata": {},
   "outputs": [],
   "source": []
  },
  {
   "cell_type": "code",
   "execution_count": 196,
   "id": "internal-intermediate",
   "metadata": {},
   "outputs": [],
   "source": [
    "#    start = Sys.time()\n",
    "#    GENE = 'Gene1723'\n",
    "#    KO_node_exp_mtx_g <- as(matrix(KO_node_exp_mtx[unique(c(GENE)), ], nrow=1), 'dgeMatrix')\n",
    "#    WT_node_exp_mtx_g <- as(matrix(WT_node_exp_mtx[unique(c(GENE)), ], nrow=1), 'dgeMatrix')\n",
    "#    rownames(KO_node_exp_mtx_g) = c(GENE)\n",
    "#    colnames(KO_node_exp_mtx_g) = colnames(KO_node_exp_mtx)\n",
    "#    rownames(WT_node_exp_mtx_g) = c(GENE)\n",
    "#    colnames(WT_node_exp_mtx_g) = colnames(WT_node_exp_mtx)\n",
    "\n",
    "#    dis_matrix <- dis_mtx_calculator(as.matrix(WT_node_exp_mtx_g), as.matrix(KO_node_exp_mtx_g), \"euclidean\") \n",
    "#    path_uncut <- pathfind(dis_matrix, cut_type = \"minimum\", method = \"mean\")\n",
    "#    path_cut <- cut_deviate(path_uncut, dis_matrix, method = \"mean\")\n",
    "#    PlotAlignment(path_cut, dis_matrix)\n",
    "#    path_cut\n",
    "#    end = Sys.time() \n",
    "#    end-start\n",
    "\n",
    "#PlotOutput(WT_tree, KO_tree, path_cut)\n",
    "#path_uncut <- pathfind(dis_matrix, cut_type = \"\", method = \"mean\")\n",
    "#path_cut <- cut_deviate(path_uncut, dis_matrix, method = \"mean\")"
   ]
  },
  {
   "cell_type": "markdown",
   "id": "lightweight-excess",
   "metadata": {},
   "source": [
    "# Experiment 2 dataset gene-level alignment"
   ]
  },
  {
   "cell_type": "code",
   "execution_count": null,
   "id": "multiple-arctic",
   "metadata": {},
   "outputs": [],
   "source": [
    "DIR = '../GOOGLE_DRIVE_MOUNT/G2G_Analysis/G2G_paper_related/SimulationData/Experiment2/'\n",
    "# 3, 10, 15, 20\n",
    "for (i in c(15)){\n",
    "    refID <- paste(DIR,'ref_adata_I_size',  i, '.h5ad', sep='')\n",
    "    queryID <- paste(DIR,'query_adata_I_size',  i, '.h5ad', sep='')\n",
    "\n",
    "    numPts = 50\n",
    "    npts = numPts\n",
    "    R = sceasy::convertFormat(refID, from=\"anndata\", to=\"seurat\")\n",
    "    Q = sceasy::convertFormat(queryID, from=\"anndata\", to=\"seurat\")\n",
    "    R_data = R@assays$RNA@data\n",
    "    Q_data = Q@assays$RNA@data\n",
    "    R_time = R$time\n",
    "    Q_time = Q$time\n",
    "    \n",
    "    print(dim(R))\n",
    "    print(dim(Q)) \n",
    "    \n",
    "    # TrAGEDy\n",
    "    pseudo_end <- min(c(max(Q_time, R_time)))\n",
    "    window <- 0.1 # we use 0.1 the same window size for benchmarking (as CellAlign, G2G also use that as default)\n",
    "    WT_cell_pseudotime <- matrix(R_time, dimnames =list(row.names(R@meta.data)  ))\n",
    "    KO_cell_pseudotime <- matrix(Q_time, dimnames =list(row.names(Q@meta.data)  ))\n",
    "    WT_ID <- data.frame(R@meta.data$time, row.names =row.names(R@meta.data))\n",
    "    KO_ID <- data.frame(Q@meta.data$time, row.names =row.names(Q@meta.data))\n",
    "    WT_tree <- nodePseudotime(WT_cell_pseudotime,WT_ID, numPts, \"WT\")\n",
    "    KO_tree <- nodePseudotime(KO_cell_pseudotime,KO_ID, numPts, \"KO\")\n",
    "    KO_cell_pseudo <- data.frame(\"ID\" = row.names(Q@meta.data), \"pseudo\" =  Q_time)\n",
    "    KO_node_pseudo <- data.frame(\"ID\" = row.names(KO_tree$pseudotime), \"pseudo\" = KO_tree$pseudotime$pseudotime)\n",
    "    WT_cell_pseudo <- data.frame(\"ID\" = row.names(R@meta.data), \"pseudo\" = R_time)\n",
    "    WT_node_pseudo <- data.frame(\"ID\" = row.names(WT_tree$pseudotime), \"pseudo\" = WT_tree$pseudotime$pseudotime)\n",
    "    KO_node_pseudotime <- matrix(KO_tree$pseudotime$pseudotime , dimnames = list(row.names(KO_tree$pseudotime)), )\n",
    "    WT_node_pseudotime <- matrix(WT_tree$pseudotime$pseudotime , dimnames = list(row.names(WT_tree$pseudotime)), )\n",
    "    #Get gene expression values for the interpolated points\n",
    "    KO_node_exp_mtx <- nodeExpressionEstimate(Q_data, KO_node_pseudotime, KO_cell_pseudotime, window, adjust.window = T)\n",
    "    WT_node_exp_mtx <- nodeExpressionEstimate(R_data, WT_node_pseudotime, WT_cell_pseudotime, window, adjust.window = T)\n",
    "    \n",
    "    alignments = c() \n",
    "    genes = c() \n",
    "    t=1\n",
    "    for (g in rownames(R@assays$RNA@meta.features) ){\n",
    "        #if(g=='Egr1'){ # for some reason, TrAGEDy enters into a never ending loop for this gene when I size=3 tested\n",
    "        #    next \n",
    "        #}\n",
    "        if(g=='Gpx3'){# for some reason, TrAGEDy enters into a never ending loop for this gene when I size=10 ,size=15 size=20 tested\n",
    "            next\n",
    "        }\n",
    "        print(g)\n",
    "        tryCatch(\n",
    "            {\n",
    "                dev.new()\n",
    "                cut_type = 'minimum'\n",
    "                distance_metric = 'euclidean'\n",
    "                alignment <- suppressWarnings(run_tragedy_DTW(g, cut_type = cut_type, distance_metric=distance_metric, plot=FALSE))\n",
    "                al_str <- get_5_state_alignment_str(alignment)\n",
    "                alignments = append(alignments, al_str)\n",
    "                genes = append(genes, g)\n",
    "                #print(paste('TrAGEDy DTW alignment [minimum cut - euclidean]: all', al_str))\n",
    "                device_list <- dev.list()\n",
    "                for (k in device_list) {\n",
    "                    dev.off(k)\n",
    "                }    \n",
    "            } ,\n",
    "            error=function(e){\n",
    "                    #message('runtime error')\n",
    "                    # There are genes for which TrAGEDy gives errors (not sure why; CellAlign gives no errors for those genes)\n",
    "                    device_list <- dev.list()\n",
    "                    for (k in device_list) {\n",
    "                      dev.off(k)\n",
    "                }\n",
    "            }\n",
    "        )\n",
    "        t<- t+1\n",
    "    }\n",
    "    out_file <- paste('../[G2G]New_scripts/SimulationData/cellalign_output_clusters/Experiment2related/TrAGEDy_mincut/','I_size',  i,'.csv', sep='')\n",
    "    print(out_file)\n",
    "    write.csv(data.frame(Gene = genes, alignment_string = alignments ), out_file) \n",
    "    \n",
    "    break\n",
    "}"
   ]
  },
  {
   "cell_type": "code",
   "execution_count": 56,
   "id": "accompanied-south",
   "metadata": {},
   "outputs": [
    {
     "name": "stderr",
     "output_type": "stream",
     "text": [
      "X -> counts\n",
      "\n",
      "X -> counts\n",
      "\n"
     ]
    },
    {
     "name": "stdout",
     "output_type": "stream",
     "text": [
      "[1] 769 922\n",
      "[1] 769 923\n",
      "[1] \"../[G2G]New_scripts/SimulationData/cellalign_output_clusters/Experiment2related/TrAGEDy_nullcut/D_size0.csv\"\n"
     ]
    },
    {
     "name": "stderr",
     "output_type": "stream",
     "text": [
      "X -> counts\n",
      "\n",
      "X -> counts\n",
      "\n"
     ]
    },
    {
     "name": "stdout",
     "output_type": "stream",
     "text": [
      "[1] 769 922\n",
      "[1] 769 919\n",
      "[1] \"../[G2G]New_scripts/SimulationData/cellalign_output_clusters/Experiment2related/TrAGEDy_nullcut/D_size1.csv\"\n"
     ]
    },
    {
     "name": "stderr",
     "output_type": "stream",
     "text": [
      "X -> counts\n",
      "\n",
      "X -> counts\n",
      "\n"
     ]
    },
    {
     "name": "stdout",
     "output_type": "stream",
     "text": [
      "[1] 769 922\n",
      "[1] 769 885\n",
      "[1] \"../[G2G]New_scripts/SimulationData/cellalign_output_clusters/Experiment2related/TrAGEDy_nullcut/D_size3.csv\"\n"
     ]
    },
    {
     "name": "stderr",
     "output_type": "stream",
     "text": [
      "X -> counts\n",
      "\n",
      "X -> counts\n",
      "\n"
     ]
    },
    {
     "name": "stdout",
     "output_type": "stream",
     "text": [
      "[1] 769 922\n",
      "[1] 769 847\n",
      "[1] \"../[G2G]New_scripts/SimulationData/cellalign_output_clusters/Experiment2related/TrAGEDy_nullcut/D_size5.csv\"\n"
     ]
    },
    {
     "name": "stderr",
     "output_type": "stream",
     "text": [
      "X -> counts\n",
      "\n",
      "X -> counts\n",
      "\n"
     ]
    },
    {
     "name": "stdout",
     "output_type": "stream",
     "text": [
      "[1] 769 922\n",
      "[1] 769 813\n",
      "[1] \"../[G2G]New_scripts/SimulationData/cellalign_output_clusters/Experiment2related/TrAGEDy_nullcut/D_size10.csv\"\n"
     ]
    },
    {
     "name": "stderr",
     "output_type": "stream",
     "text": [
      "X -> counts\n",
      "\n",
      "X -> counts\n",
      "\n"
     ]
    },
    {
     "name": "stdout",
     "output_type": "stream",
     "text": [
      "[1] 769 922\n",
      "[1] 769 797\n",
      "[1] \"../[G2G]New_scripts/SimulationData/cellalign_output_clusters/Experiment2related/TrAGEDy_nullcut/D_size15.csv\"\n"
     ]
    },
    {
     "name": "stderr",
     "output_type": "stream",
     "text": [
      "X -> counts\n",
      "\n",
      "X -> counts\n",
      "\n"
     ]
    },
    {
     "name": "stdout",
     "output_type": "stream",
     "text": [
      "[1] 769 922\n",
      "[1] 769 773\n",
      "[1] \"The mean score of your optimal path is 0.508698747977051. You should consider whether or not these two processes share a common process\"\n",
      "[1] \"../[G2G]New_scripts/SimulationData/cellalign_output_clusters/Experiment2related/TrAGEDy_nullcut/D_size20.csv\"\n"
     ]
    },
    {
     "data": {
      "image/png": "[encoded data removed]",
      "text/plain": [
       "Plot with title “Histogram of cell_pseudo”"
      ]
     },
     "metadata": {
      "image/png": {
       "height": 420,
       "width": 420
      }
     },
     "output_type": "display_data"
    }
   ],
   "source": [
    "DIR = '../GOOGLE_DRIVE_MOUNT/G2G_Analysis/G2G_paper_related/SimulationData/Experiment2/'\n",
    "# 3, 10, 15, 20\n",
    "for (i in c(0,1,3,5,10,15,20)){\n",
    "    refID <- paste(DIR,'ref_adata_D_size',  i, '.h5ad', sep='')\n",
    "    queryID <- paste(DIR,'query_adata_D_size',  i, '.h5ad', sep='')\n",
    "\n",
    "    numPts = 50\n",
    "    npts = numPts\n",
    "    R = sceasy::convertFormat(refID, from=\"anndata\", to=\"seurat\")\n",
    "    Q = sceasy::convertFormat(queryID, from=\"anndata\", to=\"seurat\")\n",
    "    R_data = R@assays$RNA@data\n",
    "    Q_data = Q@assays$RNA@data\n",
    "    R_time = R$time\n",
    "    Q_time = Q$time\n",
    "    \n",
    "    print(dim(R))\n",
    "    print(dim(Q)) \n",
    "    \n",
    "    # TrAGEDy\n",
    "    pseudo_end <- min(c(max(Q_time, R_time)))\n",
    "    window <- 0.1 # we use 0.1 the same window size for benchmarking (as CellAlign, G2G also use that as default)\n",
    "    WT_cell_pseudotime <- matrix(R_time, dimnames =list(row.names(R@meta.data)  ))\n",
    "    KO_cell_pseudotime <- matrix(Q_time, dimnames =list(row.names(Q@meta.data)  ))\n",
    "    WT_ID <- data.frame(R@meta.data$time, row.names =row.names(R@meta.data))\n",
    "    KO_ID <- data.frame(Q@meta.data$time, row.names =row.names(Q@meta.data))\n",
    "    WT_tree <- nodePseudotime(WT_cell_pseudotime,WT_ID, numPts, \"WT\")\n",
    "    KO_tree <- nodePseudotime(KO_cell_pseudotime,KO_ID, numPts, \"KO\")\n",
    "    KO_cell_pseudo <- data.frame(\"ID\" = row.names(Q@meta.data), \"pseudo\" =  Q_time)\n",
    "    KO_node_pseudo <- data.frame(\"ID\" = row.names(KO_tree$pseudotime), \"pseudo\" = KO_tree$pseudotime$pseudotime)\n",
    "    WT_cell_pseudo <- data.frame(\"ID\" = row.names(R@meta.data), \"pseudo\" = R_time)\n",
    "    WT_node_pseudo <- data.frame(\"ID\" = row.names(WT_tree$pseudotime), \"pseudo\" = WT_tree$pseudotime$pseudotime)\n",
    "    KO_node_pseudotime <- matrix(KO_tree$pseudotime$pseudotime , dimnames = list(row.names(KO_tree$pseudotime)), )\n",
    "    WT_node_pseudotime <- matrix(WT_tree$pseudotime$pseudotime , dimnames = list(row.names(WT_tree$pseudotime)), )\n",
    "    #Get gene expression values for the interpolated points\n",
    "    KO_node_exp_mtx <- nodeExpressionEstimate(Q_data, KO_node_pseudotime, KO_cell_pseudotime, window, adjust.window = T)\n",
    "    WT_node_exp_mtx <- nodeExpressionEstimate(R_data, WT_node_pseudotime, WT_cell_pseudotime, window, adjust.window = T)\n",
    "    \n",
    "    alignments = c() \n",
    "    genes = c() \n",
    "    t=1\n",
    "    for (g in rownames(R@assays$RNA@meta.features) ){\n",
    "        #if(g=='Egr1'){ # for some reason, TrAGEDy enters into a never ending loop for this gene when I size=3 tested\n",
    "        #    next \n",
    "        #}\n",
    "        #if(g=='Gpx3'){# for some reason, TrAGEDy enters into a never ending loop for this gene when I size=10 ,size=15 size=20 tested\n",
    "        #    next\n",
    "        #}\n",
    "        #print(g)\n",
    "        tryCatch(\n",
    "            {\n",
    "                dev.new()\n",
    "                cut_type = ''\n",
    "                distance_metric = 'euclidean'\n",
    "                alignment <- suppressWarnings(run_tragedy_DTW(g, cut_type = cut_type, distance_metric=distance_metric, plot=FALSE))\n",
    "                al_str <- get_5_state_alignment_str(alignment)\n",
    "                alignments = append(alignments, al_str)\n",
    "                genes = append(genes, g)\n",
    "                #print(paste('TrAGEDy DTW alignment [minimum cut - euclidean]: all', al_str))\n",
    "                device_list <- dev.list()\n",
    "                for (k in device_list) {\n",
    "                    dev.off(k)\n",
    "                }    \n",
    "            } ,\n",
    "            error=function(e){\n",
    "                    #message('runtime error')\n",
    "                    # There are genes for which TrAGEDy gives errors (not sure why; CellAlign gives no errors for those genes)\n",
    "                    device_list <- dev.list()\n",
    "                    for (k in device_list) {\n",
    "                      dev.off(k)\n",
    "                }\n",
    "            }\n",
    "        )\n",
    "        t<- t+1\n",
    "    }\n",
    "    out_file <- paste('../[G2G]New_scripts/SimulationData/cellalign_output_clusters/Experiment2related/TrAGEDy_nullcut/','D_size',  i,'.csv', sep='')\n",
    "    print(out_file)\n",
    "    write.csv(data.frame(Gene = genes, alignment_string = alignments ), out_file) \n",
    "}"
   ]
  },
  {
   "cell_type": "markdown",
   "id": "threaded-federation",
   "metadata": {},
   "source": [
    "# Experiment 2 dataset cell-level alignment"
   ]
  },
  {
   "cell_type": "code",
   "execution_count": 52,
   "id": "appointed-owner",
   "metadata": {},
   "outputs": [
    {
     "name": "stderr",
     "output_type": "stream",
     "text": [
      "X -> counts\n",
      "\n",
      "X -> counts\n",
      "\n"
     ]
    },
    {
     "name": "stdout",
     "output_type": "stream",
     "text": [
      "[1] 769 922\n",
      "[1] 769 923\n",
      "[1] \"The mean score of your optimal path is 1.19952534878688. You should consider whether or not these two processes share a common process\"\n",
      "[1] \"size= 0\"\n",
      "[1] \" M M M M M M M M M M M M M M M M M M M M M M M M M M M M M M M M M M M M M M M M M M M M M M M M M M\"\n"
     ]
    },
    {
     "name": "stderr",
     "output_type": "stream",
     "text": [
      "X -> counts\n",
      "\n",
      "X -> counts\n",
      "\n"
     ]
    },
    {
     "name": "stdout",
     "output_type": "stream",
     "text": [
      "[1] 769 922\n",
      "[1] 769 923\n",
      "[1] \"The mean score of your optimal path is 1.2074030474999. You should consider whether or not these two processes share a common process\"\n",
      "[1] \"size= 1\"\n",
      "[1] \" M M M M M M M M M M M M M M M M M M M M M M M M M M M M M M M M M M M M M M M M M M M M M M M M M M\"\n"
     ]
    },
    {
     "name": "stderr",
     "output_type": "stream",
     "text": [
      "X -> counts\n",
      "\n",
      "X -> counts\n",
      "\n"
     ]
    },
    {
     "name": "stdout",
     "output_type": "stream",
     "text": [
      "[1] 769 922\n",
      "[1] 769 923\n",
      "[1] \"The mean score of your optimal path is 1.72078155957718. You should consider whether or not these two processes share a common process\"\n",
      "[1] \"size= 3\"\n",
      "[1] \" I D I D I D M M M M M M M M M M M M M M M M M M M M M M M M M M M M M M M M M M M M M M M M M M M M M M M\"\n"
     ]
    },
    {
     "name": "stderr",
     "output_type": "stream",
     "text": [
      "X -> counts\n",
      "\n",
      "X -> counts\n",
      "\n"
     ]
    },
    {
     "name": "stdout",
     "output_type": "stream",
     "text": [
      "[1] 769 922\n",
      "[1] 769 923\n",
      "[1] \"The mean score of your optimal path is 2.64544367722363. You should consider whether or not these two processes share a common process\"\n",
      "[1] \"size= 5\"\n",
      "[1] \" I D I D I D I D I D I D I D I D M M M M M M M M M M M M M M M M M M M M M M M M M M M M M M M M M M M M M M M M M M\"\n"
     ]
    },
    {
     "name": "stderr",
     "output_type": "stream",
     "text": [
      "X -> counts\n",
      "\n",
      "X -> counts\n",
      "\n"
     ]
    },
    {
     "name": "stdout",
     "output_type": "stream",
     "text": [
      "[1] 769 922\n",
      "[1] 769 923\n",
      "[1] \"The mean score of your optimal path is 3.72982867427958. You should consider whether or not these two processes share a common process\"\n",
      "[1] \"size= 10\"\n",
      "[1] \" I D I D I D I D I D I D I D I D I D I D I D M M M M M M M M M M M M M M M M M M M M M M M M M M M M M M M M M M M M M M M\"\n"
     ]
    },
    {
     "name": "stderr",
     "output_type": "stream",
     "text": [
      "X -> counts\n",
      "\n",
      "X -> counts\n",
      "\n"
     ]
    },
    {
     "name": "stdout",
     "output_type": "stream",
     "text": [
      "[1] 769 922\n",
      "[1] 769 923\n",
      "[1] \"The mean score of your optimal path is 4.41306495260196. You should consider whether or not these two processes share a common process\"\n",
      "[1] \"size= 15\"\n",
      "[1] \" I D I D I D I D I D I D I D I D I D I D I D I D I D I D M M M M M M M M M M M M M M M M M M M M M M M M M M M M M M M M M M M M\"\n"
     ]
    },
    {
     "name": "stderr",
     "output_type": "stream",
     "text": [
      "X -> counts\n",
      "\n",
      "X -> counts\n",
      "\n"
     ]
    },
    {
     "name": "stdout",
     "output_type": "stream",
     "text": [
      "[1] 769 922\n",
      "[1] 769 923\n",
      "[1] \"The mean score of your optimal path is 5.58910016783243. You should consider whether or not these two processes share a common process\"\n",
      "[1] \"size= 20\"\n",
      "[1] \" I D I D I D I D I D I D I D I D I D I D I D I D I D I D I D I D I D I D M M M M M M M M M M M M M M M M M M M M M M M M M M M M M M M M\"\n"
     ]
    }
   ],
   "source": [
    "DIR = '../GOOGLE_DRIVE_MOUNT/G2G_Analysis/G2G_paper_related/SimulationData/Experiment2/'\n",
    "\n",
    "for (i in c(0,1,3,5,10,15,20)){\n",
    "    refID <- paste(DIR,'ref_adata_I_size',  i, '.h5ad', sep='')\n",
    "    queryID <- paste(DIR,'query_adata_I_size',  i, '.h5ad', sep='')\n",
    "\n",
    "    numPts = 50\n",
    "    npts = numPts\n",
    "    R = sceasy::convertFormat(refID, from=\"anndata\", to=\"seurat\")\n",
    "    Q = sceasy::convertFormat(queryID, from=\"anndata\", to=\"seurat\")\n",
    "    R_data = R@assays$RNA@data\n",
    "    Q_data = Q@assays$RNA@data\n",
    "    R_time = R$time\n",
    "    Q_time = Q$time\n",
    "    \n",
    "    print(dim(R))\n",
    "    print(dim(Q)) \n",
    "    \n",
    "    # TrAGEDy\n",
    "    dev.new()\n",
    "    pseudo_end <- min(c(max(Q_time, R_time)))\n",
    "    window <- 0.1 # we use 0.1 the same window size for benchmarking (as CellAlign, G2G also use that as default)\n",
    "    WT_cell_pseudotime <- matrix(R_time, dimnames =list(row.names(R@meta.data)  ))\n",
    "    KO_cell_pseudotime <- matrix(Q_time, dimnames =list(row.names(Q@meta.data)  ))\n",
    "    WT_ID <- data.frame(R@meta.data$time, row.names =row.names(R@meta.data))\n",
    "    KO_ID <- data.frame(Q@meta.data$time, row.names =row.names(Q@meta.data))\n",
    "    WT_tree <- nodePseudotime(WT_cell_pseudotime,WT_ID, numPts, \"WT\")\n",
    "    KO_tree <- nodePseudotime(KO_cell_pseudotime,KO_ID, numPts, \"KO\")\n",
    "    KO_cell_pseudo <- data.frame(\"ID\" = row.names(Q@meta.data), \"pseudo\" =  Q_time)\n",
    "    KO_node_pseudo <- data.frame(\"ID\" = row.names(KO_tree$pseudotime), \"pseudo\" = KO_tree$pseudotime$pseudotime)\n",
    "    WT_cell_pseudo <- data.frame(\"ID\" = row.names(R@meta.data), \"pseudo\" = R_time)\n",
    "    WT_node_pseudo <- data.frame(\"ID\" = row.names(WT_tree$pseudotime), \"pseudo\" = WT_tree$pseudotime$pseudotime)\n",
    "    KO_node_pseudotime <- matrix(KO_tree$pseudotime$pseudotime , dimnames = list(row.names(KO_tree$pseudotime)), )\n",
    "    WT_node_pseudotime <- matrix(WT_tree$pseudotime$pseudotime , dimnames = list(row.names(WT_tree$pseudotime)), )\n",
    "    #Get gene expression values for the interpolated points\n",
    "    KO_node_exp_mtx <- nodeExpressionEstimate(Q_data, KO_node_pseudotime, KO_cell_pseudotime, window, adjust.window = T)\n",
    "    WT_node_exp_mtx <- nodeExpressionEstimate(R_data, WT_node_pseudotime, WT_cell_pseudotime, window, adjust.window = T)\n",
    "    \n",
    "    cut_type = ''\n",
    "    distance_metric = 'euclidean'\n",
    "    alignment <- suppressWarnings(run_tragedy_DTW_celllevel(WT_node_exp_mtx, KO_node_exp_mtx, cut_type = cut_type, distance_metric, plot=FALSE))\n",
    "    al_str <- get_5_state_alignment_str(alignment)\n",
    "    print(paste('size=',i))\n",
    "    print(al_str)\n",
    "    \n",
    "    \n",
    "    #dev.off() \n",
    "    #print(paste(patterns[i], al_str))\n",
    "    device_list <- dev.list()\n",
    "    for (d in device_list) {\n",
    "        dev.off(d)\n",
    "    }    \n",
    "    #group_ids <- append(group_ids, patterns[i])\n",
    "    #cellalignments <- append(cellalignments, al_str)\n",
    "    \n",
    "\n",
    "}"
   ]
  },
  {
   "cell_type": "code",
   "execution_count": 53,
   "id": "developing-lemon",
   "metadata": {},
   "outputs": [
    {
     "name": "stderr",
     "output_type": "stream",
     "text": [
      "X -> counts\n",
      "\n",
      "X -> counts\n",
      "\n"
     ]
    },
    {
     "name": "stdout",
     "output_type": "stream",
     "text": [
      "[1] 769 922\n",
      "[1] 769 923\n",
      "[1] \"The mean score of your optimal path is 1.19952534878688. You should consider whether or not these two processes share a common process\"\n",
      "[1] \"size= 0\"\n",
      "[1] \" M M M M M M M M M M M M M M M M M M M M M M M M M M M M M M M M M M M M M M M M M M M M M M M M M M\"\n"
     ]
    },
    {
     "name": "stderr",
     "output_type": "stream",
     "text": [
      "X -> counts\n",
      "\n",
      "X -> counts\n",
      "\n"
     ]
    },
    {
     "name": "stdout",
     "output_type": "stream",
     "text": [
      "[1] 769 922\n",
      "[1] 769 923\n",
      "[1] \"The mean score of your optimal path is 1.2074030474999. You should consider whether or not these two processes share a common process\"\n",
      "[1] \"size= 1\"\n",
      "[1] \" M M M M M M M M M M M M M M M M M M M M M M M M M M M M M M M M M M M M M M M M M M M M M M M M M M\"\n"
     ]
    },
    {
     "name": "stderr",
     "output_type": "stream",
     "text": [
      "X -> counts\n",
      "\n",
      "X -> counts\n",
      "\n"
     ]
    },
    {
     "name": "stdout",
     "output_type": "stream",
     "text": [
      "[1] 769 922\n",
      "[1] 769 923\n",
      "[1] \"The mean score of your optimal path is 1.50881952541935. You should consider whether or not these two processes share a common process\"\n",
      "[1] \"size= 3\"\n",
      "[1] \" I I I I D M M M M M W M W M W M M M M M M M M M M M M M M M M M M M M M M M M M M M M M M M M M M M M M M M\"\n"
     ]
    },
    {
     "name": "stderr",
     "output_type": "stream",
     "text": [
      "X -> counts\n",
      "\n",
      "X -> counts\n",
      "\n"
     ]
    },
    {
     "name": "stdout",
     "output_type": "stream",
     "text": [
      "[1] 769 922\n",
      "[1] 769 923\n",
      "[1] \"The mean score of your optimal path is 1.8252430211786. You should consider whether or not these two processes share a common process\"\n",
      "[1] \"size= 5\"\n",
      "[1] \" I I I I I I I I I D I D M W W M W W W W M W M W M M M M M M M M M M M M M M M M M M M M M M M M M M M M M M M M M M M M\"\n"
     ]
    },
    {
     "name": "stderr",
     "output_type": "stream",
     "text": [
      "X -> counts\n",
      "\n",
      "X -> counts\n",
      "\n"
     ]
    },
    {
     "name": "stdout",
     "output_type": "stream",
     "text": [
      "[1] 769 922\n",
      "[1] 769 923\n",
      "[1] \"The mean score of your optimal path is 2.27323612328674. You should consider whether or not these two processes share a common process\"\n",
      "[1] \"size= 10\"\n",
      "[1] \" I I I I I I I I I I I I I D I D I D D D D D W M W W W W W M W M M M M M M W M M M M M M M M M M M M M M M M M M M M M M M M M M M\"\n"
     ]
    },
    {
     "name": "stderr",
     "output_type": "stream",
     "text": [
      "X -> counts\n",
      "\n",
      "X -> counts\n",
      "\n"
     ]
    },
    {
     "name": "stdout",
     "output_type": "stream",
     "text": [
      "[1] 769 922\n",
      "[1] 769 923\n",
      "[1] \"The mean score of your optimal path is 2.68894902548386. You should consider whether or not these two processes share a common process\"\n",
      "[1] \"size= 15\"\n",
      "[1] \" I I I I I I I I I I I I I I I I D I D I D I D D D D D D W W W W W W M W W M W M M M W M M M M M M M M M M M M M M M M M M M M M M M M M M\"\n"
     ]
    },
    {
     "name": "stderr",
     "output_type": "stream",
     "text": [
      "X -> counts\n",
      "\n",
      "X -> counts\n",
      "\n"
     ]
    },
    {
     "name": "stdout",
     "output_type": "stream",
     "text": [
      "[1] 769 922\n",
      "[1] 769 923\n",
      "[1] \"The mean score of your optimal path is 3.39697303388859. You should consider whether or not these two processes share a common process\"\n",
      "[1] \"size= 20\"\n",
      "[1] \" I I I I I I I I I I I I I I I I I I I I I D I D I D D D D D D D D D W W W M W W W W W W M W W M W M M M M M M M M M M M M M M M M M M M M M M M M\"\n"
     ]
    }
   ],
   "source": [
    "DIR = '../GOOGLE_DRIVE_MOUNT/G2G_Analysis/G2G_paper_related/SimulationData/Experiment2/'\n",
    "\n",
    "for (i in c(0,1,3,5,10,15,20)){\n",
    "    refID <- paste(DIR,'ref_adata_I_size',  i, '.h5ad', sep='')\n",
    "    queryID <- paste(DIR,'query_adata_I_size',  i, '.h5ad', sep='')\n",
    "\n",
    "    numPts = 50\n",
    "    npts = numPts\n",
    "    R = sceasy::convertFormat(refID, from=\"anndata\", to=\"seurat\")\n",
    "    Q = sceasy::convertFormat(queryID, from=\"anndata\", to=\"seurat\")\n",
    "    R_data = R@assays$RNA@data\n",
    "    Q_data = Q@assays$RNA@data\n",
    "    R_time = R$time\n",
    "    Q_time = Q$time\n",
    "    \n",
    "    print(dim(R))\n",
    "    print(dim(Q)) \n",
    "    \n",
    "    # TrAGEDy\n",
    "    dev.new()\n",
    "    pseudo_end <- min(c(max(Q_time, R_time)))\n",
    "    window <- 0.1 # we use 0.1 the same window size for benchmarking (as CellAlign, G2G also use that as default)\n",
    "    WT_cell_pseudotime <- matrix(R_time, dimnames =list(row.names(R@meta.data)  ))\n",
    "    KO_cell_pseudotime <- matrix(Q_time, dimnames =list(row.names(Q@meta.data)  ))\n",
    "    WT_ID <- data.frame(R@meta.data$time, row.names =row.names(R@meta.data))\n",
    "    KO_ID <- data.frame(Q@meta.data$time, row.names =row.names(Q@meta.data))\n",
    "    WT_tree <- nodePseudotime(WT_cell_pseudotime,WT_ID, numPts, \"WT\")\n",
    "    KO_tree <- nodePseudotime(KO_cell_pseudotime,KO_ID, numPts, \"KO\")\n",
    "    KO_cell_pseudo <- data.frame(\"ID\" = row.names(Q@meta.data), \"pseudo\" =  Q_time)\n",
    "    KO_node_pseudo <- data.frame(\"ID\" = row.names(KO_tree$pseudotime), \"pseudo\" = KO_tree$pseudotime$pseudotime)\n",
    "    WT_cell_pseudo <- data.frame(\"ID\" = row.names(R@meta.data), \"pseudo\" = R_time)\n",
    "    WT_node_pseudo <- data.frame(\"ID\" = row.names(WT_tree$pseudotime), \"pseudo\" = WT_tree$pseudotime$pseudotime)\n",
    "    KO_node_pseudotime <- matrix(KO_tree$pseudotime$pseudotime , dimnames = list(row.names(KO_tree$pseudotime)), )\n",
    "    WT_node_pseudotime <- matrix(WT_tree$pseudotime$pseudotime , dimnames = list(row.names(WT_tree$pseudotime)), )\n",
    "    #Get gene expression values for the interpolated points\n",
    "    KO_node_exp_mtx <- nodeExpressionEstimate(Q_data, KO_node_pseudotime, KO_cell_pseudotime, window, adjust.window = T)\n",
    "    WT_node_exp_mtx <- nodeExpressionEstimate(R_data, WT_node_pseudotime, WT_cell_pseudotime, window, adjust.window = T)\n",
    "    \n",
    "    cut_type = 'minimum'\n",
    "    distance_metric = 'euclidean'\n",
    "    alignment <- suppressWarnings(run_tragedy_DTW_celllevel(WT_node_exp_mtx, KO_node_exp_mtx, cut_type = cut_type, distance_metric, plot=FALSE))\n",
    "    al_str <- get_5_state_alignment_str(alignment)\n",
    "    print(paste('size=',i))\n",
    "    print(al_str)\n",
    "    \n",
    "    \n",
    "    #dev.off() \n",
    "    #print(paste(patterns[i], al_str))\n",
    "    device_list <- dev.list()\n",
    "    for (d in device_list) {\n",
    "        dev.off(d)\n",
    "    }    \n",
    "    #group_ids <- append(group_ids, patterns[i])\n",
    "    #cellalignments <- append(cellalignments, al_str)\n",
    "    \n",
    "\n",
    "}"
   ]
  },
  {
   "cell_type": "code",
   "execution_count": 54,
   "id": "incorporated-statement",
   "metadata": {},
   "outputs": [
    {
     "name": "stderr",
     "output_type": "stream",
     "text": [
      "X -> counts\n",
      "\n",
      "X -> counts\n",
      "\n"
     ]
    },
    {
     "name": "stdout",
     "output_type": "stream",
     "text": [
      "[1] 769 922\n",
      "[1] 769 923\n",
      "[1] \"The mean score of your optimal path is 1.19952534878688. You should consider whether or not these two processes share a common process\"\n",
      "[1] \"size= 0\"\n",
      "[1] \" M M M M M M M M M M M M M M M M M M M M M M M M M M M M M M M M M M M M M M M M M M M M M M M M M M\"\n"
     ]
    },
    {
     "name": "stderr",
     "output_type": "stream",
     "text": [
      "X -> counts\n",
      "\n",
      "X -> counts\n",
      "\n"
     ]
    },
    {
     "name": "stdout",
     "output_type": "stream",
     "text": [
      "[1] 769 922\n",
      "[1] 769 919\n",
      "[1] \"The mean score of your optimal path is 1.2052245315524. You should consider whether or not these two processes share a common process\"\n",
      "[1] \"size= 1\"\n",
      "[1] \" M M M M M M M M M M M M M M M M M M M M M M M M M M M M M M M M M M M M M M M M M M M M M M M M M M\"\n"
     ]
    },
    {
     "name": "stderr",
     "output_type": "stream",
     "text": [
      "X -> counts\n",
      "\n",
      "X -> counts\n",
      "\n"
     ]
    },
    {
     "name": "stdout",
     "output_type": "stream",
     "text": [
      "[1] 769 922\n",
      "[1] 769 885\n",
      "[1] \"The mean score of your optimal path is 1.26818776075885. You should consider whether or not these two processes share a common process\"\n",
      "[1] \"size= 3\"\n",
      "[1] \" M W W M M M M M M M M M M M M M M M M M M M M M M M M M M M M V M M M M M M M M M M M V M M M M M M M M\"\n"
     ]
    },
    {
     "name": "stderr",
     "output_type": "stream",
     "text": [
      "X -> counts\n",
      "\n",
      "X -> counts\n",
      "\n"
     ]
    },
    {
     "name": "stdout",
     "output_type": "stream",
     "text": [
      "[1] 769 922\n",
      "[1] 769 847\n",
      "[1] \"The mean score of your optimal path is 1.40990532941013. You should consider whether or not these two processes share a common process\"\n",
      "[1] \"size= 5\"\n",
      "[1] \" M W W W W M M M M M M M M M M M V M M M M M M M M M M M M M V M M M M M M V M M M M M M M M M V M M M M M M\"\n"
     ]
    },
    {
     "name": "stderr",
     "output_type": "stream",
     "text": [
      "X -> counts\n",
      "\n",
      "X -> counts\n",
      "\n"
     ]
    },
    {
     "name": "stdout",
     "output_type": "stream",
     "text": [
      "[1] 769 922\n",
      "[1] 769 813\n",
      "[1] \"The mean score of your optimal path is 2.0657846583058. You should consider whether or not these two processes share a common process\"\n",
      "[1] \"size= 10\"\n",
      "[1] \" I D D D D D D W M M M M M M M M M M M M M M M M M M M M V M M M M M V M M M V M M M V M M M V M M M M M M M M V M\"\n"
     ]
    },
    {
     "name": "stderr",
     "output_type": "stream",
     "text": [
      "X -> counts\n",
      "\n",
      "X -> counts\n",
      "\n"
     ]
    },
    {
     "name": "stdout",
     "output_type": "stream",
     "text": [
      "[1] 769 922\n",
      "[1] 769 797\n",
      "[1] \"The mean score of your optimal path is 2.3110499701777. You should consider whether or not these two processes share a common process\"\n",
      "[1] \"size= 15\"\n",
      "[1] \" I D D D D D D D D D W W M M M M M M M M M M M M M M M M V M M M V M M V M M V M M V M M V M M V M M M M V M M M M V M V M\"\n"
     ]
    },
    {
     "name": "stderr",
     "output_type": "stream",
     "text": [
      "X -> counts\n",
      "\n",
      "X -> counts\n",
      "\n"
     ]
    },
    {
     "name": "stdout",
     "output_type": "stream",
     "text": [
      "[1] 769 922\n",
      "[1] 769 773\n",
      "[1] \"The mean score of your optimal path is 2.73667441352156. You should consider whether or not these two processes share a common process\"\n",
      "[1] \"size= 20\"\n",
      "[1] \" I D D D D D D D D D D D W W W W M M M M M M M M M M M M M M M V M M V M V M V M M V M V M V M V M M V M M M V M V M M M V M V V M\"\n"
     ]
    }
   ],
   "source": [
    "DIR = '../GOOGLE_DRIVE_MOUNT/G2G_Analysis/G2G_paper_related/SimulationData/Experiment2/'\n",
    "\n",
    "for (i in c(0,1,3,5,10,15,20)){\n",
    "    refID <- paste(DIR,'ref_adata_D_size',  i, '.h5ad', sep='')\n",
    "    queryID <- paste(DIR,'query_adata_D_size',  i, '.h5ad', sep='')\n",
    "\n",
    "    numPts = 50\n",
    "    npts = numPts\n",
    "    R = sceasy::convertFormat(refID, from=\"anndata\", to=\"seurat\")\n",
    "    Q = sceasy::convertFormat(queryID, from=\"anndata\", to=\"seurat\")\n",
    "    R_data = R@assays$RNA@data\n",
    "    Q_data = Q@assays$RNA@data\n",
    "    R_time = R$time\n",
    "    Q_time = Q$time\n",
    "    \n",
    "    print(dim(R))\n",
    "    print(dim(Q)) \n",
    "    \n",
    "    # TrAGEDy\n",
    "    dev.new()\n",
    "    pseudo_end <- min(c(max(Q_time, R_time)))\n",
    "    window <- 0.1 # we use 0.1 the same window size for benchmarking (as CellAlign, G2G also use that as default)\n",
    "    WT_cell_pseudotime <- matrix(R_time, dimnames =list(row.names(R@meta.data)  ))\n",
    "    KO_cell_pseudotime <- matrix(Q_time, dimnames =list(row.names(Q@meta.data)  ))\n",
    "    WT_ID <- data.frame(R@meta.data$time, row.names =row.names(R@meta.data))\n",
    "    KO_ID <- data.frame(Q@meta.data$time, row.names =row.names(Q@meta.data))\n",
    "    WT_tree <- nodePseudotime(WT_cell_pseudotime,WT_ID, numPts, \"WT\")\n",
    "    KO_tree <- nodePseudotime(KO_cell_pseudotime,KO_ID, numPts, \"KO\")\n",
    "    KO_cell_pseudo <- data.frame(\"ID\" = row.names(Q@meta.data), \"pseudo\" =  Q_time)\n",
    "    KO_node_pseudo <- data.frame(\"ID\" = row.names(KO_tree$pseudotime), \"pseudo\" = KO_tree$pseudotime$pseudotime)\n",
    "    WT_cell_pseudo <- data.frame(\"ID\" = row.names(R@meta.data), \"pseudo\" = R_time)\n",
    "    WT_node_pseudo <- data.frame(\"ID\" = row.names(WT_tree$pseudotime), \"pseudo\" = WT_tree$pseudotime$pseudotime)\n",
    "    KO_node_pseudotime <- matrix(KO_tree$pseudotime$pseudotime , dimnames = list(row.names(KO_tree$pseudotime)), )\n",
    "    WT_node_pseudotime <- matrix(WT_tree$pseudotime$pseudotime , dimnames = list(row.names(WT_tree$pseudotime)), )\n",
    "    #Get gene expression values for the interpolated points\n",
    "    KO_node_exp_mtx <- nodeExpressionEstimate(Q_data, KO_node_pseudotime, KO_cell_pseudotime, window, adjust.window = T)\n",
    "    WT_node_exp_mtx <- nodeExpressionEstimate(R_data, WT_node_pseudotime, WT_cell_pseudotime, window, adjust.window = T)\n",
    "    \n",
    "    cut_type = ''\n",
    "    distance_metric = 'euclidean'\n",
    "    alignment <- suppressWarnings(run_tragedy_DTW_celllevel(WT_node_exp_mtx, KO_node_exp_mtx, cut_type = cut_type, distance_metric, plot=FALSE))\n",
    "    al_str <- get_5_state_alignment_str(alignment)\n",
    "    print(paste('size=',i))\n",
    "    print(al_str)\n",
    "    \n",
    "    \n",
    "    #dev.off() \n",
    "    #print(paste(patterns[i], al_str))\n",
    "    device_list <- dev.list()\n",
    "    for (d in device_list) {\n",
    "        dev.off(d)\n",
    "    }    \n",
    "    #group_ids <- append(group_ids, patterns[i])\n",
    "    #cellalignments <- append(cellalignments, al_str)\n",
    "    \n",
    "\n",
    "}"
   ]
  },
  {
   "cell_type": "code",
   "execution_count": null,
   "id": "circular-section",
   "metadata": {},
   "outputs": [],
   "source": []
  }
 ],
 "metadata": {
  "environment": {
   "kernel": "r-sceasy",
   "name": "pytorch-gpu.1-9.m82",
   "type": "gcloud",
   "uri": "gcr.io/deeplearning-platform-release/pytorch-gpu.1-9:m82"
  },
  "kernelspec": {
   "display_name": "r-sceasy",
   "language": "R",
   "name": "r-sceasy"
  },
  "language_info": {
   "codemirror_mode": "r",
   "file_extension": ".r",
   "mimetype": "text/x-r-source",
   "name": "R",
   "pygments_lexer": "r",
   "version": "4.1.2"
  }
 },
 "nbformat": 4,
 "nbformat_minor": 5
}
