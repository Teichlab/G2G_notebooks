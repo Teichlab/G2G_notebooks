{
 "cells": [
  {
   "cell_type": "code",
   "execution_count": 2,
   "id": "manual-element",
   "metadata": {},
   "outputs": [],
   "source": [
    "import warnings\n",
    "warnings.filterwarnings(\"ignore\")\n",
    "import pandas as pd\n",
    "import anndata\n",
    "import scanpy as sc\n",
    "import numpy as np\n",
    "import matplotlib.pyplot as plt\n",
    "import seaborn as sb\n",
    "import warnings\n",
    "import scvelo as scv \n",
    "import sys \n",
    "from scipy.sparse import csr_matrix\n",
    "import rpy2.robjects as robjects\n",
    "from rpy2.robjects import pandas2ri\n",
    "pandas2ri.activate()\n",
    "import celltypist\n",
    "from celltypist import models\n",
    "import bbknn\n",
    "import time\n",
    "import scrublet\n",
    "from scipy.spatial import distance\n",
    "from scipy.sparse import csr_matrix\n",
    "import anndata\n",
    "import dorothea \n",
    "import time\n",
    "sc.settings.verbosity = 0  # verbosity: errors (0), warnings (1), info (2), hints (3)\n",
    "ts=0\n",
    "def TIME_LOG(*args):\n",
    "    global ts\n",
    "    if(args[0]==1): # start time log\n",
    "        ts=time.time()\n",
    "    elif(args[0]==2): # end time log and print time elapse\n",
    "        te=time.time()\n",
    "        print(args[1]+' : ' + str(te-ts) + ' seconds')"
   ]
  },
  {
   "cell_type": "code",
   "execution_count": 4,
   "id": "velvet-philadelphia",
   "metadata": {},
   "outputs": [
    {
     "name": "stderr",
     "output_type": "stream",
     "text": [
      "Trying to set attribute `.var` of view, copying.\n",
      "... storing 'new_annotation' as categorical\n"
     ]
    }
   ],
   "source": [
    "# Get ATO dataset \n",
    "def read_and_store_annotations(adata_file, annotation_csv_file, do_plot=True):\n",
    "    full_annotations = pd.read_csv(annotation_csv_file)\n",
    "    adata = anndata.read_h5ad(adata_file)\n",
    "\n",
    "    unique_ids = [] \n",
    "    sanger_ids = list(full_annotations['sanger_sample_id'])\n",
    "    full_annotations = full_annotations.set_index('sanger_sample_id')\n",
    "    for i in range(adata.shape[0]):\n",
    "        barcode = adata.obs_names[i]\n",
    "        unique_id = adata.obs['sanger_sample_id'][i] + '-' + barcode[0:len(barcode)-4]\n",
    "        if(unique_id in sanger_ids):\n",
    "            unique_ids.append(unique_id)\n",
    "    adata.obs['unique_id'] = unique_ids\n",
    "\n",
    "    new_annotations = []\n",
    "    for i in range(adata.shape[0]):\n",
    "        new_annotations.append(full_annotations.loc[unique_ids[i]]['anno_lvl_2'])\n",
    "    adata.obs['new_annotation'] = new_annotations\n",
    "    if(do_plot):\n",
    "        sc.pl.umap(adata,color='new_annotation', legend_loc='on data')\n",
    "    return adata \n",
    "\n",
    "def get_ato_obj():\n",
    "    # Get annotated ATO with all genes -- without preprocessing\n",
    "    adata = anndata.read_h5ad('ATO_merged_b4_preprocessing_1.h5ad')\n",
    "    # filtering doublets\n",
    "    CUTOFF = 0.15\n",
    "    adata = adata[adata.obs['souporcell_doublet_prediction'] =='singlet'] \n",
    "    adata = adata[adata.obs['scrublet_doublet_scores']<CUTOFF]\n",
    "    adata.var['mt'] = adata.var_names.str.startswith('MT-') \n",
    "    # retrieving new annotations\n",
    "    adata_filtered_genes = read_and_store_annotations('ATO_full_scvi_4.h5ad','ATO_full_scvi_4_anno.csv', do_plot=False)\n",
    "    adata.obs['new_annotation'] = adata_filtered_genes.obs['new_annotation']\n",
    "    return adata\n",
    "    \n",
    "adata_ato = get_ato_obj() \n",
    "adata_ato.write_h5ad('ATO.h5ad')"
   ]
  },
  {
   "cell_type": "code",
   "execution_count": 6,
   "id": "atlantic-zambia",
   "metadata": {},
   "outputs": [
    {
     "data": {
      "text/plain": [
       "AnnData object with n_obs × n_vars = 31483 × 33538\n",
       "    obs: 'sanger_sample_id', 'percent_total_human_UMI', 'percent_total_mito_UMI', 'human_cells', 'total_UMI_count_across_genes', 'n_genes_expressed', 'souporcell_doublet_prediction', 'souporcell_doublet_logprob', 'batch', 'sample', 'time_id', 'scrublet_doublet_scores', 'scrublet_predicted_doublets', 'new_annotation'\n",
       "    var: 'mt'"
      ]
     },
     "execution_count": 6,
     "metadata": {},
     "output_type": "execute_result"
    }
   ],
   "source": [
    "adata_ato"
   ]
  }
 ],
 "metadata": {
  "kernelspec": {
   "display_name": "Python 3",
   "language": "python",
   "name": "python3"
  },
  "language_info": {
   "codemirror_mode": {
    "name": "ipython",
    "version": 3
   },
   "file_extension": ".py",
   "mimetype": "text/x-python",
   "name": "python",
   "nbconvert_exporter": "python",
   "pygments_lexer": "ipython3",
   "version": "3.8.8"
  }
 },
 "nbformat": 4,
 "nbformat_minor": 5
}
