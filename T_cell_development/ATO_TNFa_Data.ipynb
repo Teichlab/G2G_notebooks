{
 "cells": [
  {
   "cell_type": "markdown",
   "id": "optional-reminder",
   "metadata": {},
   "source": [
    "# ATO after TNFa treatment data (for Type I Innate T cell population comparison with pan fetal reference and ATO before)"
   ]
  },
  {
   "cell_type": "code",
   "execution_count": 1,
   "id": "civic-encounter",
   "metadata": {},
   "outputs": [],
   "source": [
    "import warnings\n",
    "warnings.filterwarnings(\"ignore\")\n",
    "import pandas as pd\n",
    "import anndata\n",
    "import scanpy as sc\n",
    "import numpy as np\n",
    "import matplotlib.pyplot as plt\n",
    "import seaborn as sb\n",
    "import warnings\n",
    "import sys \n",
    "import celltypist\n",
    "from celltypist import models\n",
    "import time\n",
    "import scrublet\n",
    "from scipy.spatial import distance\n",
    "from scipy.sparse import csr_matrix"
   ]
  },
  {
   "cell_type": "code",
   "execution_count": 2,
   "id": "hungarian-filter",
   "metadata": {},
   "outputs": [],
   "source": [
    "# THIS IS SAMPLE 6180STDY13657795 WITH CITE-SEQ 6180STDY13657796 -Kolf"
   ]
  },
  {
   "cell_type": "code",
   "execution_count": 3,
   "id": "governing-bolivia",
   "metadata": {},
   "outputs": [
    {
     "name": "stdout",
     "output_type": "stream",
     "text": [
      "Sanger sample id:  6180STDY13657796\n",
      "../irods_test/ATO_sample_raw_count_matrices/raw_feature_bc_matrix_6180STDY13657796/\n",
      "Raw size:  (737280, 64595)\n",
      "Filtering cells\n"
     ]
    }
   ],
   "source": [
    "# Run before souporcell \n",
    "def initial_raw_data_preprocessing(sanger_sample_id, write_barcode_file):\n",
    "    print('Sanger sample id: ' , sanger_sample_id)\n",
    "   # path = RAW_DATA_PATH + 'ATO_sample_raw_count_matrices/' +'raw_feature_bc_matrix_' + sanger_sample_id +'/'\n",
    "    path = '../irods_test/ATO_sample_raw_count_matrices/raw_feature_bc_matrix_6180STDY13657796/'\n",
    "    print(path)\n",
    "    \n",
    "    adata = sc.read(path+'matrix.mtx.gz',cache=True).transpose()\n",
    "    adata.var_names = np.genfromtxt(path + 'features.tsv.gz',dtype=str)[:,1]\n",
    "    adata.obs_names = np.genfromtxt(path + 'barcodes.tsv.gz',dtype=str)\n",
    "    adata.obs['sanger_sample_id'] = np.repeat(sanger_sample_id,adata.shape[0])\n",
    "    # adata = sc.read_10x_h5(sample_raw_count_matrix_file) # this misses antibody hashtags specific features\n",
    "    adata.var_names_make_unique()\n",
    "    print('Raw size: ',adata.shape) # (737280, 64596)\n",
    "    mito_genes = adata.var_names.str.startswith('GRCh38_MT-') \n",
    "    human_genes = adata.var_names.str.startswith('GRCh38') \n",
    "    mouse_genes = adata.var_names.str.startswith('mm10_') \n",
    "    \n",
    "    GEX = human_genes + mouse_genes\n",
    "\n",
    "    total_UMI_count_across_human_genes = np.sum(adata.X[:, human_genes],axis=1).A1 \n",
    "    total_UMI_count_across_mito_genes = np.sum(adata.X[:, mito_genes],axis=1).A1\n",
    "    total_UMI_count_across_genes = np.sum(adata.X[:, GEX],axis=1).A1  # the total UMI count for each cell across all genes\n",
    "    n_genes_expressed = np.sum(adata[:,GEX].X>0,axis=1).A1  # the # of genes that are expressed (UMI!=0)\n",
    "    adata.obs['percent_total_human_UMI'] = np.nan_to_num(np.divide(total_UMI_count_across_human_genes,total_UMI_count_across_genes)) \n",
    "    adata.obs['percent_total_mito_UMI']= np.nan_to_num(np.divide(total_UMI_count_across_mito_genes,total_UMI_count_across_genes))\n",
    "    adata.obs['human_cells'] = adata.obs['percent_total_human_UMI']>0.9\n",
    "    adata.obs['total_UMI_count_across_genes'] = total_UMI_count_across_genes\n",
    "    adata.obs['n_genes_expressed'] = n_genes_expressed \n",
    "\n",
    "    print('Filtering cells')\n",
    "    adata = adata[adata.obs['percent_total_human_UMI']>0.9]  #If >90% reads are from human genes then they are called human_cells\n",
    "    adata = adata[adata.obs['total_UMI_count_across_genes'] > 2000]\n",
    "    adata = adata[adata.obs['n_genes_expressed'] > 500] # sc.pp.filter_cells(adata_check, min_genes=500)\n",
    "    adata = adata[adata.obs['n_genes_expressed'] < 7000] # sc.pp.filter_cells(adata_check, max_genes=7000)\n",
    "    adata = adata[adata.obs['percent_total_mito_UMI']<0.1] # sc.pp.filter_cells(adata_check, min_counts=2000) \n",
    "    \n",
    "    return adata\n",
    "\n",
    "adata = initial_raw_data_preprocessing('6180STDY13657796', write_barcode_file=False)\n",
    "adata = adata[:,~adata.var_names.str.startswith('mm10')] # remove mouse genes\n",
    "samples = [adata]\n",
    "# This is T23_Kolf_TNF_wk7 batch"
   ]
  },
  {
   "cell_type": "code",
   "execution_count": 4,
   "id": "considered-syndicate",
   "metadata": {},
   "outputs": [
    {
     "data": {
      "text/plain": [
       "View of AnnData object with n_obs × n_vars = 174 × 33542\n",
       "    obs: 'sanger_sample_id', 'percent_total_human_UMI', 'percent_total_mito_UMI', 'human_cells', 'total_UMI_count_across_genes', 'n_genes_expressed'"
      ]
     },
     "execution_count": 4,
     "metadata": {},
     "output_type": "execute_result"
    }
   ],
   "source": [
    "adata"
   ]
  },
  {
   "cell_type": "code",
   "execution_count": 4,
   "id": "least-essay",
   "metadata": {},
   "outputs": [
    {
     "name": "stdout",
     "output_type": "stream",
     "text": [
      "4.990012897178531\n"
     ]
    },
    {
     "data": {
      "image/png": "[encoded data removed]",
      "text/plain": [
       "<Figure size 432x288 with 1 Axes>"
      ]
     },
     "metadata": {
      "needs_background": "light"
     },
     "output_type": "display_data"
    }
   ],
   "source": [
    "if(False):\n",
    "    # ONE TIME CHECK ---- deciding the mito % threshold for cell filtering based on IQR outliers\n",
    "    sample_mito_thresholds = []\n",
    "    all_samples_mito_percentages = [] \n",
    "    for i in range(len(samples)):\n",
    "        all_samples_mito_percentages = all_samples_mito_percentages + list(samples[i].obs.percent_total_mito_UMI)\n",
    "        #sb.distplot(np.asarray(samples[i].obs.percent_total_mito_UMI)*100)\n",
    "        Q1,Q3 = np.percentile(samples[i].obs.percent_total_mito_UMI,[25,75])\n",
    "        IQR = Q3-Q1\n",
    "        U = Q3 + (1.5*IQR)\n",
    "        sample_mito_thresholds.append(U)\n",
    "    #Across all samples, mito read % distribution\n",
    "    sb.distplot(np.asarray(all_samples_mito_percentages)*100) \n",
    "    Q1,Q3 = np.percentile(all_samples_mito_percentages,[25,75])\n",
    "    IQR = Q3-Q1\n",
    "    U = Q3 + (1.5*IQR)\n",
    "    print(U*100)\n",
    "    # we will not filter because all cells have low percentage < 10%"
   ]
  },
  {
   "cell_type": "code",
   "execution_count": 5,
   "id": "powerful-ballot",
   "metadata": {},
   "outputs": [
    {
     "name": "stderr",
     "output_type": "stream",
     "text": [
      "Trying to set attribute `.obs` of view, copying.\n"
     ]
    }
   ],
   "source": [
    "Antibody_capture = adata.var_names[~adata.var_names.str.startswith(('GRCh38'))]\n",
    "adata.obs['Antibody_max_perc'] = np.max(adata[:,Antibody_capture].X, axis=1) / np.sum(adata[:,Antibody_capture].X, axis=1)"
   ]
  },
  {
   "cell_type": "code",
   "execution_count": 6,
   "id": "naval-colors",
   "metadata": {},
   "outputs": [],
   "source": [
    "temp = []\n",
    "for i in range(adata.shape[0]):\n",
    "    if(np.all(adata[i,Antibody_capture].X.todense()==0)):\n",
    "        temp.append(str(np.NaN))\n",
    "    else:\n",
    "        temp.append(Antibody_capture[np.argmax(np.array(adata[i,Antibody_capture].X.todense()),axis=1)][0]) \n",
    "adata.obs['Antibody_calling'] = np.asarray(temp)\n",
    "np.unique(adata.obs['Antibody_calling'], return_counts=True)\n",
    "\n",
    "adata.obs.loc[adata.obs['Antibody_max_perc'] < 0.5,'Antibody_calling'] = np.nan\n",
    "# The separate cell lines identified by different antibody tags\n",
    "adata.var_names[~adata.var_names.str.startswith(('GRCh38'))]\n",
    "adata = adata[:,adata.var_names.str.startswith(('GRCh38'))]"
   ]
  },
  {
   "cell_type": "code",
   "execution_count": 7,
   "id": "prepared-paper",
   "metadata": {},
   "outputs": [
    {
     "data": {
      "text/plain": [
       "0.7417582"
      ]
     },
     "execution_count": 7,
     "metadata": {},
     "output_type": "execute_result"
    }
   ],
   "source": [
    "np.min(adata.obs['Antibody_max_perc']) "
   ]
  },
  {
   "cell_type": "code",
   "execution_count": 8,
   "id": "strange-couple",
   "metadata": {},
   "outputs": [
    {
     "data": {
      "text/plain": [
       "(array(['Kolf_TNF1ng', 'Kolf_TNF25ng', 'Kolf_WT'], dtype=object),\n",
       " array([152,   8,  14]))"
      ]
     },
     "execution_count": 8,
     "metadata": {},
     "output_type": "execute_result"
    }
   ],
   "source": [
    "np.unique(adata.obs['Antibody_calling'], return_counts=True)"
   ]
  },
  {
   "cell_type": "code",
   "execution_count": 9,
   "id": "other-thing",
   "metadata": {},
   "outputs": [
    {
     "data": {
      "text/plain": [
       "array(['Kolf_TNF25ng', 'Kolf_TNF1ng', 'Kolf_WT'], dtype=object)"
      ]
     },
     "execution_count": 9,
     "metadata": {},
     "output_type": "execute_result"
    }
   ],
   "source": [
    "pd.Series(adata.obs.Antibody_calling).unique()"
   ]
  },
  {
   "cell_type": "code",
   "execution_count": 10,
   "id": "overall-assumption",
   "metadata": {},
   "outputs": [
    {
     "data": {
      "text/plain": [
       "AnnData object with n_obs × n_vars = 174 × 33538\n",
       "    obs: 'sanger_sample_id', 'percent_total_human_UMI', 'percent_total_mito_UMI', 'human_cells', 'total_UMI_count_across_genes', 'n_genes_expressed', 'Antibody_max_perc', 'Antibody_calling'"
      ]
     },
     "execution_count": 10,
     "metadata": {},
     "output_type": "execute_result"
    }
   ],
   "source": [
    "# making variable names (gene names) compatible with common gene names e.g. <hg38_1hho> = 1hho\n",
    "modified_varnames = []\n",
    "for gene in adata.var_names:\n",
    "    modified_varnames.append(gene[7:len(gene)])\n",
    "adata.var_names = modified_varnames\n",
    "adata"
   ]
  },
  {
   "cell_type": "code",
   "execution_count": 11,
   "id": "marine-calcium",
   "metadata": {},
   "outputs": [
    {
     "name": "stdout",
     "output_type": "stream",
     "text": [
      "Preprocessing...\n",
      "Simulating doublets...\n",
      "Embedding transcriptomes using PCA...\n",
      "Calculating doublet scores...\n",
      "Automatically set threshold at doublet score = 0.32\n",
      "Detected doublet rate = 4.0%\n",
      "Estimated detectable doublet fraction = 18.1%\n",
      "Overall doublet rate:\n",
      "\tExpected   = 10.0%\n",
      "\tEstimated  = 22.2%\n",
      "Elapsed time: 0.4 seconds\n"
     ]
    },
    {
     "data": {
      "image/png": "[encoded data removed]",
      "text/plain": [
       "<Figure size 432x288 with 1 Axes>"
      ]
     },
     "metadata": {
      "needs_background": "light"
     },
     "output_type": "display_data"
    }
   ],
   "source": [
    "scrub = scrublet.Scrublet(adata.X)\n",
    "scrublet_doublet_scores, scrublet_predicted_doublets = scrub.scrub_doublets()\n",
    "sb.histplot(scrublet_doublet_scores)\n",
    "adata.obs['scrublet_doublet_scores'] = scrublet_doublet_scores\n",
    "adata.obs['scrublet_predicted_doublets'] = scrublet_predicted_doublets"
   ]
  },
  {
   "cell_type": "code",
   "execution_count": 12,
   "id": "surface-powell",
   "metadata": {},
   "outputs": [
    {
     "data": {
      "text/plain": [
       "array([ 1.,  2.,  1., ..., 10.,  5., 42.], dtype=float32)"
      ]
     },
     "execution_count": 12,
     "metadata": {},
     "output_type": "execute_result"
    }
   ],
   "source": [
    "adata.X.data"
   ]
  },
  {
   "cell_type": "code",
   "execution_count": 13,
   "id": "expected-parameter",
   "metadata": {},
   "outputs": [
    {
     "data": {
      "text/plain": [
       "AnnData object with n_obs × n_vars = 174 × 33538\n",
       "    obs: 'sanger_sample_id', 'percent_total_human_UMI', 'percent_total_mito_UMI', 'human_cells', 'total_UMI_count_across_genes', 'n_genes_expressed', 'Antibody_max_perc', 'Antibody_calling', 'scrublet_doublet_scores', 'scrublet_predicted_doublets'"
      ]
     },
     "execution_count": 13,
     "metadata": {},
     "output_type": "execute_result"
    }
   ],
   "source": [
    "adata"
   ]
  },
  {
   "cell_type": "code",
   "execution_count": 14,
   "id": "incoming-validation",
   "metadata": {},
   "outputs": [],
   "source": [
    "#adata = anndata.read_h5ad('ATO_TNF.h5ad')\n",
    "# filtering doublets\n",
    "CUTOFF = 0.15\n",
    "adata = adata[adata.obs['scrublet_doublet_scores']<CUTOFF] \n",
    "\n",
    "#adata.write_h5ad('ATO_TNF.h5ad', compression='gzip')"
   ]
  },
  {
   "cell_type": "markdown",
   "id": "focal-istanbul",
   "metadata": {},
   "source": [
    "# Preprocessing new data"
   ]
  },
  {
   "cell_type": "code",
   "execution_count": 15,
   "id": "streaming-representation",
   "metadata": {},
   "outputs": [
    {
     "data": {
      "text/plain": [
       "View of AnnData object with n_obs × n_vars = 126 × 33538\n",
       "    obs: 'sanger_sample_id', 'percent_total_human_UMI', 'percent_total_mito_UMI', 'human_cells', 'total_UMI_count_across_genes', 'n_genes_expressed', 'Antibody_max_perc', 'Antibody_calling', 'scrublet_doublet_scores', 'scrublet_predicted_doublets'"
      ]
     },
     "execution_count": 15,
     "metadata": {},
     "output_type": "execute_result"
    }
   ],
   "source": [
    "adata"
   ]
  },
  {
   "cell_type": "code",
   "execution_count": 16,
   "id": "official-novel",
   "metadata": {},
   "outputs": [
    {
     "data": {
      "text/plain": [
       "(array(['Kolf_TNF1ng', 'Kolf_TNF25ng', 'Kolf_WT'], dtype=object),\n",
       " array([119,   6,   1]))"
      ]
     },
     "execution_count": 16,
     "metadata": {},
     "output_type": "execute_result"
    }
   ],
   "source": [
    "np.unique(adata.obs['Antibody_calling'], return_counts=True)"
   ]
  },
  {
   "cell_type": "code",
   "execution_count": 17,
   "id": "narrative-advance",
   "metadata": {},
   "outputs": [
    {
     "data": {
      "text/plain": [
       "array([ 1.,  2.,  1., ..., 32.,  6., 33.], dtype=float32)"
      ]
     },
     "execution_count": 17,
     "metadata": {},
     "output_type": "execute_result"
    }
   ],
   "source": [
    "adata.X.data"
   ]
  },
  {
   "cell_type": "code",
   "execution_count": 18,
   "id": "stock-crown",
   "metadata": {},
   "outputs": [
    {
     "data": {
      "text/plain": [
       "(126, 33538)"
      ]
     },
     "execution_count": 18,
     "metadata": {},
     "output_type": "execute_result"
    }
   ],
   "source": [
    "adata.raw = adata.copy() # storing raw counts before filtering genes\n",
    "adata.raw.shape"
   ]
  },
  {
   "cell_type": "code",
   "execution_count": 19,
   "id": "canadian-cambridge",
   "metadata": {},
   "outputs": [
    {
     "data": {
      "text/plain": [
       "array([ 1.,  2.,  1., ..., 32.,  6., 33.], dtype=float32)"
      ]
     },
     "execution_count": 19,
     "metadata": {},
     "output_type": "execute_result"
    }
   ],
   "source": [
    "adata.X.data"
   ]
  },
  {
   "cell_type": "code",
   "execution_count": 20,
   "id": "waiting-despite",
   "metadata": {},
   "outputs": [],
   "source": [
    "adata_original = adata.copy() "
   ]
  },
  {
   "cell_type": "code",
   "execution_count": 21,
   "id": "funky-swiss",
   "metadata": {},
   "outputs": [
    {
     "data": {
      "text/plain": [
       "array([ 1.,  2.,  1., ..., 32.,  6., 33.], dtype=float32)"
      ]
     },
     "execution_count": 21,
     "metadata": {},
     "output_type": "execute_result"
    }
   ],
   "source": [
    "adata_original.X.data"
   ]
  },
  {
   "cell_type": "code",
   "execution_count": 22,
   "id": "warming-olive",
   "metadata": {},
   "outputs": [],
   "source": [
    "#adata.raw.to_adata()"
   ]
  },
  {
   "cell_type": "code",
   "execution_count": 23,
   "id": "velvet-fisher",
   "metadata": {},
   "outputs": [],
   "source": [
    "#temp_adata = adata.raw.to_adata()\n",
    "#temp_adata.layers['counts'] = temp_adata.X\n",
    "#adata_bck = adata.copy()\n",
    "#adata = temp_adata.copy()\n",
    "adata = adata_original.copy() \n",
    "sc.pp.normalize_per_cell(adata, 10000) \n",
    "sc.pp.log1p(adata)"
   ]
  },
  {
   "cell_type": "code",
   "execution_count": 24,
   "id": "unexpected-ultimate",
   "metadata": {},
   "outputs": [
    {
     "data": {
      "text/plain": [
       "array([0.8220613, 1.2670517, 0.8220613, ..., 2.981801 , 1.5064346,\n",
       "       3.011035 ], dtype=float32)"
      ]
     },
     "execution_count": 24,
     "metadata": {},
     "output_type": "execute_result"
    }
   ],
   "source": [
    "adata.X.data"
   ]
  },
  {
   "cell_type": "code",
   "execution_count": 25,
   "id": "agricultural-remark",
   "metadata": {},
   "outputs": [
    {
     "name": "stderr",
     "output_type": "stream",
     "text": [
      "🔬 Input data has 126 cells and 33538 genes\n",
      "🔗 Matching reference genes in the model\n",
      "🧬 6527 features used for prediction\n",
      "⚖️ Scaling input data\n",
      "🖋️ Predicting labels\n",
      "✅ Prediction done!\n",
      "👀 Can not detect a neighborhood graph, construct one before the over-clustering\n",
      "⛓️ Over-clustering input data with resolution set to 5\n",
      "🗳️ Majority voting the predictions\n",
      "✅ Majority voting done!\n",
      "🔬 Input data has 126 cells and 33538 genes\n",
      "🔗 Matching reference genes in the model\n",
      "🧬 3800 features used for prediction\n",
      "⚖️ Scaling input data\n",
      "🖋️ Predicting labels\n",
      "✅ Prediction done!\n",
      "👀 Detected a neighborhood graph in the input object, will run over-clustering on the basis of it\n",
      "⛓️ Over-clustering input data with resolution set to 5\n",
      "🗳️ Majority voting the predictions\n",
      "✅ Majority voting done!\n",
      "🔬 Input data has 126 cells and 33538 genes\n",
      "🔗 Matching reference genes in the model\n",
      "🧬 4911 features used for prediction\n",
      "⚖️ Scaling input data\n",
      "🖋️ Predicting labels\n",
      "✅ Prediction done!\n",
      "👀 Detected a neighborhood graph in the input object, will run over-clustering on the basis of it\n",
      "⛓️ Over-clustering input data with resolution set to 5\n",
      "🗳️ Majority voting the predictions\n",
      "✅ Majority voting done!\n"
     ]
    }
   ],
   "source": [
    "import celltypist\n",
    "np.random.seed(3)\n",
    "run_celltypist = True\n",
    "if(run_celltypist):\n",
    "    predictions = celltypist.annotate(adata, model = 'Pan_Fetal_Human.pkl',majority_voting=True)\n",
    "    predictions_high_level = celltypist.annotate(adata, model = \"Immune_Thymus_High.pkl\", majority_voting=True)\n",
    "    predictions_low_level = celltypist.annotate(adata, model = \"Immune_Thymus_Low.pkl\", majority_voting=True)\n",
    "    adata.obs['celltypist_panfetal_predictions'] = predictions.predicted_labels['majority_voting']\n",
    "    adata.obs['celltypist_high_level_predictions'] = predictions_high_level.predicted_labels['majority_voting']\n",
    "    adata.obs['celltypist_low_level_predictions'] = predictions_low_level.predicted_labels['majority_voting']\n",
    "    \n",
    "    high_level_predictions = []\n",
    "    for i in range(0,adata.shape[0]):\n",
    "        annotation = adata.obs['celltypist_panfetal_predictions'][i]\n",
    "        if(annotation.startswith('DP')):\n",
    "            high_level_predictions.append('DP')\n",
    "        elif(annotation.startswith('DN')):\n",
    "            high_level_predictions.append('DN')      \n",
    "        elif(annotation.startswith('MONOCYTE')):\n",
    "            high_level_predictions.append('MONOCYTE')   \n",
    "        elif(annotation.endswith('INNATE_T')):\n",
    "            high_level_predictions.append('INNATE_T') \n",
    "        elif(annotation.endswith('_MK')):\n",
    "            high_level_predictions.append('MK') \n",
    "        elif(annotation.endswith('_MPP')):\n",
    "            high_level_predictions.append('MPP') \n",
    "        elif(annotation.endswith('_MEMP')):\n",
    "            high_level_predictions.append('MEMP') \n",
    "        elif(annotation.endswith('_NK')):\n",
    "            high_level_predictions.append('NK') \n",
    "        else:\n",
    "            high_level_predictions.append(annotation)\n",
    "    adata.obs['celltypist_panfetal_predictions_high_level'] = high_level_predictions"
   ]
  },
  {
   "cell_type": "code",
   "execution_count": 26,
   "id": "reliable-potato",
   "metadata": {},
   "outputs": [
    {
     "data": {
      "text/plain": [
       "array([0.8220613, 1.2670517, 0.8220613, ..., 2.981801 , 1.5064346,\n",
       "       3.011035 ], dtype=float32)"
      ]
     },
     "execution_count": 26,
     "metadata": {},
     "output_type": "execute_result"
    }
   ],
   "source": [
    "adata.X.data"
   ]
  },
  {
   "cell_type": "code",
   "execution_count": 32,
   "id": "killing-carry",
   "metadata": {},
   "outputs": [],
   "source": [
    "#adata_bck.obs['celltypist_panfetal_predictions'] = adata.obs.celltypist_panfetal_predictions\n",
    "#adata_bck.obs['celltypist_high_level_predictions'] = adata.obs.celltypist_high_level_predictions\n",
    "#adata_bck.obs['celltypist_low_level_predictions'] = adata.obs.celltypist_low_level_predictions\n",
    "#adata_bck.obs['celltypist_panfetal_predictions_high_level'] = adata.obs.celltypist_panfetal_predictions_high_level\n",
    "#adata = adata_bck.copy() "
   ]
  },
  {
   "cell_type": "code",
   "execution_count": 27,
   "id": "suspected-papua",
   "metadata": {},
   "outputs": [],
   "source": [
    "sc.pp.neighbors(adata)\n",
    "sc.tl.umap(adata)\n",
    "sc.tl.leiden(adata)"
   ]
  },
  {
   "cell_type": "code",
   "execution_count": 28,
   "id": "immediate-mapping",
   "metadata": {},
   "outputs": [
    {
     "name": "stderr",
     "output_type": "stream",
     "text": [
      "... storing 'sanger_sample_id' as categorical\n",
      "... storing 'Antibody_calling' as categorical\n",
      "... storing 'celltypist_panfetal_predictions_high_level' as categorical\n"
     ]
    },
    {
     "data": {
      "image/png": "[encoded data removed]",
      "text/plain": [
       "<Figure size 800x800 with 1 Axes>"
      ]
     },
     "metadata": {},
     "output_type": "display_data"
    }
   ],
   "source": [
    "sc.set_figure_params(fontsize=4, dpi=200)\n",
    "sc.pl.umap(adata,color=['celltypist_panfetal_predictions'],legend_loc='on data')"
   ]
  },
  {
   "cell_type": "code",
   "execution_count": 30,
   "id": "variable-voluntary",
   "metadata": {},
   "outputs": [
    {
     "data": {
      "text/html": [
       "<div>\n",
       "<style scoped>\n",
       "    .dataframe tbody tr th:only-of-type {\n",
       "        vertical-align: middle;\n",
       "    }\n",
       "\n",
       "    .dataframe tbody tr th {\n",
       "        vertical-align: top;\n",
       "    }\n",
       "\n",
       "    .dataframe thead th {\n",
       "        text-align: right;\n",
       "    }\n",
       "</style>\n",
       "<table border=\"1\" class=\"dataframe\">\n",
       "  <thead>\n",
       "    <tr style=\"text-align: right;\">\n",
       "      <th>celltypist_panfetal_predictions</th>\n",
       "      <th>NK</th>\n",
       "      <th>TYPE_1_INNATE_T</th>\n",
       "    </tr>\n",
       "    <tr>\n",
       "      <th>Antibody_calling</th>\n",
       "      <th></th>\n",
       "      <th></th>\n",
       "    </tr>\n",
       "  </thead>\n",
       "  <tbody>\n",
       "    <tr>\n",
       "      <th>Kolf_TNF1ng</th>\n",
       "      <td>3</td>\n",
       "      <td>116</td>\n",
       "    </tr>\n",
       "    <tr>\n",
       "      <th>Kolf_TNF25ng</th>\n",
       "      <td>0</td>\n",
       "      <td>6</td>\n",
       "    </tr>\n",
       "    <tr>\n",
       "      <th>Kolf_WT</th>\n",
       "      <td>0</td>\n",
       "      <td>1</td>\n",
       "    </tr>\n",
       "  </tbody>\n",
       "</table>\n",
       "</div>"
      ],
      "text/plain": [
       "celltypist_panfetal_predictions  NK  TYPE_1_INNATE_T\n",
       "Antibody_calling                                    \n",
       "Kolf_TNF1ng                       3              116\n",
       "Kolf_TNF25ng                      0                6\n",
       "Kolf_WT                           0                1"
      ]
     },
     "execution_count": 30,
     "metadata": {},
     "output_type": "execute_result"
    }
   ],
   "source": [
    "#126 cells\n",
    "# 4 cells predicted as NK cells\n",
    "# Only 1 WT and 6 25ng cells, no 5ng cells\n",
    "\n",
    "\n",
    "np.unique(adata.obs.Antibody_calling, return_counts=True)\n",
    "pd.crosstab(adata.obs.Antibody_calling, adata.obs.celltypist_panfetal_predictions)"
   ]
  },
  {
   "cell_type": "code",
   "execution_count": 31,
   "id": "soviet-comparison",
   "metadata": {},
   "outputs": [
    {
     "data": {
      "text/plain": [
       "View of AnnData object with n_obs × n_vars = 123 × 33538\n",
       "    obs: 'sanger_sample_id', 'percent_total_human_UMI', 'percent_total_mito_UMI', 'human_cells', 'total_UMI_count_across_genes', 'n_genes_expressed', 'Antibody_max_perc', 'Antibody_calling', 'scrublet_doublet_scores', 'scrublet_predicted_doublets', 'n_counts', 'celltypist_panfetal_predictions', 'celltypist_high_level_predictions', 'celltypist_low_level_predictions', 'celltypist_panfetal_predictions_high_level', 'leiden'\n",
       "    uns: 'log1p', 'neighbors', 'leiden', 'umap', 'celltypist_panfetal_predictions_colors'\n",
       "    obsm: 'X_pca', 'X_umap'\n",
       "    obsp: 'connectivities', 'distances'"
      ]
     },
     "execution_count": 31,
     "metadata": {},
     "output_type": "execute_result"
    }
   ],
   "source": [
    "adata[adata.obs.celltypist_panfetal_predictions == 'TYPE_1_INNATE_T'] "
   ]
  },
  {
   "cell_type": "code",
   "execution_count": 32,
   "id": "together-supplier",
   "metadata": {},
   "outputs": [],
   "source": [
    "a = adata[adata.obs.celltypist_panfetal_predictions!='TYPE_1_INNATE_T'] \n",
    "b = adata[adata.obs.celltypist_panfetal_predictions=='TYPE_1_INNATE_T'] "
   ]
  },
  {
   "cell_type": "code",
   "execution_count": 33,
   "id": "sapphire-departure",
   "metadata": {},
   "outputs": [
    {
     "data": {
      "text/plain": [
       "View of AnnData object with n_obs × n_vars = 3 × 33538\n",
       "    obs: 'sanger_sample_id', 'percent_total_human_UMI', 'percent_total_mito_UMI', 'human_cells', 'total_UMI_count_across_genes', 'n_genes_expressed', 'Antibody_max_perc', 'Antibody_calling', 'scrublet_doublet_scores', 'scrublet_predicted_doublets', 'n_counts', 'celltypist_panfetal_predictions', 'celltypist_high_level_predictions', 'celltypist_low_level_predictions', 'celltypist_panfetal_predictions_high_level', 'leiden'\n",
       "    uns: 'log1p', 'neighbors', 'leiden', 'umap', 'celltypist_panfetal_predictions_colors'\n",
       "    obsm: 'X_pca', 'X_umap'\n",
       "    obsp: 'connectivities', 'distances'"
      ]
     },
     "execution_count": 33,
     "metadata": {},
     "output_type": "execute_result"
    }
   ],
   "source": [
    "a"
   ]
  },
  {
   "cell_type": "code",
   "execution_count": 34,
   "id": "fantastic-hawaii",
   "metadata": {},
   "outputs": [
    {
     "data": {
      "text/plain": [
       "View of AnnData object with n_obs × n_vars = 123 × 33538\n",
       "    obs: 'sanger_sample_id', 'percent_total_human_UMI', 'percent_total_mito_UMI', 'human_cells', 'total_UMI_count_across_genes', 'n_genes_expressed', 'Antibody_max_perc', 'Antibody_calling', 'scrublet_doublet_scores', 'scrublet_predicted_doublets', 'n_counts', 'celltypist_panfetal_predictions', 'celltypist_high_level_predictions', 'celltypist_low_level_predictions', 'celltypist_panfetal_predictions_high_level', 'leiden'\n",
       "    uns: 'log1p', 'neighbors', 'leiden', 'umap', 'celltypist_panfetal_predictions_colors'\n",
       "    obsm: 'X_pca', 'X_umap'\n",
       "    obsp: 'connectivities', 'distances'"
      ]
     },
     "execution_count": 34,
     "metadata": {},
     "output_type": "execute_result"
    }
   ],
   "source": [
    "b"
   ]
  },
  {
   "cell_type": "code",
   "execution_count": 35,
   "id": "loving-conflict",
   "metadata": {},
   "outputs": [],
   "source": [
    "adata.write_h5ad('ATO_TNF_celltypist_updated.h5ad')"
   ]
  },
  {
   "cell_type": "code",
   "execution_count": null,
   "id": "formal-repository",
   "metadata": {},
   "outputs": [],
   "source": []
  }
 ],
 "metadata": {
  "environment": {
   "kernel": "python3",
   "name": "pytorch-gpu.1-9.m82",
   "type": "gcloud",
   "uri": "gcr.io/deeplearning-platform-release/pytorch-gpu.1-9:m82"
  },
  "kernelspec": {
   "display_name": "Python 3 (ipykernel)",
   "language": "python",
   "name": "python3"
  },
  "language_info": {
   "codemirror_mode": {
    "name": "ipython",
    "version": 3
   },
   "file_extension": ".py",
   "mimetype": "text/x-python",
   "name": "python",
   "nbconvert_exporter": "python",
   "pygments_lexer": "ipython3",
   "version": "3.8.12"
  }
 },
 "nbformat": 4,
 "nbformat_minor": 5
}
