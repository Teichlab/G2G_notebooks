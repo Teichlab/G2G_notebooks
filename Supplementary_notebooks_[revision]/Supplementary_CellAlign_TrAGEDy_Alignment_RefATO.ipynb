{
 "cells": [
  {
   "cell_type": "markdown",
   "id": "immune-dragon",
   "metadata": {},
   "source": [
    "# CellAlign DTW alignment and TrAGEDy post-hoc processed DTW alignment - Ref/ATO and Healthy/IPF tests"
   ]
  },
  {
   "cell_type": "markdown",
   "id": "middle-interval",
   "metadata": {},
   "source": [
    "### Installed and followed documentation of CellAlign from https://github.com/shenorrLabTRDF/cellAlign\n",
    "CellAlign reference: Alpert, A., Moore, L.S., Dubovik, T. and Shen-Orr, S.S., 2018. Alignment of single-cell trajectories to compare cellular expression dynamics. Nature methods, 15(4), pp.267-270.\n",
    "### Used source and followed documentation of TrAGEDy from https://github.com/No2Ross/TrAGEDy\n",
    "TrAGEDy reference: Laidlaw, R.F., Briggs, E.M., Matthews, K.R., McCulloch, R. and Otto, T.D., 2022. TrAGEDy: Trajectory Alignment of Gene Expression Dynamics. bioRxiv, pp.2022-12."
   ]
  },
  {
   "cell_type": "code",
   "execution_count": 52,
   "id": "future-rabbit",
   "metadata": {},
   "outputs": [
    {
     "data": {
      "text/plain": [
       "[1] ‘0.1.0’"
      ]
     },
     "metadata": {},
     "output_type": "display_data"
    }
   ],
   "source": [
    " packageVersion(\"cellAlign\")"
   ]
  },
  {
   "cell_type": "code",
   "execution_count": 1,
   "id": "assumed-parliament",
   "metadata": {},
   "outputs": [],
   "source": [
    "suppressMessages({library(sceasy)\n",
    "library(r2r)\n",
    "library(reticulate)\n",
    "library(pheatmap)\n",
    "library(cellAlign)\n",
    "library(r2r)\n",
    "library(RColorBrewer)\n",
    "library(Seurat)\n",
    "library(SingleCellExperiment)\n",
    "library(ggplot2)\n",
    "library(dplyr)\n",
    "library(stats)\n",
    "library(stringr)           \n",
    "})\n",
    "# Source ref:\n",
    "# https://github.com/No2Ross/TrAGEDy/blob/304dd27949858748c1bce04bf22dd8b6a1d159b3/TrAGEDy_functions.R\n",
    "source(\"TrAGEDy/TrAGEDy_functions.R\")\n",
    "#source(\"TrAGEDy/TrAGEDy_functions)old.R\")\n",
    "\n",
    "#py_install(\"anndata\") # <--- did this and reticulate started to work without any error \n",
    "##reticulate::use_condaenv(\"../my-conda-envs/r-sceasy\")\n",
    "#reticulate::py_discover_config() <-- reticulate path is r-miniconda python which is different from conda env python -- need to check how to change it\n",
    "# otherwise it works only for anndata v0.75 format\n",
    "#R = sceasy::convertFormat('../[G2G]New_scripts/SimulationData/ref_Div05.h5ad', from=\"anndata\", to=\"seurat\")\n",
    "\n",
    "# Function to generate 3-state alignment string from CellAlign DTW alignment output\n",
    "get_3_state_alignment_str <- function(alignment){\n",
    "\n",
    "    T_matched <- alignment$align[[1]]$index1 # query in index 1\n",
    "    S_matched <- alignment$align[[1]]$index2 # ref in index 2\n",
    "    \n",
    "    prev_Sc = ''\n",
    "    prev_Tc = ''\n",
    "    al_str = ''\n",
    "    for (x in 1:length(T_matched)) {\n",
    "        curr_S = S_matched[x]\n",
    "        curr_T = T_matched[x]\n",
    "\n",
    "        if(prev_Sc == '' & prev_Tc==''){\n",
    "            al_str = paste(al_str, 'M')\n",
    "        }else if(curr_S == prev_Sc){ # warp insert \n",
    "            al_str = paste(al_str, 'V')\n",
    "        }else if(curr_T == prev_Tc){ # warp delete \n",
    "            al_str = paste(al_str, 'W')\n",
    "        }else{\n",
    "            al_str = paste(al_str, 'M')\n",
    "        }\n",
    "      prev_Sc = S_matched[x]\n",
    "      prev_Tc = T_matched[x]\n",
    "    } \n",
    "    return(al_str)\n",
    "}\n",
    "# plotting function from CellAlign --- only modified to plot a black color alignment path\n",
    "plotAlign <- function(alignment){\n",
    "\n",
    "  costMat = alignment$localCostMatrix\n",
    "  costMat = t(apply(costMat,1,function(x){return(as.numeric(x))}))\n",
    "  linearInd = cellAlign::sub2ind(nrow(costMat), alignment$align[[1]]$index1, alignment$align[[1]]$index2)\n",
    "  costMat[linearInd] = NA\n",
    "  costMat = data.frame(costMat, row.names=1:nrow(costMat))\n",
    "  colnames(costMat) = 1:ncol(costMat)\n",
    "    \n",
    "  #for global alignment, where there is a pseudotime shift vector:\n",
    "  if(!is.null(alignment$ptShift)){\n",
    "    annotCols = data.frame(ptShift = abs(alignment$ptShift),row.names = colnames(costMat))\n",
    "\n",
    "    phm = pheatmap(costMat, cluster_cols = F, cluster_rows=F, border_color = NA, main = 'alignment plot',\n",
    "             show_rownames = T, show_colnames = T, annotation_col = annotCols,na_col = \"black\")#, filename=filename)\n",
    "\n",
    "  }else{\n",
    "    phm = pheatmap(costMat, cluster_cols = F, cluster_rows=F, border_color = NA, main = 'alignment plot', \n",
    "                   show_rownames = T, show_colnames = T,na_col = \"black\")#, filename=filename)\n",
    "  }\n",
    "}\n",
    "# plotting function from CellAlign --- only modified to plot a black color alignment path\n",
    "plotAlign2 <- function(alignment){\n",
    "\n",
    "  costMat = alignment$localCostMatrix\n",
    "  costMat = t(apply(costMat,1,function(x){return(as.numeric(x))}))\n",
    "  #linearInd = sub2ind(nrow(costMat), alignment$align[[1]]$index1, alignment$align[[1]]$index2)\n",
    "  #costMat[linearInd] = NA\n",
    "  costMat = data.frame(costMat, row.names=1:nrow(costMat))\n",
    "  colnames(costMat) = 1:ncol(costMat)\n",
    "    \n",
    "  #for global alignment, where there is a pseudotime shift vector:\n",
    "  if(!is.null(alignment$ptShift)){\n",
    "    annotCols = data.frame(ptShift = abs(alignment$ptShift),row.names = colnames(costMat))\n",
    "\n",
    "    phm = pheatmap(costMat, cluster_cols = F, cluster_rows=F, border_color = NA, main = 'alignment plot',\n",
    "             show_rownames = T, show_colnames = T, annotation_col = annotCols,na_col = \"black\")#, filename=filename)\n",
    "\n",
    "  }else{\n",
    "    phm = pheatmap(costMat, cluster_cols = F, cluster_rows=F, border_color = NA, main = 'alignment plot', \n",
    "                   show_rownames = T, show_colnames = T,na_col = \"black\")#, filename=filename)\n",
    "  }\n",
    "}\n",
    "# plotting function from CellAlign --- only modified to plot a black color alignment path\n",
    "plotAlign_save <- function(alignment, filename){\n",
    "\n",
    "  costMat = alignment$localCostMatrix\n",
    "  costMat = t(apply(costMat,1,function(x){return(as.numeric(x))}))\n",
    "  linearInd = cellAlign::sub2ind(nrow(costMat), alignment$align[[1]]$index1, alignment$align[[1]]$index2)\n",
    "  costMat[linearInd] = NA\n",
    "  costMat = data.frame(costMat, row.names=1:nrow(costMat))\n",
    "  colnames(costMat) = 1:ncol(costMat)\n",
    "    \n",
    "  #for global alignment, where there is a pseudotime shift vector:\n",
    "  if(!is.null(alignment$ptShift)){\n",
    "    annotCols = data.frame(ptShift = abs(alignment$ptShift),row.names = colnames(costMat))\n",
    "\n",
    "    phm = pheatmap(costMat, cluster_cols = F, cluster_rows=F, border_color = NA, main = 'alignment plot',\n",
    "             show_rownames = T, show_colnames = T, annotation_col = annotCols,na_col = \"black\", filename=filename)\n",
    "\n",
    "  }else{\n",
    "    phm = pheatmap(costMat, cluster_cols = F, cluster_rows=F, border_color = NA, main = 'alignment plot', \n",
    "                   show_rownames = T, show_colnames = T,na_col = \"black\", filename=filename)\n",
    "  }\n",
    "}\n",
    "\n",
    "# wrapper function to run CellAlign high-dimensional alignment on all genes\n",
    "run_global_dtw <- function(GENE, interGlobalLPS, interGlobalPAM, interScaledGlobalLPS, interScaledGlobalPAM ){\n",
    "    # ' @param x query data matrix,  @param y reference data matrix\n",
    "    # columns --- PAM (REFERENCE)\n",
    "    # rows --- LPS (QUERY)\n",
    "    alignment = cellAlign::globalAlign(interGlobalLPS$interpolatedVals[GENE,], interGlobalPAM$interpolatedVals[GENE,],\n",
    "                                       scores = list(query = interScaledGlobalLPS$traj, \n",
    "                                                     ref = interScaledGlobalPAM$traj),\n",
    "                                       sigCalc = F, numPerm = 20)\n",
    "    return(alignment)\n",
    "}\n",
    "\n",
    "# wrapper function to run CellAlign high-dimensional alignment on all genes\n",
    "run_global_dtw_all_genes <- function(interGlobalLPS, interGlobalPAM, interScaledGlobalLPS, interScaledGlobalPAM ){\n",
    "    # ' @param x query data matrix,  @param y reference data matrix\n",
    "    # columns --- PAM (REFERENCE)\n",
    "    # rows --- LPS (QUERY)\n",
    "    alignment = cellAlign::globalAlign(interGlobalLPS$interpolatedVals, interGlobalPAM$interpolatedVals,\n",
    "                                       scores = list(query = interScaledGlobalLPS$traj, \n",
    "                                                     ref = interScaledGlobalPAM$traj),\n",
    "                                       sigCalc = F, numPerm = 20)\n",
    "    return(alignment)\n",
    "}\n",
    "\n",
    "# function to get the 5-state string described by TrAGEDy alignment\n",
    "get_5_state_alignment_str <- function(path_cut){\n",
    "    # ref: path_cut$X (WT)\n",
    "    # query: path_cut$Y (KO)\n",
    "    timepoints_S <- strsplit(path_cut$X,'_')\n",
    "    timepoints_T <- strsplit(path_cut$Y,'_')\n",
    "    if(length(timepoints_S) != length(timepoints_T)){\n",
    "       stop(\"error message to print\")   \n",
    "    }\n",
    "    prev_tS = -1\n",
    "    prev_tT = -1\n",
    "    al_str <- ''\n",
    "    for (i in 1:length(timepoints_S)){\n",
    "        tS = strtoi(timepoints_S[i][[1]][2])\n",
    "        tT = strtoi(timepoints_T[i][[1]][2])\n",
    "\n",
    "        # process terminal mismatch at the start if exists\n",
    "        if(i==1){\n",
    "            if(tS!=1){\n",
    "                j=1\n",
    "                while(j<tS){\n",
    "                    #print('D')\n",
    "                    al_str <- paste(al_str, 'D')\n",
    "                    j<-j+1\n",
    "                }\n",
    "            }\n",
    "            if(tT!=1){\n",
    "                j=1\n",
    "                while(j<tT){\n",
    "                    #print('I')\n",
    "                    al_str <- paste(al_str, 'I')\n",
    "                    j<-j+1\n",
    "                }\n",
    "            }\n",
    "        }\n",
    "        if(path_cut$Status[i]=='match'){\n",
    "            if(prev_tT == tT){\n",
    "                #print(paste('W',' ',tS,' ',tT))\n",
    "                al_str <- paste(al_str, 'W')\n",
    "            }else if(prev_tS==tS){\n",
    "                #print(paste('V',' ',tS,' ',tT))\n",
    "                al_str <- paste(al_str, 'V')\n",
    "            }else{\n",
    "                #print(paste('M',' ',tS,' ',tT))\n",
    "                al_str <- paste(al_str, 'M')\n",
    "            }\n",
    "            prev_tT = tT\n",
    "            prev_tS = tS\n",
    "\n",
    "        }else{ # cut\n",
    "            if(prev_tT != tT){\n",
    "                #print(paste('I',' ',tT))\n",
    "                al_str <- paste(al_str, 'I')\n",
    "            }\n",
    "            if(prev_tS != tS){\n",
    "                #print(paste('D',' ',tS))\n",
    "                al_str <- paste(al_str, 'D')\n",
    "            }\n",
    "            prev_tT = tT\n",
    "            prev_tS = tS\n",
    "        }\n",
    "        # process terminal mimatch if exists\n",
    "        if(i==length(timepoints_S)){\n",
    "            if(tS!=npts){\n",
    "                j=1\n",
    "                while(j<=(npts-tS)){\n",
    "                    #print(paste('D', ' ',tS))\n",
    "                    al_str <- paste(al_str, 'D')\n",
    "                    j<-j+1\n",
    "                }\n",
    "            }\n",
    "            if(tT!=npts){\n",
    "                j=1\n",
    "                while(j<= (npts-tT) ){\n",
    "                    #print(paste('I', ' ',tT))\n",
    "                    al_str <- paste(al_str, 'I')\n",
    "                    j<-j+1\n",
    "                }\n",
    "            }\n",
    "        }\n",
    "    }\n",
    "    return(al_str)\n",
    "}\n",
    "\n",
    "\n",
    "run_tragedy_DTW <- function(GENE, cut_type, distance_metric, plot=FALSE){\n",
    "\n",
    "    KO_node_exp_mtx_g <- as(matrix(KO_node_exp_mtx[unique(c(GENE)), ], nrow=1), 'dgeMatrix')\n",
    "    WT_node_exp_mtx_g <- as(matrix(WT_node_exp_mtx[unique(c(GENE)), ], nrow=1), 'dgeMatrix')\n",
    "    rownames(KO_node_exp_mtx_g) = c(GENE)\n",
    "    colnames(KO_node_exp_mtx_g) = colnames(KO_node_exp_mtx)\n",
    "    rownames(WT_node_exp_mtx_g) = c(GENE)\n",
    "    colnames(WT_node_exp_mtx_g) = colnames(WT_node_exp_mtx)\n",
    "\n",
    "    distance_metric = 'euclidean'\n",
    "    dis_matrix <- dis_mtx_calculator(as.matrix(WT_node_exp_mtx_g), as.matrix(KO_node_exp_mtx_g), distance_metric) \n",
    "    # NOTE: Spearman does not work for single gene alignment\n",
    "    path_uncut <- pathfind(dis_matrix, cut_type = cut_type, method = \"mean\")\n",
    "    path_cut <- cut_deviate(path_uncut, dis_matrix, method = \"mean\")\n",
    "    if(plot){\n",
    "        PlotOutput(WT_tree, KO_tree, path_cut)\n",
    "        PlotAlignment(path_cut, dis_matrix)\n",
    "    }\n",
    "    return(path_cut)\n",
    "} \n",
    "\n",
    "run_tragedy_DTW_celllevel <- function(WT_node_exp_mtx_g, KO_node_exp_mtx_g, cut_type, distance_metric, plot=FALSE){\n",
    "\n",
    "    dis_matrix <- dis_mtx_calculator(as.matrix(WT_node_exp_mtx_g), as.matrix(KO_node_exp_mtx_g), distance_metric) \n",
    "    # NOTE: Spearman does not work for single gene alignment\n",
    "    path_uncut <- pathfind(dis_matrix, cut_type = cut_type, method = \"mean\")\n",
    "    path_cut <- cut_deviate(path_uncut, dis_matrix, method = \"mean\")\n",
    "    #PlotOutput(WT_tree, KO_tree, path_cut)\n",
    "    if(plot){\n",
    "        PlotOutput(WT_tree, KO_tree, path_cut)\n",
    "        PlotAlignment(path_cut, dis_matrix)\n",
    "    }\n",
    "    return(path_cut)\n",
    "    \n",
    "}"
   ]
  },
  {
   "cell_type": "code",
   "execution_count": 2,
   "id": "declared-delivery",
   "metadata": {},
   "outputs": [
    {
     "data": {
      "text/plain": [
       "R version 4.1.2 (2021-11-01)\n",
       "Platform: x86_64-conda-linux-gnu (64-bit)\n",
       "Running under: Ubuntu 20.04.1 LTS\n",
       "\n",
       "Matrix products: default\n",
       "BLAS/LAPACK: /home/jovyan/my-conda-envs/r-sceasy/lib/libopenblasp-r0.3.18.so\n",
       "\n",
       "locale:\n",
       " [1] LC_CTYPE=en_US.UTF-8       LC_NUMERIC=C              \n",
       " [3] LC_TIME=en_US.UTF-8        LC_COLLATE=en_US.UTF-8    \n",
       " [5] LC_MONETARY=en_US.UTF-8    LC_MESSAGES=en_US.UTF-8   \n",
       " [7] LC_PAPER=en_US.UTF-8       LC_NAME=C                 \n",
       " [9] LC_ADDRESS=C               LC_TELEPHONE=C            \n",
       "[11] LC_MEASUREMENT=en_US.UTF-8 LC_IDENTIFICATION=C       \n",
       "\n",
       "attached base packages:\n",
       "[1] stats4    stats     graphics  grDevices utils     datasets  methods  \n",
       "[8] base     \n",
       "\n",
       "other attached packages:\n",
       " [1] stringr_1.5.1               dplyr_1.0.8                \n",
       " [3] ggplot2_3.4.4               SingleCellExperiment_1.16.0\n",
       " [5] SummarizedExperiment_1.24.0 Biobase_2.54.0             \n",
       " [7] GenomicRanges_1.46.1        GenomeInfoDb_1.30.1        \n",
       " [9] IRanges_2.28.0              S4Vectors_0.32.4           \n",
       "[11] BiocGenerics_0.40.0         MatrixGenerics_1.6.0       \n",
       "[13] matrixStats_1.1.0           SeuratObject_4.0.4         \n",
       "[15] Seurat_4.1.0                RColorBrewer_1.1-3         \n",
       "[17] cellAlign_0.1.0             pheatmap_1.0.12            \n",
       "[19] r2r_0.1.1                   sceasy_0.0.6               \n",
       "[21] reticulate_1.31            \n",
       "\n",
       "loaded via a namespace (and not attached):\n",
       "  [1] Rtsne_0.15             colorspace_2.1-0       deldir_1.0-6          \n",
       "  [4] ellipsis_0.3.2         ggridges_0.5.3         IRdisplay_1.1         \n",
       "  [7] XVector_0.34.0         base64enc_0.1-3        proxy_0.4-27          \n",
       " [10] spatstat.data_2.1-2    leiden_0.3.9           listenv_0.8.0         \n",
       " [13] ggrepel_0.9.1          fansi_1.0.6            codetools_0.2-18      \n",
       " [16] splines_4.1.2          polyclip_1.10-0        IRkernel_1.3          \n",
       " [19] jsonlite_1.8.8         ica_1.0-2              cluster_2.1.2         \n",
       " [22] png_0.1-8              uwot_0.1.11            shiny_1.8.0           \n",
       " [25] sctransform_0.3.3      spatstat.sparse_2.1-0  compiler_4.1.2        \n",
       " [28] httr_1.4.7             assertthat_0.2.1       Matrix_1.4-1          \n",
       " [31] fastmap_1.1.1          lazyeval_0.2.2         cli_3.6.2             \n",
       " [34] later_1.3.2            htmltools_0.5.7        tools_4.1.2           \n",
       " [37] igraph_1.6.0           GenomeInfoDbData_1.2.7 gtable_0.3.4          \n",
       " [40] glue_1.6.2             RANN_2.6.1             reshape2_1.4.4        \n",
       " [43] Rcpp_1.0.11            scattermore_1.2        vctrs_0.6.5           \n",
       " [46] nlme_3.1-157           lmtest_0.9-40          spatstat.random_2.1-0 \n",
       " [49] globals_0.14.0         mime_0.12              miniUI_0.1.1.1        \n",
       " [52] lifecycle_1.0.4        irlba_2.3.5            goftest_1.2-3         \n",
       " [55] future_1.24.0          zlibbioc_1.40.0        MASS_7.3-56           \n",
       " [58] zoo_1.8-9              scales_1.3.0           spatstat.core_2.4-0   \n",
       " [61] promises_1.2.1         spatstat.utils_2.3-0   parallel_4.1.2        \n",
       " [64] pbapply_1.5-0          gridExtra_2.3          rpart_4.1.16          \n",
       " [67] stringi_1.8.3          repr_1.1.4             bitops_1.0-7          \n",
       " [70] rlang_1.1.2            pkgconfig_2.0.3        dtw_1.23-1            \n",
       " [73] evaluate_0.23          lattice_0.20-45        ROCR_1.0-11           \n",
       " [76] purrr_1.0.2            tensor_1.5             patchwork_1.1.1       \n",
       " [79] htmlwidgets_1.6.4      cowplot_1.1.1          tidyselect_1.1.2      \n",
       " [82] parallelly_1.30.0      RcppAnnoy_0.0.19       plyr_1.8.9            \n",
       " [85] magrittr_2.0.3         R6_2.5.1               generics_0.1.2        \n",
       " [88] DelayedArray_0.20.0    pbdZMQ_0.3-7           DBI_1.2.0             \n",
       " [91] withr_2.5.2            mgcv_1.8-39            pillar_1.9.0          \n",
       " [94] fitdistrplus_1.1-8     RCurl_1.98-1.13        survival_3.3-1        \n",
       " [97] abind_1.4-5            tibble_3.2.1           future.apply_1.8.1    \n",
       "[100] crayon_1.5.2           uuid_1.0-4             KernSmooth_2.23-20    \n",
       "[103] utf8_1.2.4             spatstat.geom_2.3-2    plotly_4.10.0         \n",
       "[106] grid_4.1.2             data.table_1.14.2      digest_0.6.33         \n",
       "[109] xtable_1.8-4           tidyr_1.2.0            httpuv_1.6.13         \n",
       "[112] munsell_0.5.0          viridisLite_0.4.2     "
      ]
     },
     "metadata": {},
     "output_type": "display_data"
    }
   ],
   "source": [
    " sessionInfo()"
   ]
  },
  {
   "cell_type": "markdown",
   "id": "sudden-potter",
   "metadata": {},
   "source": [
    "# Additional test -- for SP T lineage "
   ]
  },
  {
   "cell_type": "code",
   "execution_count": 45,
   "id": "worth-certificate",
   "metadata": {},
   "outputs": [
    {
     "name": "stderr",
     "output_type": "stream",
     "text": [
      "X -> counts\n",
      "\n",
      "X -> counts\n",
      "\n"
     ]
    }
   ],
   "source": [
    "numPts = 14\n",
    "npts = numPts\n",
    "R = sceasy::convertFormat('g2g_datasets_to_test/adata_ref_spt.h5ad', from=\"anndata\", to=\"seurat\")\n",
    "Q = sceasy::convertFormat('g2g_datasets_to_test/adata_ato_spt.h5ad', from=\"anndata\", to=\"seurat\")\n",
    "R_data = R@assays$RNA@data\n",
    "Q_data = Q@assays$RNA@data\n",
    "R_time = R$time\n",
    "Q_time = Q$time"
   ]
  },
  {
   "cell_type": "code",
   "execution_count": 51,
   "id": "stretch-alexandria",
   "metadata": {},
   "outputs": [],
   "source": [
    "#R@meta.data[,'ANNOTATION_COMB']\n",
    "#Q@meta.data[,'ANNOTATION_COMB']"
   ]
  },
  {
   "cell_type": "code",
   "execution_count": 46,
   "id": "crude-germany",
   "metadata": {},
   "outputs": [
    {
     "name": "stdout",
     "output_type": "stream",
     "text": [
      "[1] \"CellAlign DTW alignment: all:   M V V V V V V M W M W W W V W W W M W V V V W W\"\n"
     ]
    }
   ],
   "source": [
    "# CellAlign\n",
    "interGlobalPAM = cellAlign::interWeights(expDataBatch = R_data, trajCond = R_time,\n",
    "                                             winSz = 0.1, numPts = numPts)\n",
    "interGlobalLPS = cellAlign::interWeights(expDataBatch = Q_data, trajCond = Q_time,\n",
    "                                                 winSz = 0.1, numPts = numPts)\n",
    "interScaledGlobalLPS = cellAlign::scaleInterpolate(interGlobalLPS)\n",
    "interScaledGlobalPAM = cellAlign::scaleInterpolate(interGlobalPAM)\n",
    "\n",
    "# Chekcking HHEX DTW alignment (for G2G manuscript Fig 3a)\n",
    "#alignment = suppressMessages(run_global_dtw('HHEX', interGlobalLPS, interGlobalPAM, interScaledGlobalLPS, interScaledGlobalPAM )) \n",
    "#al_str = get_3_state_alignment_str(alignment)\n",
    "#print(paste('CellAlign DTW alignment: HHEX: ', al_str))\n",
    "# Checking all TFs\n",
    "alignment = suppressMessages(run_global_dtw_all_genes(interGlobalLPS, interGlobalPAM, interScaledGlobalLPS, interScaledGlobalPAM )) \n",
    "al_str = get_3_state_alignment_str(alignment)\n",
    "print(paste('CellAlign DTW alignment: all: ', al_str))\n"
   ]
  },
  {
   "cell_type": "code",
   "execution_count": 4,
   "id": "printable-start",
   "metadata": {},
   "outputs": [
    {
     "name": "stderr",
     "output_type": "stream",
     "text": [
      "Warning message:\n",
      "“useNames = NA is deprecated. Instead, specify either useNames = TRUE or useNames = FALSE.”\n",
      "Warning message:\n",
      "“useNames = NA is deprecated. Instead, specify either useNames = TRUE or useNames = FALSE.”\n"
     ]
    }
   ],
   "source": [
    "# TrAGEDy \n",
    "source(\"TrAGEDy/TrAGEDy_functions.R\")\n",
    "pseudo_end <- min(c(max(Q_time, R_time)))\n",
    "window <- 0.1 # we use 0.1 the same window size for benchmarking (as CellAlign, G2G also use that as default)\n",
    "WT_cell_pseudotime <- matrix(R_time, dimnames =list(row.names(R@meta.data)  ))\n",
    "KO_cell_pseudotime <- matrix(Q_time, dimnames =list(row.names(Q@meta.data)  ))\n",
    "WT_ID <- data.frame(R@meta.data$ANNOTATION_COMB, row.names =row.names(R@meta.data))\n",
    "KO_ID <- data.frame(Q@meta.data$ANNOTATION_COMB, row.names =row.names(Q@meta.data))\n",
    "WT_tree <- nodePseudotime(WT_cell_pseudotime,WT_ID, numPts, \"WT\")\n",
    "KO_tree <- nodePseudotime(KO_cell_pseudotime,KO_ID, numPts, \"KO\")"
   ]
  },
  {
   "cell_type": "code",
   "execution_count": 5,
   "id": "happy-homeless",
   "metadata": {},
   "outputs": [
    {
     "data": {
      "image/png": "[encoded data removed]",
      "text/plain": [
       "Plot with title “Histogram of cell_pseudo”"
      ]
     },
     "metadata": {
      "image/png": {
       "height": 420,
       "width": 420
      }
     },
     "output_type": "display_data"
    },
    {
     "data": {
      "text/html": [
       "<style>\n",
       ".list-inline {list-style: none; margin:0; padding: 0}\n",
       ".list-inline>li {display: inline-block}\n",
       ".list-inline>li:not(:last-child)::after {content: \"\\00b7\"; padding: 0 .5ex}\n",
       "</style>\n",
       "<ol class=list-inline><li>1371</li><li>20327</li></ol>\n"
      ],
      "text/latex": [
       "\\begin{enumerate*}\n",
       "\\item 1371\n",
       "\\item 20327\n",
       "\\end{enumerate*}\n"
      ],
      "text/markdown": [
       "1. 1371\n",
       "2. 20327\n",
       "\n",
       "\n"
      ],
      "text/plain": [
       "[1]  1371 20327"
      ]
     },
     "metadata": {},
     "output_type": "display_data"
    },
    {
     "data": {
      "text/html": [
       "<style>\n",
       ".list-inline {list-style: none; margin:0; padding: 0}\n",
       ".list-inline>li {display: inline-block}\n",
       ".list-inline>li:not(:last-child)::after {content: \"\\00b7\"; padding: 0 .5ex}\n",
       "</style>\n",
       "<ol class=list-inline><li>1371</li><li>17176</li></ol>\n"
      ],
      "text/latex": [
       "\\begin{enumerate*}\n",
       "\\item 1371\n",
       "\\item 17176\n",
       "\\end{enumerate*}\n"
      ],
      "text/markdown": [
       "1. 1371\n",
       "2. 17176\n",
       "\n",
       "\n"
      ],
      "text/plain": [
       "[1]  1371 17176"
      ]
     },
     "metadata": {},
     "output_type": "display_data"
    },
    {
     "name": "stdout",
     "output_type": "stream",
     "text": [
      "[1] \"TrAGEDy DTW alignment [minimum cut - euclidean]: HHEX:   D D D I D I I V V I I I V M W M W W W W M M M\"\n",
      "[1] \"The mean score of your optimal path is 3.58022714335218. You should consider whether or not these two processes share a common process\"\n"
     ]
    },
    {
     "name": "stderr",
     "output_type": "stream",
     "text": [
      "Warning message in get_thresholds(alignment, dis_mtx, method):\n",
      "“NAs introduced by coercion”\n",
      "Warning message in get_thresholds(alignment, dis_mtx, method):\n",
      "“NAs introduced by coercion”\n"
     ]
    },
    {
     "name": "stdout",
     "output_type": "stream",
     "text": [
      "[1] \"TrAGEDy DTW alignment [minimum cut - euclidean]: all  I I I I I I M M M W W W W M W W M I D I D I D\"\n"
     ]
    },
    {
     "name": "stderr",
     "output_type": "stream",
     "text": [
      "Warning message in if (index_choice == 1) {:\n",
      "“the condition has length > 1 and only the first element will be used”\n",
      "Warning message in get_thresholds(alignment, dis_mtx, method):\n",
      "“NAs introduced by coercion”\n",
      "Warning message in get_thresholds(alignment, dis_mtx, method):\n",
      "“NAs introduced by coercion”\n"
     ]
    },
    {
     "name": "stdout",
     "output_type": "stream",
     "text": [
      "[1] \"TrAGEDy DTW alignment [minimum cut - spearman]: all  I I I I I I M M M W M W W W W W M M M M\"\n"
     ]
    },
    {
     "data": {
      "text/html": [
       "<strong>png:</strong> 2"
      ],
      "text/latex": [
       "\\textbf{png:} 2"
      ],
      "text/markdown": [
       "**png:** 2"
      ],
      "text/plain": [
       "png \n",
       "  2 "
      ]
     },
     "metadata": {},
     "output_type": "display_data"
    },
    {
     "data": {
      "image/png": "[encoded data removed]",
      "text/plain": [
       "Plot with title “Histogram of cell_pseudo”"
      ]
     },
     "metadata": {
      "image/png": {
       "height": 420,
       "width": 420
      }
     },
     "output_type": "display_data"
    }
   ],
   "source": [
    "\n",
    "KO_cell_pseudo <- data.frame(\"ID\" = row.names(Q@meta.data), \"pseudo\" =  Q_time)\n",
    "KO_node_pseudo <- data.frame(\"ID\" = row.names(KO_tree$pseudotime), \"pseudo\" = KO_tree$pseudotime$pseudotime)\n",
    "WT_cell_pseudo <- data.frame(\"ID\" = row.names(R@meta.data), \"pseudo\" = R_time)\n",
    "WT_node_pseudo <- data.frame(\"ID\" = row.names(WT_tree$pseudotime), \"pseudo\" = WT_tree$pseudotime$pseudotime)\n",
    "KO_node_pseudotime <- matrix(KO_tree$pseudotime$pseudotime , dimnames = list(row.names(KO_tree$pseudotime)), )\n",
    "WT_node_pseudotime <- matrix(WT_tree$pseudotime$pseudotime , dimnames = list(row.names(WT_tree$pseudotime)), )\n",
    "#Get gene expression values for the interpolated points\n",
    "KO_node_exp_mtx <- nodeExpressionEstimate(Q_data, KO_node_pseudotime, KO_cell_pseudotime, window, adjust.window = T)\n",
    "WT_node_exp_mtx <- nodeExpressionEstimate(R_data, WT_node_pseudotime, WT_cell_pseudotime, window, adjust.window = T)\n",
    "\n",
    "dim(R)\n",
    "dim(Q)\n",
    "\n",
    "dev.new()\n",
    "\n",
    "cut_type = 'minimum'\n",
    "distance_metric = 'euclidean'\n",
    "alignment <- suppressWarnings(run_tragedy_DTW('HHEX', cut_type = cut_type, distance_metric=distance_metric))\n",
    "al_str <- get_5_state_alignment_str(alignment)\n",
    "print(paste('TrAGEDy DTW alignment [minimum cut - euclidean]: HHEX: ', al_str))\n",
    "\n",
    "cut_type = 'minimum'\n",
    "distance_metric = 'euclidean'\n",
    "alignment <- run_tragedy_DTW_celllevel(WT_node_exp_mtx, KO_node_exp_mtx, cut_type = cut_type, distance_metric = distance_metric)\n",
    "al_str <- get_5_state_alignment_str(alignment)\n",
    "print(paste('TrAGEDy DTW alignment [minimum cut - euclidean]: all', al_str))\n",
    "\n",
    "\n",
    "cut_type = 'minimum'\n",
    "distance_metric = 'spearman'\n",
    "alignment <- run_tragedy_DTW_celllevel(WT_node_exp_mtx, KO_node_exp_mtx, cut_type = cut_type, distance_metric = distance_metric)\n",
    "al_str <- get_5_state_alignment_str(alignment)\n",
    "print(paste('TrAGEDy DTW alignment [minimum cut - spearman]: all', al_str))\n",
    "\n",
    "\n",
    "dev.off()\n",
    "device_list <- dev.list()\n",
    "for (i in device_list) {\n",
    "    dev.off(i)\n",
    "}    "
   ]
  },
  {
   "cell_type": "code",
   "execution_count": 7,
   "id": "aboriginal-moment",
   "metadata": {},
   "outputs": [
    {
     "name": "stdout",
     "output_type": "stream",
     "text": [
      "[1] \"The mean score of your optimal path is 3.58022714335218. You should consider whether or not these two processes share a common process\"\n"
     ]
    },
    {
     "name": "stderr",
     "output_type": "stream",
     "text": [
      "Warning message in get_thresholds(alignment, dis_mtx, method):\n",
      "“NAs introduced by coercion”\n",
      "Warning message in get_thresholds(alignment, dis_mtx, method):\n",
      "“NAs introduced by coercion”\n"
     ]
    },
    {
     "data": {
      "image/png": "[encoded data removed]",
      "text/plain": [
       "Plot with title “Histogram of distances_1”"
      ]
     },
     "metadata": {
      "image/png": {
       "height": 420,
       "width": 420
      }
     },
     "output_type": "display_data"
    },
    {
     "name": "stdout",
     "output_type": "stream",
     "text": [
      "[1] \"TrAGEDy DTW alignment [minimum cut - euclidean]: all  I I I I I I M M M W W W W M W W M I D I D I D\"\n"
     ]
    },
    {
     "data": {
      "image/png": "[encoded data removed]",
      "text/plain": [
       "Plot with title “Histogram of distances_2”"
      ]
     },
     "metadata": {
      "image/png": {
       "height": 420,
       "width": 420
      }
     },
     "output_type": "display_data"
    }
   ],
   "source": [
    "cut_type = 'minimum'\n",
    "distance_metric = 'euclidean'\n",
    "alignment <- run_tragedy_DTW_celllevel(WT_node_exp_mtx, KO_node_exp_mtx, cut_type = cut_type, distance_metric = distance_metric)\n",
    "al_str <- get_5_state_alignment_str(alignment)\n",
    "print(paste('TrAGEDy DTW alignment [minimum cut - euclidean]: all', al_str))\n"
   ]
  },
  {
   "cell_type": "markdown",
   "id": "strange-schedule",
   "metadata": {},
   "source": [
    "# Additional test - Healthy vs. IPF"
   ]
  },
  {
   "cell_type": "code",
   "execution_count": 92,
   "id": "urban-lottery",
   "metadata": {},
   "outputs": [
    {
     "name": "stderr",
     "output_type": "stream",
     "text": [
      "X -> counts\n",
      "\n",
      "X -> counts\n",
      "\n"
     ]
    },
    {
     "name": "stdout",
     "output_type": "stream",
     "text": [
      "[1] \"CellAlign DTW alignment: all:   M V M M V V W W W M V V V V V V W W W W W W\"\n"
     ]
    }
   ],
   "source": [
    "numPts = 13\n",
    "npts = numPts\n",
    "R = sceasy::convertFormat('g2g_datasets_to_test/adata_healthy.h5ad', from=\"anndata\", to=\"seurat\")\n",
    "Q = sceasy::convertFormat('g2g_datasets_to_test/adata_IPF.h5ad', from=\"anndata\", to=\"seurat\")\n",
    "R_data = R@assays$RNA@data\n",
    "Q_data = Q@assays$RNA@data\n",
    "R_time = R$time\n",
    "Q_time = Q$time\n",
    "\n",
    "# CellAlign\n",
    "interGlobalPAM = cellAlign::interWeights(expDataBatch = R_data, trajCond = R_time,\n",
    "                                             winSz = 0.1, numPts = numPts)\n",
    "interGlobalLPS = cellAlign::interWeights(expDataBatch = Q_data, trajCond = Q_time,\n",
    "                                                 winSz = 0.1, numPts = numPts)\n",
    "interScaledGlobalLPS = cellAlign::scaleInterpolate(interGlobalLPS)\n",
    "interScaledGlobalPAM = cellAlign::scaleInterpolate(interGlobalPAM)\n",
    "\n",
    "# Chekcking HHEX DTW alignment (for G2G manuscript Fig 3a)\n",
    "#alignment = suppressMessages(run_global_dtw('HHEX', interGlobalLPS, interGlobalPAM, interScaledGlobalLPS, interScaledGlobalPAM )) \n",
    "#al_str = get_3_state_alignment_str(alignment)\n",
    "#print(paste('CellAlign DTW alignment: HHEX: ', al_str))\n",
    "# Checking all TFs\n",
    "alignment = suppressMessages(run_global_dtw_all_genes(interGlobalLPS, interGlobalPAM, interScaledGlobalLPS, interScaledGlobalPAM )) \n",
    "al_str = get_3_state_alignment_str(alignment)\n",
    "print(paste('CellAlign DTW alignment: all: ', al_str))"
   ]
  },
  {
   "cell_type": "code",
   "execution_count": 94,
   "id": "impressive-cradle",
   "metadata": {},
   "outputs": [
    {
     "data": {
      "text/html": [
       "<style>\n",
       ".list-inline {list-style: none; margin:0; padding: 0}\n",
       ".list-inline>li {display: inline-block}\n",
       ".list-inline>li:not(:last-child)::after {content: \"\\00b7\"; padding: 0 .5ex}\n",
       "</style>\n",
       "<ol class=list-inline><li>994</li><li>3157</li></ol>\n"
      ],
      "text/latex": [
       "\\begin{enumerate*}\n",
       "\\item 994\n",
       "\\item 3157\n",
       "\\end{enumerate*}\n"
      ],
      "text/markdown": [
       "1. 994\n",
       "2. 3157\n",
       "\n",
       "\n"
      ],
      "text/plain": [
       "[1]  994 3157"
      ]
     },
     "metadata": {},
     "output_type": "display_data"
    },
    {
     "data": {
      "text/html": [
       "<style>\n",
       ".list-inline {list-style: none; margin:0; padding: 0}\n",
       ".list-inline>li {display: inline-block}\n",
       ".list-inline>li:not(:last-child)::after {content: \"\\00b7\"; padding: 0 .5ex}\n",
       "</style>\n",
       "<ol class=list-inline><li>994</li><li>890</li></ol>\n"
      ],
      "text/latex": [
       "\\begin{enumerate*}\n",
       "\\item 994\n",
       "\\item 890\n",
       "\\end{enumerate*}\n"
      ],
      "text/markdown": [
       "1. 994\n",
       "2. 890\n",
       "\n",
       "\n"
      ],
      "text/plain": [
       "[1] 994 890"
      ]
     },
     "metadata": {},
     "output_type": "display_data"
    }
   ],
   "source": [
    "dim(R)\n",
    "dim(Q)"
   ]
  },
  {
   "cell_type": "code",
   "execution_count": 97,
   "id": "informational-happening",
   "metadata": {},
   "outputs": [
    {
     "data": {
      "image/png": "[encoded data removed]",
      "text/plain": [
       "Plot with title “Histogram of cell_pseudo”"
      ]
     },
     "metadata": {
      "image/png": {
       "height": 420,
       "width": 420
      }
     },
     "output_type": "display_data"
    },
    {
     "data": {
      "text/html": [
       "<style>\n",
       ".list-inline {list-style: none; margin:0; padding: 0}\n",
       ".list-inline>li {display: inline-block}\n",
       ".list-inline>li:not(:last-child)::after {content: \"\\00b7\"; padding: 0 .5ex}\n",
       "</style>\n",
       "<ol class=list-inline><li>994</li><li>3157</li></ol>\n"
      ],
      "text/latex": [
       "\\begin{enumerate*}\n",
       "\\item 994\n",
       "\\item 3157\n",
       "\\end{enumerate*}\n"
      ],
      "text/markdown": [
       "1. 994\n",
       "2. 3157\n",
       "\n",
       "\n"
      ],
      "text/plain": [
       "[1]  994 3157"
      ]
     },
     "metadata": {},
     "output_type": "display_data"
    },
    {
     "data": {
      "text/html": [
       "<style>\n",
       ".list-inline {list-style: none; margin:0; padding: 0}\n",
       ".list-inline>li {display: inline-block}\n",
       ".list-inline>li:not(:last-child)::after {content: \"\\00b7\"; padding: 0 .5ex}\n",
       "</style>\n",
       "<ol class=list-inline><li>994</li><li>890</li></ol>\n"
      ],
      "text/latex": [
       "\\begin{enumerate*}\n",
       "\\item 994\n",
       "\\item 890\n",
       "\\end{enumerate*}\n"
      ],
      "text/markdown": [
       "1. 994\n",
       "2. 890\n",
       "\n",
       "\n"
      ],
      "text/plain": [
       "[1] 994 890"
      ]
     },
     "metadata": {},
     "output_type": "display_data"
    },
    {
     "name": "stdout",
     "output_type": "stream",
     "text": [
      "[1] \"The mean score of your optimal path is 7.34333087037543. You should consider whether or not these two processes share a common process\"\n"
     ]
    },
    {
     "name": "stderr",
     "output_type": "stream",
     "text": [
      "Warning message in get_thresholds(alignment, dis_mtx, method):\n",
      "“NAs introduced by coercion”\n",
      "Warning message in get_thresholds(alignment, dis_mtx, method):\n",
      "“NAs introduced by coercion”\n"
     ]
    },
    {
     "name": "stdout",
     "output_type": "stream",
     "text": [
      "[1] \"TrAGEDy DTW alignment [minimum cut - euclidean]: all  M V M M M M M M V V I I I D D D D D D\"\n"
     ]
    },
    {
     "name": "stderr",
     "output_type": "stream",
     "text": [
      "Warning message in if (index_choice == 1) {:\n",
      "“the condition has length > 1 and only the first element will be used”\n",
      "Warning message in penalty_mtx[, 1] == choice[index_choice]:\n",
      "“longer object length is not a multiple of shorter object length”\n",
      "Warning message in get_thresholds(alignment, dis_mtx, method):\n",
      "“NAs introduced by coercion”\n",
      "Warning message in get_thresholds(alignment, dis_mtx, method):\n",
      "“NAs introduced by coercion”\n"
     ]
    },
    {
     "name": "stdout",
     "output_type": "stream",
     "text": [
      "[1] \"TrAGEDy DTW alignment [minimum cut - spearman]: all  M V M M M M M M I I I I D I D D D D D\"\n"
     ]
    },
    {
     "data": {
      "text/html": [
       "<strong>png:</strong> 2"
      ],
      "text/latex": [
       "\\textbf{png:} 2"
      ],
      "text/markdown": [
       "**png:** 2"
      ],
      "text/plain": [
       "png \n",
       "  2 "
      ]
     },
     "metadata": {},
     "output_type": "display_data"
    },
    {
     "data": {
      "image/png": "[encoded data removed]",
      "text/plain": [
       "Plot with title “Histogram of cell_pseudo”"
      ]
     },
     "metadata": {
      "image/png": {
       "height": 420,
       "width": 420
      }
     },
     "output_type": "display_data"
    }
   ],
   "source": [
    "\n",
    "\n",
    "# TrAGEDy\n",
    "pseudo_end <- min(c(max(Q_time, R_time)))\n",
    "window <- 0.1 # we use 0.1 the same window size for benchmarking (as CellAlign, G2G also use that as default)\n",
    "WT_cell_pseudotime <- matrix(R_time, dimnames =list(row.names(R@meta.data)  ))\n",
    "KO_cell_pseudotime <- matrix(Q_time, dimnames =list(row.names(Q@meta.data)  ))\n",
    "WT_ID <- data.frame(R@meta.data$ANNOTATION, row.names =row.names(R@meta.data))\n",
    "KO_ID <- data.frame(Q@meta.data$ANNOTATION, row.names =row.names(Q@meta.data))\n",
    "WT_tree <- nodePseudotime(WT_cell_pseudotime,WT_ID, numPts, \"WT\")\n",
    "KO_tree <- nodePseudotime(KO_cell_pseudotime,KO_ID, numPts, \"KO\")\n",
    "KO_cell_pseudo <- data.frame(\"ID\" = row.names(Q@meta.data), \"pseudo\" =  Q_time)\n",
    "KO_node_pseudo <- data.frame(\"ID\" = row.names(KO_tree$pseudotime), \"pseudo\" = KO_tree$pseudotime$pseudotime)\n",
    "WT_cell_pseudo <- data.frame(\"ID\" = row.names(R@meta.data), \"pseudo\" = R_time)\n",
    "WT_node_pseudo <- data.frame(\"ID\" = row.names(WT_tree$pseudotime), \"pseudo\" = WT_tree$pseudotime$pseudotime)\n",
    "KO_node_pseudotime <- matrix(KO_tree$pseudotime$pseudotime , dimnames = list(row.names(KO_tree$pseudotime)), )\n",
    "WT_node_pseudotime <- matrix(WT_tree$pseudotime$pseudotime , dimnames = list(row.names(WT_tree$pseudotime)), )\n",
    "#Get gene expression values for the interpolated points\n",
    "KO_node_exp_mtx <- nodeExpressionEstimate(Q_data, KO_node_pseudotime, KO_cell_pseudotime, window, adjust.window = T)\n",
    "WT_node_exp_mtx <- nodeExpressionEstimate(R_data, WT_node_pseudotime, WT_cell_pseudotime, window, adjust.window = T)\n",
    "\n",
    "dim(R)\n",
    "dim(Q)\n",
    "\n",
    "dev.new()\n",
    "\n",
    "cut_type = 'minimum'\n",
    "distance_metric = 'euclidean'\n",
    "alignment <- run_tragedy_DTW_celllevel(WT_node_exp_mtx, KO_node_exp_mtx, cut_type = cut_type, distance_metric = distance_metric)\n",
    "al_str <- get_5_state_alignment_str(alignment)\n",
    "print(paste('TrAGEDy DTW alignment [minimum cut - euclidean]: all', al_str))\n",
    "\n",
    "\n",
    "cut_type = 'minimum'\n",
    "distance_metric = 'spearman'\n",
    "alignment <- run_tragedy_DTW_celllevel(WT_node_exp_mtx, KO_node_exp_mtx, cut_type = cut_type, distance_metric = distance_metric)\n",
    "al_str <- get_5_state_alignment_str(alignment)\n",
    "print(paste('TrAGEDy DTW alignment [minimum cut - spearman]: all', al_str))\n",
    "\n",
    "\n",
    "dev.off()\n",
    "device_list <- dev.list()\n",
    "for (i in device_list) {\n",
    "    dev.off(i)\n",
    "}    "
   ]
  }
 ],
 "metadata": {
  "kernelspec": {
   "display_name": "r-sceasy",
   "language": "R",
   "name": "r-sceasy"
  },
  "language_info": {
   "codemirror_mode": "r",
   "file_extension": ".r",
   "mimetype": "text/x-r-source",
   "name": "R",
   "pygments_lexer": "r",
   "version": "4.1.2"
  }
 },
 "nbformat": 4,
 "nbformat_minor": 5
}
